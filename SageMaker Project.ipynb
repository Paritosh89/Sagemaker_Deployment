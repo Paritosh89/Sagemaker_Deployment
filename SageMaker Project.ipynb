{
 "cells": [
  {
   "cell_type": "markdown",
   "metadata": {},
   "source": [
    "# Creating a Sentiment Analysis Web App\n",
    "## Using PyTorch and SageMaker\n",
    "\n",
    "_Deep Learning Nanodegree Program | Deployment_\n",
    "\n",
    "---\n",
    "\n",
    "Now that we have a basic understanding of how SageMaker works we will try to use it to construct a complete project from end to end. Our goal will be to have a simple web page which a user can use to enter a movie review. The web page will then send the review off to our deployed model which will predict the sentiment of the entered review.\n",
    "\n",
    "## Instructions\n",
    "\n",
    "Some template code has already been provided for you, and you will need to implement additional functionality to successfully complete this notebook. You will not need to modify the included code beyond what is requested. Sections that begin with '**TODO**' in the header indicate that you need to complete or implement some portion within them. Instructions will be provided for each section and the specifics of the implementation are marked in the code block with a `# TODO: ...` comment. Please be sure to read the instructions carefully!\n",
    "\n",
    "In addition to implementing code, there will be questions for you to answer which relate to the task and your implementation. Each section where you will answer a question is preceded by a '**Question:**' header. Carefully read each question and provide your answer below the '**Answer:**' header by editing the Markdown cell.\n",
    "\n",
    "> **Note**: Code and Markdown cells can be executed using the **Shift+Enter** keyboard shortcut. In addition, a cell can be edited by typically clicking it (double-click for Markdown cells) or by pressing **Enter** while it is highlighted.\n",
    "\n",
    "## General Outline\n",
    "\n",
    "Recall the general outline for SageMaker projects using a notebook instance.\n",
    "\n",
    "1. Download or otherwise retrieve the data.\n",
    "2. Process / Prepare the data.\n",
    "3. Upload the processed data to S3.\n",
    "4. Train a chosen model.\n",
    "5. Test the trained model (typically using a batch transform job).\n",
    "6. Deploy the trained model.\n",
    "7. Use the deployed model.\n",
    "\n",
    "For this project, you will be following the steps in the general outline with some modifications. \n",
    "\n",
    "First, you will not be testing the model in its own step. You will still be testing the model, however, you will do it by deploying your model and then using the deployed model by sending the test data to it. One of the reasons for doing this is so that you can make sure that your deployed model is working correctly before moving forward.\n",
    "\n",
    "In addition, you will deploy and use your trained model a second time. In the second iteration you will customize the way that your trained model is deployed by including some of your own code. In addition, your newly deployed model will be used in the sentiment analysis web app."
   ]
  },
  {
   "cell_type": "markdown",
   "metadata": {},
   "source": [
    "## Step 1: Downloading the data\n",
    "\n",
    "As in the XGBoost in SageMaker notebook, we will be using the [IMDb dataset](http://ai.stanford.edu/~amaas/data/sentiment/)\n",
    "\n",
    "> Maas, Andrew L., et al. [Learning Word Vectors for Sentiment Analysis](http://ai.stanford.edu/~amaas/data/sentiment/). In _Proceedings of the 49th Annual Meeting of the Association for Computational Linguistics: Human Language Technologies_. Association for Computational Linguistics, 2011."
   ]
  },
  {
   "cell_type": "code",
   "execution_count": 1,
   "metadata": {},
   "outputs": [
    {
     "name": "stdout",
     "output_type": "stream",
     "text": [
      "mkdir: cannot create directory ‘../data’: File exists\n",
      "--2019-11-16 14:11:49--  http://ai.stanford.edu/~amaas/data/sentiment/aclImdb_v1.tar.gz\n",
      "Resolving ai.stanford.edu (ai.stanford.edu)... 171.64.68.10\n",
      "Connecting to ai.stanford.edu (ai.stanford.edu)|171.64.68.10|:80... connected.\n",
      "HTTP request sent, awaiting response... 200 OK\n",
      "Length: 84125825 (80M) [application/x-gzip]\n",
      "Saving to: ‘../data/aclImdb_v1.tar.gz’\n",
      "\n",
      "../data/aclImdb_v1. 100%[===================>]  80.23M  6.24MB/s    in 17s     \n",
      "\n",
      "2019-11-16 14:12:07 (4.59 MB/s) - ‘../data/aclImdb_v1.tar.gz’ saved [84125825/84125825]\n",
      "\n"
     ]
    }
   ],
   "source": [
    "%mkdir ../data\n",
    "!wget -O ../data/aclImdb_v1.tar.gz http://ai.stanford.edu/~amaas/data/sentiment/aclImdb_v1.tar.gz\n",
    "!tar -zxf ../data/aclImdb_v1.tar.gz -C ../data"
   ]
  },
  {
   "cell_type": "markdown",
   "metadata": {},
   "source": [
    "## Step 2: Preparing and Processing the data\n",
    "\n",
    "Also, as in the XGBoost notebook, we will be doing some initial data processing. The first few steps are the same as in the XGBoost example. To begin with, we will read in each of the reviews and combine them into a single input structure. Then, we will split the dataset into a training set and a testing set."
   ]
  },
  {
   "cell_type": "code",
   "execution_count": 2,
   "metadata": {},
   "outputs": [],
   "source": [
    "import os\n",
    "import glob\n",
    "\n",
    "def read_imdb_data(data_dir='../data/aclImdb'):\n",
    "    data = {}\n",
    "    labels = {}\n",
    "    \n",
    "    for data_type in ['train', 'test']:\n",
    "        data[data_type] = {}\n",
    "        labels[data_type] = {}\n",
    "        \n",
    "        for sentiment in ['pos', 'neg']:\n",
    "            data[data_type][sentiment] = []\n",
    "            labels[data_type][sentiment] = []\n",
    "            \n",
    "            path = os.path.join(data_dir, data_type, sentiment, '*.txt')\n",
    "            files = glob.glob(path)\n",
    "            \n",
    "            for f in files:\n",
    "                with open(f) as review:\n",
    "                    data[data_type][sentiment].append(review.read())\n",
    "                    # Here we represent a positive review by '1' and a negative review by '0'\n",
    "                    labels[data_type][sentiment].append(1 if sentiment == 'pos' else 0)\n",
    "                    \n",
    "            assert len(data[data_type][sentiment]) == len(labels[data_type][sentiment]), \\\n",
    "                    \"{}/{} data size does not match labels size\".format(data_type, sentiment)\n",
    "                \n",
    "    return data, labels"
   ]
  },
  {
   "cell_type": "code",
   "execution_count": 3,
   "metadata": {},
   "outputs": [
    {
     "name": "stdout",
     "output_type": "stream",
     "text": [
      "IMDB reviews: train = 12500 pos / 12500 neg, test = 12500 pos / 12500 neg\n"
     ]
    }
   ],
   "source": [
    "data, labels = read_imdb_data()\n",
    "print(\"IMDB reviews: train = {} pos / {} neg, test = {} pos / {} neg\".format(\n",
    "            len(data['train']['pos']), len(data['train']['neg']),\n",
    "            len(data['test']['pos']), len(data['test']['neg'])))"
   ]
  },
  {
   "cell_type": "markdown",
   "metadata": {},
   "source": [
    "Now that we've read the raw training and testing data from the downloaded dataset, we will combine the positive and negative reviews and shuffle the resulting records."
   ]
  },
  {
   "cell_type": "code",
   "execution_count": 4,
   "metadata": {},
   "outputs": [],
   "source": [
    "from sklearn.utils import shuffle\n",
    "\n",
    "def prepare_imdb_data(data, labels):\n",
    "    \"\"\"Prepare training and test sets from IMDb movie reviews.\"\"\"\n",
    "    \n",
    "    #Combine positive and negative reviews and labels\n",
    "    data_train = data['train']['pos'] + data['train']['neg']\n",
    "    data_test = data['test']['pos'] + data['test']['neg']\n",
    "    labels_train = labels['train']['pos'] + labels['train']['neg']\n",
    "    labels_test = labels['test']['pos'] + labels['test']['neg']\n",
    "    \n",
    "    #Shuffle reviews and corresponding labels within training and test sets\n",
    "    data_train, labels_train = shuffle(data_train, labels_train)\n",
    "    data_test, labels_test = shuffle(data_test, labels_test)\n",
    "    \n",
    "    # Return a unified training data, test data, training labels, test labets\n",
    "    return data_train, data_test, labels_train, labels_test"
   ]
  },
  {
   "cell_type": "code",
   "execution_count": 5,
   "metadata": {},
   "outputs": [
    {
     "name": "stdout",
     "output_type": "stream",
     "text": [
      "IMDb reviews (combined): train = 25000, test = 25000\n"
     ]
    }
   ],
   "source": [
    "train_X, test_X, train_y, test_y = prepare_imdb_data(data, labels)\n",
    "print(\"IMDb reviews (combined): train = {}, test = {}\".format(len(train_X), len(test_X)))"
   ]
  },
  {
   "cell_type": "markdown",
   "metadata": {},
   "source": [
    "Now that we have our training and testing sets unified and prepared, we should do a quick check and see an example of the data our model will be trained on. This is generally a good idea as it allows you to see how each of the further processing steps affects the reviews and it also ensures that the data has been loaded correctly."
   ]
  },
  {
   "cell_type": "code",
   "execution_count": 6,
   "metadata": {},
   "outputs": [
    {
     "name": "stdout",
     "output_type": "stream",
     "text": [
      "Fans of goremeister Herschell Gordon Lewis should look elsewhere if they are picking up this film for his usual buckets of blood being sloshed about, for there is precious little in the way of bloodletting in this film. Instead, Lewis decides to try and tell the bizarre story, relying on bargain-basement special effects on a budget which could have probably been doubled if the cast had turned out their pockets for change one day. Oddly enough, while cheap and very poorly acted (especially by McCabe as Mitchell), the total outlandishness of the plot keeps attention throughout. Imagine what this film could have been like with a decent budget! Overall, it strains for champagne tastes on a beer budget.\n",
      "0\n"
     ]
    }
   ],
   "source": [
    "print(train_X[100])\n",
    "print(train_y[100])"
   ]
  },
  {
   "cell_type": "markdown",
   "metadata": {},
   "source": [
    "The first step in processing the reviews is to make sure that any html tags that appear should be removed. In addition we wish to tokenize our input, that way words such as *entertained* and *entertaining* are considered the same with regard to sentiment analysis."
   ]
  },
  {
   "cell_type": "code",
   "execution_count": 7,
   "metadata": {},
   "outputs": [],
   "source": [
    "import nltk\n",
    "from nltk.corpus import stopwords\n",
    "from nltk.stem.porter import *\n",
    "\n",
    "import re\n",
    "from bs4 import BeautifulSoup\n",
    "\n",
    "def review_to_words(review):\n",
    "    nltk.download(\"stopwords\", quiet=True)\n",
    "    stemmer = PorterStemmer()\n",
    "    \n",
    "    text = BeautifulSoup(review, \"html.parser\").get_text() # Remove HTML tags\n",
    "    text = re.sub(r\"[^a-zA-Z0-9]\", \" \", text.lower()) # Convert to lower case\n",
    "    words = text.split() # Split string into words\n",
    "    words = [w for w in words if w not in stopwords.words(\"english\")] # Remove stopwords\n",
    "    words = [PorterStemmer().stem(w) for w in words] # stem\n",
    "    \n",
    "    return words"
   ]
  },
  {
   "cell_type": "markdown",
   "metadata": {},
   "source": [
    "The `review_to_words` method defined above uses `BeautifulSoup` to remove any html tags that appear and uses the `nltk` package to tokenize the reviews. As a check to ensure we know how everything is working, try applying `review_to_words` to one of the reviews in the training set."
   ]
  },
  {
   "cell_type": "code",
   "execution_count": 8,
   "metadata": {},
   "outputs": [
    {
     "data": {
      "text/plain": [
       "['fan',\n",
       " 'goremeist',\n",
       " 'herschel',\n",
       " 'gordon',\n",
       " 'lewi',\n",
       " 'look',\n",
       " 'elsewher',\n",
       " 'pick',\n",
       " 'film',\n",
       " 'usual',\n",
       " 'bucket',\n",
       " 'blood',\n",
       " 'slosh',\n",
       " 'preciou',\n",
       " 'littl',\n",
       " 'way',\n",
       " 'bloodlet',\n",
       " 'film',\n",
       " 'instead',\n",
       " 'lewi',\n",
       " 'decid',\n",
       " 'tri',\n",
       " 'tell',\n",
       " 'bizarr',\n",
       " 'stori',\n",
       " 'reli',\n",
       " 'bargain',\n",
       " 'basement',\n",
       " 'special',\n",
       " 'effect',\n",
       " 'budget',\n",
       " 'could',\n",
       " 'probabl',\n",
       " 'doubl',\n",
       " 'cast',\n",
       " 'turn',\n",
       " 'pocket',\n",
       " 'chang',\n",
       " 'one',\n",
       " 'day',\n",
       " 'oddli',\n",
       " 'enough',\n",
       " 'cheap',\n",
       " 'poorli',\n",
       " 'act',\n",
       " 'especi',\n",
       " 'mccabe',\n",
       " 'mitchel',\n",
       " 'total',\n",
       " 'outlandish',\n",
       " 'plot',\n",
       " 'keep',\n",
       " 'attent',\n",
       " 'throughout',\n",
       " 'imagin',\n",
       " 'film',\n",
       " 'could',\n",
       " 'like',\n",
       " 'decent',\n",
       " 'budget',\n",
       " 'overal',\n",
       " 'strain',\n",
       " 'champagn',\n",
       " 'tast',\n",
       " 'beer',\n",
       " 'budget']"
      ]
     },
     "execution_count": 8,
     "metadata": {},
     "output_type": "execute_result"
    }
   ],
   "source": [
    "# TODO: Apply review_to_words to a review (train_X[100] or any other review)\n",
    "review_to_words(train_X[100])\n"
   ]
  },
  {
   "cell_type": "markdown",
   "metadata": {},
   "source": [
    "**Question:** Above we mentioned that `review_to_words` method removes html formatting and allows us to tokenize the words found in a review, for example, converting *entertained* and *entertaining* into *entertain* so that they are treated as though they are the same word. What else, if anything, does this method do to the input?"
   ]
  },
  {
   "cell_type": "markdown",
   "metadata": {},
   "source": [
    "**Answer:** In the above section of review_to_words task the followings things are done\n",
    "1) It removes the HTML TAG\n",
    "2) It converts all character to lower case\n",
    "3) It removes the stopwords from the nltk library"
   ]
  },
  {
   "cell_type": "markdown",
   "metadata": {},
   "source": [
    "The method below applies the `review_to_words` method to each of the reviews in the training and testing datasets. In addition it caches the results. This is because performing this processing step can take a long time. This way if you are unable to complete the notebook in the current session, you can come back without needing to process the data a second time."
   ]
  },
  {
   "cell_type": "code",
   "execution_count": 9,
   "metadata": {},
   "outputs": [],
   "source": [
    "import pickle\n",
    "\n",
    "cache_dir = os.path.join(\"../cache\", \"sentiment_analysis\")  # where to store cache files\n",
    "os.makedirs(cache_dir, exist_ok=True)  # ensure cache directory exists\n",
    "\n",
    "def preprocess_data(data_train, data_test, labels_train, labels_test,\n",
    "                    cache_dir=cache_dir, cache_file=\"preprocessed_data.pkl\"):\n",
    "    \"\"\"Convert each review to words; read from cache if available.\"\"\"\n",
    "\n",
    "    # If cache_file is not None, try to read from it first\n",
    "    cache_data = None\n",
    "    if cache_file is not None:\n",
    "        try:\n",
    "            with open(os.path.join(cache_dir, cache_file), \"rb\") as f:\n",
    "                cache_data = pickle.load(f)\n",
    "            print(\"Read preprocessed data from cache file:\", cache_file)\n",
    "        except:\n",
    "            pass  # unable to read from cache, but that's okay\n",
    "    \n",
    "    # If cache is missing, then do the heavy lifting\n",
    "    if cache_data is None:\n",
    "        # Preprocess training and test data to obtain words for each review\n",
    "        #words_train = list(map(review_to_words, data_train))\n",
    "        #words_test = list(map(review_to_words, data_test))\n",
    "        words_train = [review_to_words(review) for review in data_train]\n",
    "        words_test = [review_to_words(review) for review in data_test]\n",
    "        \n",
    "        # Write to cache file for future runs\n",
    "        if cache_file is not None:\n",
    "            cache_data = dict(words_train=words_train, words_test=words_test,\n",
    "                              labels_train=labels_train, labels_test=labels_test)\n",
    "            with open(os.path.join(cache_dir, cache_file), \"wb\") as f:\n",
    "                pickle.dump(cache_data, f)\n",
    "            print(\"Wrote preprocessed data to cache file:\", cache_file)\n",
    "    else:\n",
    "        # Unpack data loaded from cache file\n",
    "        words_train, words_test, labels_train, labels_test = (cache_data['words_train'],\n",
    "                cache_data['words_test'], cache_data['labels_train'], cache_data['labels_test'])\n",
    "    \n",
    "    return words_train, words_test, labels_train, labels_test"
   ]
  },
  {
   "cell_type": "code",
   "execution_count": 10,
   "metadata": {},
   "outputs": [
    {
     "name": "stdout",
     "output_type": "stream",
     "text": [
      "Read preprocessed data from cache file: preprocessed_data.pkl\n"
     ]
    }
   ],
   "source": [
    "# Preprocess data\n",
    "train_X, test_X, train_y, test_y = preprocess_data(train_X, test_X, train_y, test_y)"
   ]
  },
  {
   "cell_type": "markdown",
   "metadata": {},
   "source": [
    "## Transform the data\n",
    "\n",
    "In the XGBoost notebook we transformed the data from its word representation to a bag-of-words feature representation. For the model we are going to construct in this notebook we will construct a feature representation which is very similar. To start, we will represent each word as an integer. Of course, some of the words that appear in the reviews occur very infrequently and so likely don't contain much information for the purposes of sentiment analysis. The way we will deal with this problem is that we will fix the size of our working vocabulary and we will only include the words that appear most frequently. We will then combine all of the infrequent words into a single category and, in our case, we will label it as `1`.\n",
    "\n",
    "Since we will be using a recurrent neural network, it will be convenient if the length of each review is the same. To do this, we will fix a size for our reviews and then pad short reviews with the category 'no word' (which we will label `0`) and truncate long reviews."
   ]
  },
  {
   "cell_type": "markdown",
   "metadata": {},
   "source": [
    "### (TODO) Create a word dictionary\n",
    "\n",
    "To begin with, we need to construct a way to map words that appear in the reviews to integers. Here we fix the size of our vocabulary (including the 'no word' and 'infrequent' categories) to be `5000` but you may wish to change this to see how it affects the model.\n",
    "\n",
    "> **TODO:** Complete the implementation for the `build_dict()` method below. Note that even though the vocab_size is set to `5000`, we only want to construct a mapping for the most frequently appearing `4998` words. This is because we want to reserve the special labels `0` for 'no word' and `1` for 'infrequent word'."
   ]
  },
  {
   "cell_type": "code",
   "execution_count": 11,
   "metadata": {},
   "outputs": [],
   "source": [
    "import numpy as np\n",
    "\n",
    "def build_dict(data, vocab_size = 5000):\n",
    "    \"\"\"Construct and return a dictionary mapping each of the most frequently appearing words to a unique integer.\"\"\"\n",
    "    \n",
    "    # TODO: Determine how often each word appears in `data`. Note that `data` is a list of sentences and that a\n",
    "    #       sentence is a list of words.\n",
    "    \n",
    "    word_count = {} # A dict storing the words that appear in the reviews along with how often they occur\n",
    "    \n",
    "    # TODO: Sort the words found in `data` so that sorted_words[0] is the most frequently appearing word and\n",
    "    #       sorted_words[-1] is the least frequently appearing word.\n",
    "    for line in data:\n",
    "        for word in line:\n",
    "            if word in word_count:\n",
    "                word_count[word] += 1\n",
    "            else:\n",
    "                word_count[word] = 1\n",
    "                \n",
    "    \n",
    "    sorted_words = [v[0] for v in sorted(word_count.items(), key = lambda kv: kv[1], reverse = True)]\n",
    "    \n",
    "    word_dict = {} # This is what we are building, a dictionary that translates words into integers\n",
    "    for idx, word in enumerate(sorted_words[:vocab_size - 2]): # The -2 is so that we save room for the 'no word'\n",
    "        word_dict[word] = idx + 2                              # 'infrequent' labels\n",
    "        \n",
    "    return word_dict"
   ]
  },
  {
   "cell_type": "code",
   "execution_count": 12,
   "metadata": {},
   "outputs": [
    {
     "name": "stdout",
     "output_type": "stream",
     "text": [
      "{'movi': 2, 'film': 3, 'one': 4, 'like': 5, 'time': 6, 'good': 7, 'make': 8, 'charact': 9, 'get': 10, 'see': 11, 'watch': 12, 'stori': 13, 'even': 14, 'would': 15, 'realli': 16, 'well': 17, 'scene': 18, 'look': 19, 'show': 20, 'much': 21, 'end': 22, 'peopl': 23, 'bad': 24, 'go': 25, 'great': 26, 'also': 27, 'first': 28, 'love': 29, 'think': 30, 'way': 31, 'act': 32, 'play': 33, 'made': 34, 'thing': 35, 'could': 36, 'know': 37, 'say': 38, 'seem': 39, 'work': 40, 'plot': 41, 'two': 42, 'actor': 43, 'year': 44, 'come': 45, 'mani': 46, 'seen': 47, 'take': 48, 'life': 49, 'want': 50, 'never': 51, 'littl': 52, 'best': 53, 'tri': 54, 'man': 55, 'ever': 56, 'give': 57, 'better': 58, 'still': 59, 'perform': 60, 'find': 61, 'feel': 62, 'part': 63, 'back': 64, 'use': 65, 'someth': 66, 'director': 67, 'actual': 68, 'interest': 69, 'lot': 70, 'real': 71, 'old': 72, 'cast': 73, 'though': 74, 'live': 75, 'star': 76, 'enjoy': 77, 'guy': 78, 'anoth': 79, 'new': 80, 'role': 81, 'noth': 82, '10': 83, 'funni': 84, 'music': 85, 'point': 86, 'start': 87, 'set': 88, 'girl': 89, 'origin': 90, 'day': 91, 'world': 92, 'everi': 93, 'believ': 94, 'turn': 95, 'quit': 96, 'direct': 97, 'us': 98, 'thought': 99, 'fact': 100, 'minut': 101, 'horror': 102, 'kill': 103, 'action': 104, 'comedi': 105, 'pretti': 106, 'young': 107, 'wonder': 108, 'happen': 109, 'around': 110, 'got': 111, 'effect': 112, 'right': 113, 'long': 114, 'howev': 115, 'big': 116, 'line': 117, 'famili': 118, 'enough': 119, 'seri': 120, 'may': 121, 'need': 122, 'fan': 123, 'bit': 124, 'script': 125, 'beauti': 126, 'person': 127, 'becom': 128, 'without': 129, 'must': 130, 'alway': 131, 'friend': 132, 'tell': 133, 'reason': 134, 'saw': 135, 'last': 136, 'final': 137, 'kid': 138, 'almost': 139, 'put': 140, 'least': 141, 'sure': 142, 'done': 143, 'whole': 144, 'place': 145, 'complet': 146, 'kind': 147, 'expect': 148, 'differ': 149, 'shot': 150, 'far': 151, 'mean': 152, 'anyth': 153, 'book': 154, 'laugh': 155, 'might': 156, 'name': 157, 'sinc': 158, 'begin': 159, '2': 160, 'probabl': 161, 'woman': 162, 'help': 163, 'entertain': 164, 'let': 165, 'screen': 166, 'call': 167, 'tv': 168, 'moment': 169, 'away': 170, 'read': 171, 'yet': 172, 'rather': 173, 'worst': 174, 'run': 175, 'fun': 176, 'lead': 177, 'hard': 178, 'audienc': 179, 'idea': 180, 'anyon': 181, 'episod': 182, 'american': 183, 'found': 184, 'appear': 185, 'bore': 186, 'especi': 187, 'although': 188, 'hope': 189, 'cours': 190, 'keep': 191, 'anim': 192, 'job': 193, 'goe': 194, 'move': 195, 'sens': 196, 'version': 197, 'dvd': 198, 'war': 199, 'money': 200, 'someon': 201, 'mind': 202, 'mayb': 203, 'problem': 204, 'true': 205, 'hous': 206, 'everyth': 207, 'nice': 208, 'second': 209, 'rate': 210, 'three': 211, 'night': 212, 'follow': 213, 'face': 214, 'recommend': 215, 'main': 216, 'product': 217, 'worth': 218, 'leav': 219, 'human': 220, 'special': 221, 'excel': 222, 'togeth': 223, 'wast': 224, 'everyon': 225, 'sound': 226, 'john': 227, 'hand': 228, '1': 229, 'father': 230, 'later': 231, 'eye': 232, 'said': 233, 'view': 234, 'instead': 235, 'review': 236, 'boy': 237, 'high': 238, 'hour': 239, 'miss': 240, 'talk': 241, 'classic': 242, 'wife': 243, 'understand': 244, 'left': 245, 'care': 246, 'black': 247, 'death': 248, 'open': 249, 'murder': 250, 'write': 251, 'half': 252, 'head': 253, 'rememb': 254, 'chang': 255, 'viewer': 256, 'fight': 257, 'gener': 258, 'surpris': 259, 'includ': 260, 'short': 261, 'die': 262, 'fall': 263, 'less': 264, 'els': 265, 'entir': 266, 'piec': 267, 'involv': 268, 'pictur': 269, 'simpli': 270, 'top': 271, 'power': 272, 'home': 273, 'total': 274, 'usual': 275, 'budget': 276, 'attempt': 277, 'suppos': 278, 'releas': 279, 'hollywood': 280, 'terribl': 281, 'song': 282, 'men': 283, 'possibl': 284, 'featur': 285, 'portray': 286, 'disappoint': 287, 'poor': 288, '3': 289, 'coupl': 290, 'stupid': 291, 'camera': 292, 'dead': 293, 'wrong': 294, 'produc': 295, 'low': 296, 'either': 297, 'video': 298, 'aw': 299, 'definit': 300, 'except': 301, 'rest': 302, 'given': 303, 'absolut': 304, 'women': 305, 'lack': 306, 'word': 307, 'writer': 308, 'titl': 309, 'talent': 310, 'decid': 311, 'full': 312, 'perfect': 313, 'along': 314, 'style': 315, 'close': 316, 'truli': 317, 'school': 318, 'emot': 319, 'save': 320, 'age': 321, 'sex': 322, 'next': 323, 'bring': 324, 'mr': 325, 'case': 326, 'killer': 327, 'heart': 328, 'comment': 329, 'sort': 330, 'creat': 331, 'perhap': 332, 'came': 333, 'brother': 334, 'sever': 335, 'joke': 336, 'art': 337, 'dialogu': 338, 'game': 339, 'small': 340, 'base': 341, 'flick': 342, 'written': 343, 'sequenc': 344, 'meet': 345, 'earli': 346, 'often': 347, 'other': 348, 'mother': 349, 'develop': 350, 'humor': 351, 'actress': 352, 'consid': 353, 'dark': 354, 'guess': 355, 'amaz': 356, 'unfortun': 357, 'lost': 358, 'light': 359, 'exampl': 360, 'cinema': 361, 'drama': 362, 'ye': 363, 'white': 364, 'experi': 365, 'imagin': 366, 'mention': 367, 'stop': 368, 'natur': 369, 'forc': 370, 'manag': 371, 'felt': 372, 'cut': 373, 'present': 374, 'children': 375, 'fail': 376, 'son': 377, 'qualiti': 378, 'support': 379, 'car': 380, 'ask': 381, 'hit': 382, 'side': 383, 'voic': 384, 'extrem': 385, 'impress': 386, 'evil': 387, 'wors': 388, 'went': 389, 'stand': 390, 'certainli': 391, 'basic': 392, 'oh': 393, 'overal': 394, 'favorit': 395, 'horribl': 396, 'mysteri': 397, 'number': 398, 'type': 399, 'danc': 400, 'wait': 401, 'hero': 402, '5': 403, 'alreadi': 404, 'learn': 405, 'matter': 406, '4': 407, 'michael': 408, 'genr': 409, 'fine': 410, 'despit': 411, 'throughout': 412, 'walk': 413, 'success': 414, 'histori': 415, 'question': 416, 'zombi': 417, 'town': 418, 'relationship': 419, 'realiz': 420, 'child': 421, 'past': 422, 'daughter': 423, 'late': 424, 'b': 425, 'wish': 426, 'credit': 427, 'hate': 428, 'event': 429, 'theme': 430, 'touch': 431, 'citi': 432, 'today': 433, 'sometim': 434, 'behind': 435, 'god': 436, 'twist': 437, 'sit': 438, 'annoy': 439, 'deal': 440, 'stay': 441, 'abl': 442, 'rent': 443, 'pleas': 444, 'edit': 445, 'blood': 446, 'deserv': 447, 'comic': 448, 'anyway': 449, 'appar': 450, 'soon': 451, 'gave': 452, 'etc': 453, 'level': 454, 'slow': 455, 'chanc': 456, 'score': 457, 'bodi': 458, 'brilliant': 459, 'incred': 460, 'figur': 461, 'situat': 462, 'major': 463, 'self': 464, 'stuff': 465, 'decent': 466, 'element': 467, 'return': 468, 'dream': 469, 'obvious': 470, 'continu': 471, 'order': 472, 'pace': 473, 'ridicul': 474, 'happi': 475, 'add': 476, 'group': 477, 'highli': 478, 'thank': 479, 'ladi': 480, 'novel': 481, 'speak': 482, 'pain': 483, 'career': 484, 'shoot': 485, 'strang': 486, 'heard': 487, 'sad': 488, 'husband': 489, 'polic': 490, 'import': 491, 'break': 492, 'took': 493, 'cannot': 494, 'strong': 495, 'robert': 496, 'predict': 497, 'violenc': 498, 'hilari': 499, 'recent': 500, 'countri': 501, 'known': 502, 'particularli': 503, 'pick': 504, 'documentari': 505, 'season': 506, 'critic': 507, 'jame': 508, 'compar': 509, 'obviou': 510, 'alon': 511, 'told': 512, 'state': 513, 'visual': 514, 'rock': 515, 'offer': 516, 'exist': 517, 'theater': 518, 'opinion': 519, 'gore': 520, 'crap': 521, 'hold': 522, 'result': 523, 'hear': 524, 'room': 525, 'realiti': 526, 'effort': 527, 'clich': 528, 'thriller': 529, 'caus': 530, 'sequel': 531, 'explain': 532, 'serious': 533, 'king': 534, 'local': 535, 'ago': 536, 'none': 537, 'hell': 538, 'note': 539, 'allow': 540, 'david': 541, 'sister': 542, 'simpl': 543, 'femal': 544, 'deliv': 545, 'ok': 546, 'convinc': 547, 'class': 548, 'check': 549, 'suspens': 550, 'win': 551, 'buy': 552, 'oscar': 553, 'huge': 554, 'valu': 555, 'sexual': 556, 'scari': 557, 'cool': 558, 'similar': 559, 'excit': 560, 'apart': 561, 'exactli': 562, 'provid': 563, 'avoid': 564, 'shown': 565, 'seriou': 566, 'english': 567, 'whose': 568, 'taken': 569, 'cinematographi': 570, 'shock': 571, 'polit': 572, 'spoiler': 573, 'offic': 574, 'across': 575, 'middl': 576, 'street': 577, 'pass': 578, 'messag': 579, 'silli': 580, 'charm': 581, 'somewhat': 582, 'modern': 583, 'filmmak': 584, 'confus': 585, 'form': 586, 'tale': 587, 'singl': 588, 'jack': 589, 'mostli': 590, 'carri': 591, 'attent': 592, 'william': 593, 'sing': 594, 'five': 595, 'subject': 596, 'richard': 597, 'prove': 598, 'stage': 599, 'team': 600, 'unlik': 601, 'cop': 602, 'georg': 603, 'televis': 604, 'monster': 605, 'earth': 606, 'cover': 607, 'villain': 608, 'pay': 609, 'marri': 610, 'toward': 611, 'build': 612, 'parent': 613, 'pull': 614, 'due': 615, 'fill': 616, 'respect': 617, 'four': 618, 'dialog': 619, 'remind': 620, 'futur': 621, 'typic': 622, 'weak': 623, '7': 624, 'cheap': 625, 'intellig': 626, 'atmospher': 627, 'british': 628, '80': 629, 'clearli': 630, 'paul': 631, 'non': 632, 'dog': 633, '8': 634, 'artist': 635, 'knew': 636, 'fast': 637, 'crime': 638, 'easili': 639, 'escap': 640, 'doubt': 641, 'adult': 642, 'detail': 643, 'date': 644, 'romant': 645, 'member': 646, 'fire': 647, 'drive': 648, 'gun': 649, 'straight': 650, 'beyond': 651, 'fit': 652, 'attack': 653, 'imag': 654, 'upon': 655, 'posit': 656, 'whether': 657, 'fantast': 658, 'peter': 659, 'captur': 660, 'appreci': 661, 'aspect': 662, 'ten': 663, 'plan': 664, 'discov': 665, 'remain': 666, 'near': 667, 'period': 668, 'realist': 669, 'air': 670, 'mark': 671, 'red': 672, 'dull': 673, 'adapt': 674, 'within': 675, 'spend': 676, 'lose': 677, 'materi': 678, 'color': 679, 'chase': 680, 'mari': 681, 'storylin': 682, 'forget': 683, 'bunch': 684, 'clear': 685, 'lee': 686, 'victim': 687, 'nearli': 688, 'box': 689, 'york': 690, 'match': 691, 'inspir': 692, 'finish': 693, 'mess': 694, 'standard': 695, 'easi': 696, 'truth': 697, 'suffer': 698, 'busi': 699, 'space': 700, 'dramat': 701, 'bill': 702, 'western': 703, 'e': 704, 'list': 705, 'battl': 706, 'notic': 707, 'de': 708, 'french': 709, 'ad': 710, '9': 711, 'tom': 712, 'larg': 713, 'among': 714, 'eventu': 715, 'train': 716, 'accept': 717, 'agre': 718, 'spirit': 719, 'soundtrack': 720, 'third': 721, 'teenag': 722, 'adventur': 723, 'soldier': 724, 'sorri': 725, 'famou': 726, 'suggest': 727, 'drug': 728, 'normal': 729, 'babi': 730, 'cri': 731, 'troubl': 732, 'ultim': 733, 'contain': 734, 'certain': 735, 'cultur': 736, 'romanc': 737, 'rare': 738, 'lame': 739, 'somehow': 740, 'disney': 741, 'mix': 742, 'gone': 743, 'cartoon': 744, 'student': 745, 'fear': 746, 'reveal': 747, 'kept': 748, 'suck': 749, 'attract': 750, 'appeal': 751, 'premis': 752, 'greatest': 753, 'secret': 754, 'design': 755, 'shame': 756, 'throw': 757, 'scare': 758, 'copi': 759, 'wit': 760, 'admit': 761, 'america': 762, 'particular': 763, 'brought': 764, 'relat': 765, 'screenplay': 766, 'whatev': 767, 'pure': 768, '70': 769, 'averag': 770, 'harri': 771, 'master': 772, 'describ': 773, 'treat': 774, 'male': 775, '20': 776, 'issu': 777, 'fantasi': 778, 'warn': 779, 'inde': 780, 'background': 781, 'forward': 782, 'project': 783, 'free': 784, 'japanes': 785, 'memor': 786, 'poorli': 787, 'award': 788, 'locat': 789, 'potenti': 790, 'amus': 791, 'struggl': 792, 'weird': 793, 'magic': 794, 'societi': 795, 'okay': 796, 'imdb': 797, 'accent': 798, 'doctor': 799, 'hot': 800, 'water': 801, '30': 802, 'alien': 803, 'express': 804, 'dr': 805, 'odd': 806, 'crazi': 807, 'choic': 808, 'studio': 809, 'fiction': 810, 'control': 811, 'becam': 812, 'masterpiec': 813, 'fli': 814, 'difficult': 815, 'joe': 816, 'scream': 817, 'costum': 818, 'lover': 819, 'refer': 820, 'uniqu': 821, 'remak': 822, 'girlfriend': 823, 'vampir': 824, 'prison': 825, 'execut': 826, 'wear': 827, 'jump': 828, 'unless': 829, 'wood': 830, 'creepi': 831, 'cheesi': 832, 'superb': 833, 'otherwis': 834, 'parti': 835, 'roll': 836, 'ghost': 837, 'mad': 838, 'public': 839, 'depict': 840, 'week': 841, 'jane': 842, 'badli': 843, 'earlier': 844, 'moral': 845, 'fi': 846, 'dumb': 847, 'grow': 848, 'flaw': 849, 'deep': 850, 'sci': 851, 'cat': 852, 'maker': 853, 'footag': 854, 'older': 855, 'connect': 856, 'bother': 857, 'plenti': 858, 'outsid': 859, 'stick': 860, 'gay': 861, 'catch': 862, 'co': 863, 'plu': 864, 'popular': 865, 'equal': 866, 'social': 867, 'disturb': 868, 'quickli': 869, 'perfectli': 870, 'dress': 871, '90': 872, 'era': 873, 'mistak': 874, 'lie': 875, 'ride': 876, 'previou': 877, 'combin': 878, 'concept': 879, 'band': 880, 'answer': 881, 'surviv': 882, 'rich': 883, 'front': 884, 'sweet': 885, 'christma': 886, 'insid': 887, 'eat': 888, 'concern': 889, 'bare': 890, 'beat': 891, 'listen': 892, 'ben': 893, 'c': 894, 'term': 895, 'serv': 896, 'german': 897, 'la': 898, 'meant': 899, 'hardli': 900, 'stereotyp': 901, 'law': 902, 'innoc': 903, 'desper': 904, 'memori': 905, 'promis': 906, 'intent': 907, 'cute': 908, 'steal': 909, 'variou': 910, 'inform': 911, 'brain': 912, 'post': 913, 'tone': 914, 'island': 915, 'amount': 916, 'compani': 917, 'track': 918, 'nuditi': 919, 'store': 920, 'claim': 921, '50': 922, 'flat': 923, 'hair': 924, 'land': 925, 'univers': 926, 'fairli': 927, 'danger': 928, 'scott': 929, 'kick': 930, 'player': 931, 'crew': 932, 'plain': 933, 'step': 934, 'toni': 935, 'share': 936, 'centuri': 937, 'tast': 938, 'engag': 939, 'achiev': 940, 'travel': 941, 'cold': 942, 'suit': 943, 'rip': 944, 'record': 945, 'sadli': 946, 'manner': 947, 'wrote': 948, 'tension': 949, 'spot': 950, 'intens': 951, 'fascin': 952, 'familiar': 953, 'burn': 954, 'depth': 955, 'remark': 956, 'histor': 957, 'destroy': 958, 'sleep': 959, 'purpos': 960, 'languag': 961, 'ignor': 962, 'ruin': 963, 'delight': 964, 'italian': 965, 'unbeliev': 966, 'soul': 967, 'abil': 968, 'collect': 969, 'clever': 970, 'detect': 971, 'violent': 972, 'rape': 973, 'reach': 974, 'door': 975, 'scienc': 976, 'liter': 977, 'trash': 978, 'caught': 979, 'commun': 980, 'reveng': 981, 'creatur': 982, 'approach': 983, 'trip': 984, 'intrigu': 985, 'fashion': 986, 'introduc': 987, 'paint': 988, 'skill': 989, 'complex': 990, 'channel': 991, 'camp': 992, 'christian': 993, 'hole': 994, 'extra': 995, 'immedi': 996, 'mental': 997, 'limit': 998, 'ann': 999, 'million': 1000, 'comput': 1001, 'mere': 1002, '6': 1003, 'slightli': 1004, 'slasher': 1005, 'conclus': 1006, 'suddenli': 1007, 'imposs': 1008, 'neither': 1009, 'teen': 1010, 'crimin': 1011, 'nation': 1012, 'spent': 1013, 'physic': 1014, 'respons': 1015, 'planet': 1016, 'receiv': 1017, 'fake': 1018, 'blue': 1019, 'sick': 1020, 'bizarr': 1021, 'embarrass': 1022, 'indian': 1023, '15': 1024, 'ring': 1025, 'drop': 1026, 'pop': 1027, 'drag': 1028, 'haunt': 1029, 'suspect': 1030, 'pointless': 1031, 'search': 1032, 'edg': 1033, 'handl': 1034, 'biggest': 1035, 'common': 1036, 'faith': 1037, 'arriv': 1038, 'hurt': 1039, 'technic': 1040, 'angel': 1041, 'dad': 1042, 'genuin': 1043, 'awesom': 1044, 'solid': 1045, 'f': 1046, 'focu': 1047, 'former': 1048, 'van': 1049, 'colleg': 1050, 'count': 1051, 'tear': 1052, 'heavi': 1053, 'rais': 1054, 'wall': 1055, 'laughabl': 1056, 'younger': 1057, 'visit': 1058, 'excus': 1059, 'sign': 1060, 'fair': 1061, 'cult': 1062, 'tough': 1063, 'motion': 1064, 'key': 1065, 'desir': 1066, 'super': 1067, 'addit': 1068, 'stun': 1069, 'exploit': 1070, 'cloth': 1071, 'tortur': 1072, 'smith': 1073, 'davi': 1074, 'race': 1075, 'cross': 1076, 'author': 1077, 'jim': 1078, 'focus': 1079, 'minor': 1080, 'compel': 1081, 'consist': 1082, 'pathet': 1083, 'commit': 1084, 'chemistri': 1085, 'park': 1086, 'obsess': 1087, 'frank': 1088, 'tradit': 1089, 'grade': 1090, 'asid': 1091, '60': 1092, 'brutal': 1093, 'somewher': 1094, 'steve': 1095, 'explor': 1096, 'grant': 1097, 'u': 1098, 'rule': 1099, 'depress': 1100, 'opportun': 1101, 'honest': 1102, 'besid': 1103, 'anti': 1104, 'dub': 1105, 'intend': 1106, 'trailer': 1107, 'bar': 1108, 'scientist': 1109, 'longer': 1110, 'west': 1111, 'regard': 1112, 'decad': 1113, 'judg': 1114, 'silent': 1115, 'creativ': 1116, 'armi': 1117, 'wild': 1118, 'south': 1119, 'g': 1120, 'stewart': 1121, 'draw': 1122, 'road': 1123, 'govern': 1124, 'ex': 1125, 'boss': 1126, 'practic': 1127, 'motiv': 1128, 'surprisingli': 1129, 'club': 1130, 'festiv': 1131, 'gang': 1132, 'green': 1133, 'redeem': 1134, 'london': 1135, 'page': 1136, 'idiot': 1137, 'aliv': 1138, 'militari': 1139, 'display': 1140, 'machin': 1141, 'repeat': 1142, 'thrill': 1143, 'yeah': 1144, 'folk': 1145, 'nobodi': 1146, '100': 1147, '40': 1148, 'journey': 1149, 'garbag': 1150, 'smile': 1151, 'ground': 1152, 'tire': 1153, 'mood': 1154, 'bought': 1155, 'stone': 1156, 'sam': 1157, 'cost': 1158, 'mouth': 1159, 'noir': 1160, 'terrif': 1161, 'agent': 1162, 'requir': 1163, 'utterli': 1164, 'honestli': 1165, 'area': 1166, 'sexi': 1167, 'geniu': 1168, 'report': 1169, 'humour': 1170, 'enter': 1171, 'investig': 1172, 'glad': 1173, 'serial': 1174, 'passion': 1175, 'narr': 1176, 'occasion': 1177, 'climax': 1178, 'marriag': 1179, 'industri': 1180, 'studi': 1181, 'center': 1182, 'charli': 1183, 'ship': 1184, 'demon': 1185, 'nowher': 1186, 'hors': 1187, 'bear': 1188, 'loos': 1189, 'wow': 1190, 'hang': 1191, 'graphic': 1192, 'admir': 1193, 'giant': 1194, 'send': 1195, 'loud': 1196, 'damn': 1197, 'nake': 1198, 'subtl': 1199, 'rel': 1200, 'profession': 1201, 'blow': 1202, 'bottom': 1203, 'insult': 1204, 'batman': 1205, 'doubl': 1206, 'kelli': 1207, 'boyfriend': 1208, 'r': 1209, 'initi': 1210, 'frame': 1211, 'gem': 1212, 'opera': 1213, 'challeng': 1214, 'cinemat': 1215, 'church': 1216, 'drawn': 1217, 'affect': 1218, 'fulli': 1219, 'j': 1220, 'evid': 1221, 'nightmar': 1222, 'l': 1223, 'seek': 1224, 'arm': 1225, 'essenti': 1226, 'conflict': 1227, 'henri': 1228, 'wind': 1229, 'grace': 1230, 'christoph': 1231, 'assum': 1232, 'witch': 1233, 'narrat': 1234, 'push': 1235, 'hunt': 1236, 'wise': 1237, 'chri': 1238, 'repres': 1239, 'month': 1240, 'nomin': 1241, 'sceneri': 1242, 'avail': 1243, 'hide': 1244, 'affair': 1245, 'bond': 1246, 'smart': 1247, 'thu': 1248, 'justic': 1249, 'flashback': 1250, 'interview': 1251, 'outstand': 1252, 'satisfi': 1253, 'constantli': 1254, 'presenc': 1255, 'central': 1256, 'bed': 1257, 'sell': 1258, 'iron': 1259, 'content': 1260, 'everybodi': 1261, 'gag': 1262, 'hotel': 1263, 'slowli': 1264, 'hire': 1265, 'system': 1266, 'individu': 1267, 'hey': 1268, 'adam': 1269, 'charl': 1270, 'thrown': 1271, 'mediocr': 1272, 'jone': 1273, 'allen': 1274, 'billi': 1275, 'ray': 1276, 'lesson': 1277, 'cameo': 1278, 'photographi': 1279, 'pari': 1280, 'fellow': 1281, 'strike': 1282, 'absurd': 1283, 'independ': 1284, 'rise': 1285, 'brief': 1286, 'neg': 1287, 'impact': 1288, 'phone': 1289, 'born': 1290, 'model': 1291, 'ill': 1292, 'angl': 1293, 'fresh': 1294, 'spoil': 1295, 'likabl': 1296, 'abus': 1297, 'discuss': 1298, 'hill': 1299, 'sight': 1300, 'ahead': 1301, 'sent': 1302, 'photograph': 1303, 'shine': 1304, 'logic': 1305, 'blame': 1306, 'occur': 1307, 'bruce': 1308, 'mainli': 1309, 'forev': 1310, 'skip': 1311, 'commerci': 1312, 'surround': 1313, 'segment': 1314, 'teacher': 1315, 'held': 1316, 'blond': 1317, 'zero': 1318, 'satir': 1319, 'trap': 1320, 'summer': 1321, 'resembl': 1322, 'six': 1323, 'queen': 1324, 'ball': 1325, 'fool': 1326, 'twice': 1327, 'tragedi': 1328, 'sub': 1329, 'reaction': 1330, 'pack': 1331, 'bomb': 1332, 'protagonist': 1333, 'hospit': 1334, 'will': 1335, 'mile': 1336, 'sport': 1337, 'vote': 1338, 'mom': 1339, 'jerri': 1340, 'drink': 1341, 'trust': 1342, 'encount': 1343, 'plane': 1344, 'station': 1345, 'current': 1346, 'program': 1347, 'al': 1348, 'celebr': 1349, 'choos': 1350, 'martin': 1351, 'join': 1352, 'tragic': 1353, 'lord': 1354, 'favourit': 1355, 'field': 1356, 'round': 1357, 'jean': 1358, 'robot': 1359, 'vision': 1360, 'arthur': 1361, 'tie': 1362, 'fortun': 1363, 'random': 1364, 'roger': 1365, 'dread': 1366, 'intern': 1367, 'psycholog': 1368, 'improv': 1369, 'prefer': 1370, 'epic': 1371, 'nonsens': 1372, 'highlight': 1373, 'legend': 1374, 'pleasur': 1375, 'formula': 1376, 'tape': 1377, '11': 1378, 'dollar': 1379, 'wide': 1380, 'object': 1381, 'fox': 1382, 'thin': 1383, 'gorgeou': 1384, 'porn': 1385, 'buddi': 1386, 'influenc': 1387, 'ugli': 1388, 'nasti': 1389, 'prepar': 1390, 'ii': 1391, 'progress': 1392, 'warm': 1393, 'supposedli': 1394, 'reflect': 1395, 'youth': 1396, 'worthi': 1397, 'length': 1398, 'unusu': 1399, 'latter': 1400, 'crash': 1401, 'shop': 1402, 'superior': 1403, 'childhood': 1404, 'seven': 1405, 'theatr': 1406, 'remot': 1407, 'funniest': 1408, 'pilot': 1409, 'paid': 1410, 'disgust': 1411, 'castl': 1412, 'convers': 1413, 'trick': 1414, 'fell': 1415, 'disast': 1416, 'gangster': 1417, 'establish': 1418, 'rob': 1419, 'ident': 1420, 'heaven': 1421, 'mine': 1422, 'suicid': 1423, 'disappear': 1424, 'forgotten': 1425, 'decis': 1426, 'tend': 1427, 'heroin': 1428, 'mask': 1429, 'singer': 1430, 'partner': 1431, 'brian': 1432, 'recogn': 1433, 'alan': 1434, 'desert': 1435, 'ms': 1436, 'stuck': 1437, 'sky': 1438, 'p': 1439, 'thoroughli': 1440, 'replac': 1441, 'accur': 1442, 'market': 1443, 'danni': 1444, 'eddi': 1445, 'seemingli': 1446, 'clue': 1447, 'uncl': 1448, 'andi': 1449, 'commentari': 1450, 'jackson': 1451, 'devil': 1452, 'that': 1453, 'refus': 1454, 'pair': 1455, 'therefor': 1456, 'fate': 1457, 'unit': 1458, 'fault': 1459, 'river': 1460, 'ed': 1461, 'accid': 1462, 'afraid': 1463, 'tune': 1464, 'clean': 1465, 'stephen': 1466, 'hidden': 1467, 'russian': 1468, 'readi': 1469, 'convey': 1470, 'quick': 1471, 'captain': 1472, 'irrit': 1473, 'instanc': 1474, 'test': 1475, 'european': 1476, 'daniel': 1477, 'insan': 1478, 'frustrat': 1479, 'chines': 1480, 'wed': 1481, '1950': 1482, 'rescu': 1483, 'food': 1484, 'dirti': 1485, 'angri': 1486, 'lock': 1487, 'joy': 1488, 'price': 1489, 'steven': 1490, 'bland': 1491, 'cage': 1492, 'anymor': 1493, 'rang': 1494, 'wooden': 1495, 'jason': 1496, 'rush': 1497, 'news': 1498, 'n': 1499, 'worri': 1500, 'led': 1501, 'martial': 1502, '12': 1503, 'board': 1504, 'twenti': 1505, 'symbol': 1506, 'hunter': 1507, 'cgi': 1508, 'transform': 1509, 'onto': 1510, 'sentiment': 1511, 'x': 1512, 'piti': 1513, 'johnni': 1514, 'invent': 1515, 'explan': 1516, 'attitud': 1517, 'process': 1518, 'awar': 1519, 'owner': 1520, 'aim': 1521, 'necessari': 1522, 'favor': 1523, 'floor': 1524, 'target': 1525, 'energi': 1526, 'religi': 1527, 'opposit': 1528, 'insight': 1529, 'window': 1530, 'chick': 1531, 'blind': 1532, 'movement': 1533, 'mountain': 1534, 'comparison': 1535, 'deepli': 1536, 'research': 1537, 'possess': 1538, 'rain': 1539, 'grand': 1540, 'comed': 1541, 'whatsoev': 1542, 'mid': 1543, 'shadow': 1544, 'began': 1545, 'bank': 1546, 'princ': 1547, 'parodi': 1548, 'pre': 1549, 'friendship': 1550, 'credibl': 1551, 'weapon': 1552, 'taylor': 1553, 'flesh': 1554, 'teach': 1555, 'dougla': 1556, 'hint': 1557, 'protect': 1558, 'bloodi': 1559, 'terror': 1560, 'marvel': 1561, 'leader': 1562, 'watchabl': 1563, 'anybodi': 1564, 'drunk': 1565, 'load': 1566, 'superman': 1567, 'accord': 1568, 'brown': 1569, 'freddi': 1570, 'tim': 1571, 'appropri': 1572, 'seat': 1573, 'hitler': 1574, 'jeff': 1575, 'unknown': 1576, 'knock': 1577, 'villag': 1578, 'keaton': 1579, 'charg': 1580, 'enemi': 1581, 'england': 1582, 'empti': 1583, 'media': 1584, 'unnecessari': 1585, 'strength': 1586, 'dare': 1587, 'wave': 1588, 'perspect': 1589, 'craft': 1590, 'utter': 1591, 'buck': 1592, 'correct': 1593, 'kiss': 1594, 'contrast': 1595, 'nativ': 1596, 'ford': 1597, 'magnific': 1598, 'knowledg': 1599, 'speed': 1600, 'chill': 1601, 'nazi': 1602, 'anywher': 1603, 'distract': 1604, 'soap': 1605, '1980': 1606, 'mission': 1607, 'fred': 1608, 'breath': 1609, 'ice': 1610, 'jr': 1611, 'moon': 1612, 'crowd': 1613, 'joan': 1614, 'kate': 1615, 'soft': 1616, 'frighten': 1617, '000': 1618, 'hundr': 1619, 'nick': 1620, 'dick': 1621, 'dan': 1622, 'dozen': 1623, 'somebodi': 1624, 'radio': 1625, 'simon': 1626, 'shakespear': 1627, 'loss': 1628, 'academi': 1629, 'thousand': 1630, 'andrew': 1631, 'quot': 1632, 'vehicl': 1633, 'sum': 1634, 'account': 1635, 'root': 1636, 'behavior': 1637, 'convent': 1638, 'leg': 1639, '1970': 1640, 'gold': 1641, 'regular': 1642, 'demand': 1643, 'compet': 1644, 'pretenti': 1645, 'worker': 1646, 'lynch': 1647, 'japan': 1648, 'candi': 1649, 'notabl': 1650, 'stretch': 1651, 'interpret': 1652, 'privat': 1653, 'explos': 1654, 'constant': 1655, 'debut': 1656, 'tarzan': 1657, 'revolv': 1658, 'translat': 1659, 'prais': 1660, 'spi': 1661, 'sea': 1662, 'technolog': 1663, 'quiet': 1664, 'failur': 1665, 'sat': 1666, 'jesu': 1667, 'threaten': 1668, 'ass': 1669, 'franc': 1670, 'toy': 1671, 'met': 1672, 'kevin': 1673, 'higher': 1674, 'punch': 1675, 'aid': 1676, 'mike': 1677, 'interact': 1678, 'abandon': 1679, 'vh': 1680, 'bet': 1681, 'command': 1682, 'confront': 1683, 'separ': 1684, 'belong': 1685, 'stunt': 1686, 'servic': 1687, 'site': 1688, 'recal': 1689, 'gotten': 1690, 'techniqu': 1691, 'bug': 1692, 'freak': 1693, 'cabl': 1694, 'foot': 1695, 'african': 1696, 'bright': 1697, 'jimmi': 1698, 'capabl': 1699, 'fu': 1700, 'stock': 1701, 'boat': 1702, 'clark': 1703, 'fat': 1704, 'presid': 1705, 'succeed': 1706, 'spanish': 1707, 'structur': 1708, 'gene': 1709, 'kidnap': 1710, 'paper': 1711, 'belief': 1712, 'whilst': 1713, 'factor': 1714, 'educ': 1715, 'tree': 1716, 'attend': 1717, 'realis': 1718, 'bob': 1719, 'complic': 1720, 'witti': 1721, 'realism': 1722, 'assist': 1723, 'finest': 1724, 'broken': 1725, 'santa': 1726, 'v': 1727, 'smoke': 1728, 'depart': 1729, 'up': 1730, 'determin': 1731, 'observ': 1732, 'oper': 1733, 'rubbish': 1734, 'hat': 1735, 'routin': 1736, 'fame': 1737, 'domin': 1738, 'lewi': 1739, 'advanc': 1740, 'safe': 1741, 'kinda': 1742, 'hook': 1743, 'lone': 1744, 'foreign': 1745, 'morgan': 1746, 'numer': 1747, 'rank': 1748, 'vs': 1749, 'civil': 1750, 'washington': 1751, 'shape': 1752, 'rose': 1753, 'werewolf': 1754, 'shallow': 1755, 'morn': 1756, 'gari': 1757, 'ordinari': 1758, 'kong': 1759, 'winner': 1760, 'accomplish': 1761, 'virtual': 1762, 'whenev': 1763, 'peac': 1764, 'grab': 1765, 'h': 1766, 'offens': 1767, 'luck': 1768, 'contriv': 1769, 'bigger': 1770, 'complain': 1771, 'activ': 1772, 'unfunni': 1773, 'patient': 1774, 'welcom': 1775, 'con': 1776, 'dimension': 1777, 'trek': 1778, 'pretend': 1779, 'code': 1780, 'dri': 1781, 'flash': 1782, 'lesbian': 1783, 'eric': 1784, 'wake': 1785, 'cain': 1786, 'dancer': 1787, 'albert': 1788, 'guard': 1789, 'corrupt': 1790, 'manipul': 1791, 'statu': 1792, 'gain': 1793, 'speech': 1794, 'sourc': 1795, 'awkward': 1796, 'signific': 1797, 'context': 1798, 'corni': 1799, 'anthoni': 1800, '13': 1801, 'sean': 1802, 'psycho': 1803, 'clip': 1804, 'religion': 1805, 'curiou': 1806, 'advic': 1807, 'theatric': 1808, 'w': 1809, 'priest': 1810, 'reli': 1811, 'flow': 1812, 'addict': 1813, 'jennif': 1814, 'specif': 1815, 'howard': 1816, 'asian': 1817, 'secur': 1818, 'skin': 1819, 'organ': 1820, 'core': 1821, 'promot': 1822, 'golden': 1823, 'luke': 1824, 'comfort': 1825, 'lucki': 1826, 'cash': 1827, 'cheat': 1828, 'associ': 1829, 'lower': 1830, 'dislik': 1831, 'frankli': 1832, 'devic': 1833, 'contribut': 1834, 'spell': 1835, 'regret': 1836, 'degre': 1837, 'frequent': 1838, 'balanc': 1839, 'wing': 1840, 'lake': 1841, 'sake': 1842, 'print': 1843, 'forgiv': 1844, 'mass': 1845, 'thoma': 1846, 'betti': 1847, 'crack': 1848, 'unexpect': 1849, 'gordon': 1850, 'construct': 1851, 'unfold': 1852, 'invit': 1853, 'categori': 1854, 'grown': 1855, 'depend': 1856, 'amateur': 1857, 'walter': 1858, 'matur': 1859, 'grew': 1860, 'honor': 1861, 'intellectu': 1862, 'condit': 1863, 'anna': 1864, 'veteran': 1865, 'mirror': 1866, 'sole': 1867, 'spectacular': 1868, 'sudden': 1869, 'liner': 1870, 'gift': 1871, 'grip': 1872, 'card': 1873, 'demonstr': 1874, 'experienc': 1875, 'overli': 1876, 'meanwhil': 1877, 'robin': 1878, 'freedom': 1879, 'section': 1880, 'unabl': 1881, 'subtitl': 1882, 'brilliantli': 1883, 'colour': 1884, 'oliv': 1885, 'circumst': 1886, 'crappi': 1887, 'sheriff': 1888, 'theori': 1889, 'drew': 1890, 'matt': 1891, 'cook': 1892, 'sheer': 1893, 'path': 1894, 'pile': 1895, 'parker': 1896, 'altern': 1897, 'laughter': 1898, 'treatment': 1899, 'hall': 1900, 'defin': 1901, 'accident': 1902, 'relief': 1903, 'lawyer': 1904, 'wander': 1905, 'sinatra': 1906, 'captiv': 1907, 'hank': 1908, 'dragon': 1909, 'moor': 1910, 'halloween': 1911, 'gratuit': 1912, 'unintent': 1913, 'jacki': 1914, 'broadway': 1915, 'barbara': 1916, 'k': 1917, 'cowboy': 1918, 'wayn': 1919, 'wound': 1920, 'kung': 1921, 'surreal': 1922, 'winter': 1923, 'statement': 1924, 'spoof': 1925, 'canadian': 1926, 'treasur': 1927, 'cheer': 1928, 'compos': 1929, 'gonna': 1930, 'fare': 1931, 'fish': 1932, 'emerg': 1933, 'unrealist': 1934, 'victor': 1935, 'woodi': 1936, 'sensit': 1937, 'neighbor': 1938, 'driven': 1939, 'sympathet': 1940, 'ran': 1941, 'overlook': 1942, 'menac': 1943, 'expos': 1944, 'authent': 1945, 'glass': 1946, 'topic': 1947, 'gross': 1948, 'chief': 1949, 'michel': 1950, 'ancient': 1951, 'handsom': 1952, 'russel': 1953, 'built': 1954, 'nevertheless': 1955, 'feet': 1956, 'comedian': 1957, 'stranger': 1958, 'pleasant': 1959, 'network': 1960, 'contemporari': 1961, 'cinderella': 1962, 'consider': 1963, 'miser': 1964, 'gori': 1965, 'letter': 1966, 'underr': 1967, 'endless': 1968, 'earn': 1969, 'blockbust': 1970, 'brook': 1971, 'solv': 1972, 'switch': 1973, 'victoria': 1974, 'bullet': 1975, 'virgin': 1976, 'joseph': 1977, 'edward': 1978, 'convict': 1979, 'scale': 1980, '0': 1981, 'scenario': 1982, 'alex': 1983, 'cynic': 1984, 'chosen': 1985, 'sword': 1986, 'com': 1987, 'outrag': 1988, 'gut': 1989, 'curs': 1990, 'juli': 1991, 'screenwrit': 1992, 'proper': 1993, 'uk': 1994, 'substanc': 1995, 'wrap': 1996, 'driver': 1997, 'monkey': 1998, 'par': 1999, 'court': 2000, 'bird': 2001, 'remov': 2002, 'indic': 2003, 'naiv': 2004, 'rental': 2005, 'grave': 2006, 'advertis': 2007, 'consequ': 2008, 'roy': 2009, 'inevit': 2010, 'loser': 2011, 'nanci': 2012, 'le': 2013, 'germani': 2014, 'bridg': 2015, 'fatal': 2016, 'invis': 2017, 'slap': 2018, 'brave': 2019, 'footbal': 2020, 'loui': 2021, 'anger': 2022, 'ador': 2023, 'provok': 2024, 'chan': 2025, 'alcohol': 2026, 'anderson': 2027, 'ryan': 2028, 'stumbl': 2029, 'professor': 2030, 'willi': 2031, 'assassin': 2032, 'australian': 2033, 'sharp': 2034, 'patrick': 2035, '1930': 2036, 'bat': 2037, 'liber': 2038, 'amateurish': 2039, 'heck': 2040, 'lousi': 2041, 'trilog': 2042, 'deni': 2043, 'saturday': 2044, 'cell': 2045, 'eight': 2046, 'strongli': 2047, 'refresh': 2048, 'ape': 2049, 'sin': 2050, 'san': 2051, 'vagu': 2052, 'resid': 2053, 'justifi': 2054, 'defeat': 2055, 'terrifi': 2056, 'mini': 2057, 'creator': 2058, 'reput': 2059, 'sympathi': 2060, 'indi': 2061, 'expert': 2062, 'tediou': 2063, 'tabl': 2064, 'endur': 2065, 'task': 2066, 'prevent': 2067, 'offend': 2068, 'employ': 2069, 'trial': 2070, 'rival': 2071, 'che': 2072, 'basebal': 2073, 'imit': 2074, 'pitch': 2075, 'complaint': 2076, 'europ': 2077, 'max': 2078, 'beach': 2079, 'dig': 2080, 'fairi': 2081, 'weekend': 2082, 'purchas': 2083, 'murphi': 2084, 'risk': 2085, 'format': 2086, 'nois': 2087, 'reminisc': 2088, 'powel': 2089, 'titan': 2090, 'tini': 2091, 'hype': 2092, 'glimps': 2093, 'harsh': 2094, 'bite': 2095, 'strip': 2096, 'till': 2097, '14': 2098, 'prime': 2099, 'fals': 2100, 'asleep': 2101, 'north': 2102, 'texa': 2103, 'descript': 2104, 'destruct': 2105, 'africa': 2106, 'revel': 2107, 'sitcom': 2108, 'excess': 2109, 'surfac': 2110, 'uninterest': 2111, 'spin': 2112, 'arrest': 2113, 'semi': 2114, 'inner': 2115, 'maintain': 2116, 'twin': 2117, 'dinosaur': 2118, 'massiv': 2119, 'makeup': 2120, 'argu': 2121, 'hitchcock': 2122, 'controversi': 2123, 'melodrama': 2124, 'kim': 2125, 'reject': 2126, 'ludicr': 2127, 'ideal': 2128, 'expens': 2129, 'insist': 2130, 'stare': 2131, 'erot': 2132, 'nail': 2133, 'supernatur': 2134, 'ala': 2135, 'forest': 2136, 'subplot': 2137, 'press': 2138, 'host': 2139, 'ga': 2140, 'atroci': 2141, 'columbo': 2142, 'identifi': 2143, 'presum': 2144, 'notch': 2145, 'dude': 2146, 'cant': 2147, 'method': 2148, 'character': 2149, 'plagu': 2150, 'forgett': 2151, 'crude': 2152, 'guest': 2153, 'closer': 2154, 'border': 2155, 'landscap': 2156, 'ear': 2157, 'lion': 2158, 'princess': 2159, 'foster': 2160, 'beast': 2161, 'previous': 2162, 'storytel': 2163, 'pacino': 2164, 'bound': 2165, 'aunt': 2166, 'damag': 2167, 'jungl': 2168, 'accus': 2169, 'urban': 2170, 'birth': 2171, 'thirti': 2172, 'propaganda': 2173, 'guid': 2174, 'nude': 2175, 'doll': 2176, 'jess': 2177, 'emma': 2178, 'chose': 2179, '25': 2180, 'warrior': 2181, 'whoever': 2182, 'pet': 2183, 'mate': 2184, 'mainstream': 2185, 'size': 2186, 'deadli': 2187, 'gritti': 2188, 'exact': 2189, 'upset': 2190, 'cooper': 2191, 'poster': 2192, 'merit': 2193, 'friday': 2194, 'latest': 2195, 'ton': 2196, 'popul': 2197, 'citizen': 2198, 'sun': 2199, 'buff': 2200, 'wilson': 2201, 'settl': 2202, 'blend': 2203, '1990': 2204, 'warner': 2205, 'contest': 2206, 'contact': 2207, 'corps': 2208, 'rough': 2209, 'overcom': 2210, 'bu': 2211, 'environ': 2212, 'metal': 2213, 'widow': 2214, 'select': 2215, 'pitt': 2216, 'mgm': 2217, 'alic': 2218, 'rat': 2219, 'particip': 2220, 'ted': 2221, 'link': 2222, 'guilti': 2223, 'revolut': 2224, 'lift': 2225, 'accompani': 2226, 'johnson': 2227, 'afternoon': 2228, 'prostitut': 2229, 'corner': 2230, 'moron': 2231, 'matrix': 2232, '1960': 2233, 'corpor': 2234, 'exagger': 2235, 'doom': 2236, 'sincer': 2237, 'clair': 2238, 'hood': 2239, 'multipl': 2240, 'friendli': 2241, 'leagu': 2242, 'instal': 2243, 'holm': 2244, 'examin': 2245, 'string': 2246, 'aka': 2247, 'grim': 2248, 'hip': 2249, 'advis': 2250, 'sunday': 2251, 'defend': 2252, 'lugosi': 2253, 'junk': 2254, 'blah': 2255, 'campi': 2256, 'irish': 2257, 'rachel': 2258, 'confid': 2259, 'pro': 2260, 'icon': 2261, 'shake': 2262, 'shut': 2263, 'varieti': 2264, 'tight': 2265, 'directli': 2266, 'mexican': 2267, 'medic': 2268, 'denni': 2269, 'attach': 2270, 'goal': 2271, 'jaw': 2272, 'sullivan': 2273, 'vietnam': 2274, 'legendari': 2275, 'bourn': 2276, 'truck': 2277, 'sentenc': 2278, 'sarah': 2279, 'breast': 2280, 'prior': 2281, 'terrorist': 2282, 'dean': 2283, 'duke': 2284, 'courag': 2285, 'yell': 2286, 'un': 2287, 'entri': 2288, 'donald': 2289, 'hong': 2290, 'split': 2291, 'proceed': 2292, 'nose': 2293, 'behav': 2294, 'buri': 2295, 'gather': 2296, 'everywher': 2297, 'unconvinc': 2298, 'borrow': 2299, 'crush': 2300, 'jerk': 2301, 'lifetim': 2302, 'forth': 2303, 'confess': 2304, 'stolen': 2305, 'swim': 2306, 'concentr': 2307, 'turkey': 2308, 'deliveri': 2309, 'california': 2310, 'spite': 2311, 'pan': 2312, 'julia': 2313, 'lip': 2314, 'proud': 2315, 'reward': 2316, 'quest': 2317, 'downright': 2318, 'offici': 2319, 'flight': 2320, 'freeman': 2321, 'hoffman': 2322, 'china': 2323, 'notori': 2324, 'sink': 2325, 'jail': 2326, 'worthwhil': 2327, 'fabul': 2328, 'sir': 2329, 'jon': 2330, 'lazi': 2331, 'inept': 2332, 'betray': 2333, 'fade': 2334, 'encourag': 2335, 'lisa': 2336, 'imageri': 2337, 'survivor': 2338, 'cousin': 2339, 'susan': 2340, 'bell': 2341, 'relev': 2342, 'teeth': 2343, 'storm': 2344, 'shower': 2345, 'retard': 2346, 'bag': 2347, 'branagh': 2348, 'quirki': 2349, 'tremend': 2350, 'mexico': 2351, 'hugh': 2352, 'shark': 2353, 'alright': 2354, 'finger': 2355, 'summari': 2356, 'trade': 2357, 'toler': 2358, 'bride': 2359, 'facial': 2360, 'stab': 2361, 'hyster': 2362, 'bitter': 2363, 'pose': 2364, 'von': 2365, 'blown': 2366, 'ha': 2367, 'larri': 2368, 'christ': 2369, 'address': 2370, 'cruel': 2371, 'afterward': 2372, 'bone': 2373, 'ron': 2374, 'ned': 2375, 'scheme': 2376, 'swear': 2377, 'traci': 2378, 'screw': 2379, 'distinct': 2380, 'pursu': 2381, 'beg': 2382, 'feed': 2383, 'thumb': 2384, 'snake': 2385, 'tour': 2386, 'mechan': 2387, 'chair': 2388, 'stomach': 2389, 'occas': 2390, 'photo': 2391, 'raw': 2392, 'obscur': 2393, 'resist': 2394, 'necessarili': 2395, 'gruesom': 2396, 'render': 2397, 'cabin': 2398, 'hardi': 2399, 'chain': 2400, 'heavili': 2401, 'argument': 2402, 'holiday': 2403, 'sidney': 2404, 'southern': 2405, 'philip': 2406, 'indulg': 2407, 'satan': 2408, 'racist': 2409, 'india': 2410, 'understood': 2411, 'fourth': 2412, 'outfit': 2413, 'obnoxi': 2414, 'tongu': 2415, 'integr': 2416, 'lay': 2417, 'midnight': 2418, 'belov': 2419, 'pregnant': 2420, 'forgot': 2421, 'stalk': 2422, '17': 2423, 'garden': 2424, 'restor': 2425, 'inhabit': 2426, 'magazin': 2427, 'carol': 2428, 'slapstick': 2429, 'ticket': 2430, 'deeper': 2431, 'incid': 2432, 'shoe': 2433, 'devot': 2434, 'lincoln': 2435, 'brad': 2436, 'divorc': 2437, 'underground': 2438, 'benefit': 2439, 'anticip': 2440, 'disbelief': 2441, 'elizabeth': 2442, 'guarante': 2443, 'sandler': 2444, 'lili': 2445, 'maria': 2446, 'creation': 2447, 'explod': 2448, 'princip': 2449, 'greater': 2450, 'capit': 2451, 'mildli': 2452, 'amazingli': 2453, 'bbc': 2454, 'slave': 2455, 'cring': 2456, 'lesli': 2457, 'funnier': 2458, 'halfway': 2459, 'introduct': 2460, 'extraordinari': 2461, 'enhanc': 2462, 'wreck': 2463, 'transfer': 2464, 'overwhelm': 2465, 'tap': 2466, 'advantag': 2467, 'punish': 2468, 'extent': 2469, 'text': 2470, 'east': 2471, 'preview': 2472, 'deliber': 2473, 'plant': 2474, 'dynam': 2475, 'error': 2476, 'lo': 2477, 'horrif': 2478, 'jessica': 2479, 'lane': 2480, 'vacat': 2481, 'sophist': 2482, 'basi': 2483, 'ensu': 2484, 'miller': 2485, '2000': 2486, 'vincent': 2487, 'miscast': 2488, 'appli': 2489, 'homosexu': 2490, 'spoken': 2491, 'via': 2492, 'extend': 2493, 'measur': 2494, 'mansion': 2495, 'bollywood': 2496, 'steel': 2497, 'uncomfort': 2498, 'reed': 2499, 'elev': 2500, 'sleazi': 2501, 'hippi': 2502, 'breathtak': 2503, 'fix': 2504, 'assign': 2505, 'goofi': 2506, 'mous': 2507, 'overact': 2508, 'conceiv': 2509, 'savag': 2510, 'melt': 2511, 'cathol': 2512, 'alter': 2513, 'stanley': 2514, 'beer': 2515, 'daili': 2516, 'dentist': 2517, 'blair': 2518, 'sacrific': 2519, 'oppos': 2520, 'subsequ': 2521, 'nowaday': 2522, 'everyday': 2523, 'burt': 2524, 'succe': 2525, 'carpent': 2526, 'properli': 2527, 'inspector': 2528, 'circl': 2529, 'block': 2530, 'massacr': 2531, 'neck': 2532, 'laura': 2533, 'concert': 2534, 'portrait': 2535, 'grey': 2536, 'fallen': 2537, 'pool': 2538, 'seagal': 2539, 'mob': 2540, 'fay': 2541, 'christi': 2542, 'access': 2543, 'lesser': 2544, 'react': 2545, 'jake': 2546, 'isol': 2547, 'competit': 2548, 'usa': 2549, 'relax': 2550, 'jewish': 2551, 'sinist': 2552, 'chees': 2553, 'appal': 2554, 'nonetheless': 2555, 'creep': 2556, 'ironi': 2557, 'stink': 2558, 'spiritu': 2559, 'lyric': 2560, 'immens': 2561, 'suitabl': 2562, '2006': 2563, 'nine': 2564, 'chop': 2565, 'adopt': 2566, 'sold': 2567, 'showcas': 2568, 'user': 2569, 'retir': 2570, 'reduc': 2571, 'rage': 2572, 'franchis': 2573, 'needless': 2574, 'shirt': 2575, 'navi': 2576, 'nut': 2577, 'spring': 2578, 'luci': 2579, 'zone': 2580, 'asham': 2581, 'nurs': 2582, 'uninspir': 2583, 'digit': 2584, 'stanwyck': 2585, 'per': 2586, 'bath': 2587, 'bulli': 2588, 'jay': 2589, 'amongst': 2590, 'sutherland': 2591, '2001': 2592, 'broadcast': 2593, 'laid': 2594, 'oddli': 2595, '1940': 2596, 'illustr': 2597, 'upper': 2598, 'stylish': 2599, 'baker': 2600, 'brando': 2601, 'throat': 2602, 'fulfil': 2603, 'aspir': 2604, 'disguis': 2605, 'pride': 2606, 'nobl': 2607, 'wwii': 2608, 'neighborhood': 2609, 'wanna': 2610, '18': 2611, 'impli': 2612, 'endear': 2613, 'thief': 2614, 'pound': 2615, 'em': 2616, 'dawn': 2617, 'shoulder': 2618, 'prop': 2619, 'distribut': 2620, 'diseas': 2621, 'bett': 2622, 'albeit': 2623, 'shift': 2624, 'tens': 2625, 'cinematograph': 2626, 'coher': 2627, '16': 2628, 'bo': 2629, 'rochest': 2630, 'dinner': 2631, 'matthau': 2632, 'contract': 2633, 'rebel': 2634, 'poignant': 2635, 'surf': 2636, 'shout': 2637, 'function': 2638, 'knife': 2639, 'wash': 2640, 'snow': 2641, 'forti': 2642, 'silenc': 2643, 'instinct': 2644, 'derek': 2645, 'proof': 2646, 'duti': 2647, 'cannib': 2648, 'heat': 2649, 'cancel': 2650, 'henc': 2651, 'widmark': 2652, 'reunion': 2653, 'chuck': 2654, 'eeri': 2655, 'height': 2656, 'horrend': 2657, 'internet': 2658, 'mindless': 2659, 'silver': 2660, 'elvira': 2661, 'elvi': 2662, 'spielberg': 2663, 'torn': 2664, 'repetit': 2665, 'incoher': 2666, 'pie': 2667, 'greatli': 2668, 'musician': 2669, 'mill': 2670, 'glori': 2671, 'etern': 2672, 'neat': 2673, 'alik': 2674, 'premier': 2675, 'innov': 2676, 'absorb': 2677, 'blank': 2678, 'fbi': 2679, 'nelson': 2680, 'britain': 2681, 'trite': 2682, 'homag': 2683, 'wealthi': 2684, 'horrifi': 2685, 'crisi': 2686, 'diamond': 2687, 'precis': 2688, 'redempt': 2689, 'racism': 2690, 'lovabl': 2691, 'announc': 2692, 'burton': 2693, 'bang': 2694, 'itali': 2695, 'infam': 2696, 'flop': 2697, 'ensembl': 2698, 'happili': 2699, 'parallel': 2700, 'pat': 2701, 'dedic': 2702, 'wilder': 2703, 'chaplin': 2704, 'streisand': 2705, 'helen': 2706, 'resolut': 2707, 'hammer': 2708, 'oil': 2709, 'carter': 2710, 'mar': 2711, 'broke': 2712, 'conclud': 2713, 'plastic': 2714, 'st': 2715, 'factori': 2716, 'disagre': 2717, 'cube': 2718, 'triumph': 2719, 'chuckl': 2720, 'vega': 2721, 'fighter': 2722, 'row': 2723, 'march': 2724, 'climb': 2725, 'bush': 2726, 'weight': 2727, 'rocket': 2728, 'own': 2729, 'boot': 2730, 'kurt': 2731, 'luca': 2732, 'meaning': 2733, 'sensibl': 2734, 'unforgett': 2735, 'wherea': 2736, 'spare': 2737, 'dane': 2738, 'enorm': 2739, 'thug': 2740, 'dump': 2741, 'mst3k': 2742, 'lust': 2743, 'adequ': 2744, 'engin': 2745, 'difficulti': 2746, 'fifti': 2747, 'dear': 2748, 'stress': 2749, 'butt': 2750, 'brand': 2751, 'caricatur': 2752, 'rap': 2753, 'bobbi': 2754, 'karloff': 2755, 'arnold': 2756, 'threat': 2757, 'secretari': 2758, 'elabor': 2759, 'polish': 2760, 'arrog': 2761, 'swing': 2762, 'fest': 2763, 'ralph': 2764, 'ego': 2765, 'flynn': 2766, 'hamlet': 2767, 'journalist': 2768, 'barri': 2769, 'homeless': 2770, 'resort': 2771, 'tool': 2772, 'conspiraci': 2773, 'fanci': 2774, 'simpson': 2775, 'float': 2776, 'induc': 2777, 'grate': 2778, 'unbear': 2779, 'puppet': 2780, 'arrang': 2781, 'spike': 2782, 'pig': 2783, 'phillip': 2784, 'tribut': 2785, 'exercis': 2786, 'basement': 2787, 'choreograph': 2788, 'boll': 2789, 'muppet': 2790, 'cruis': 2791, 'guilt': 2792, 'puzzl': 2793, 'layer': 2794, 'toilet': 2795, 'fianc': 2796, 'medium': 2797, 'stan': 2798, 'document': 2799, 'file': 2800, '24': 2801, 'ham': 2802, 'korean': 2803, 'tower': 2804, 'editor': 2805, 'ward': 2806, 'slip': 2807, 'scarecrow': 2808, 'babe': 2809, 'item': 2810, 'orient': 2811, 'philosoph': 2812, 'portion': 2813, 'larger': 2814, 'librari': 2815, 'persona': 2816, 'catherin': 2817, 'spark': 2818, 'superfici': 2819, 'slaughter': 2820, 'territori': 2821, 'assur': 2822, 'inexplic': 2823, 'denzel': 2824, 'minim': 2825, 'glover': 2826, 'transit': 2827, 'doc': 2828, 'dorothi': 2829, 'jet': 2830, 'jeremi': 2831, 'sneak': 2832, 'pg': 2833, 'owe': 2834, 'wolf': 2835, 'ban': 2836, 'walken': 2837, 'boredom': 2838, 'financi': 2839, 'curti': 2840, 'shi': 2841, 'backdrop': 2842, 'profound': 2843, 'eleph': 2844, 'multi': 2845, 'ambigu': 2846, 'metaphor': 2847, 'cusack': 2848, 'whale': 2849, 'hudson': 2850, 'gadget': 2851, 'implaus': 2852, 'hack': 2853, 'union': 2854, 'ultra': 2855, 'elsewher': 2856, '2005': 2857, 'viru': 2858, 'stiff': 2859, 'notion': 2860, 'rave': 2861, 'birthday': 2862, '1st': 2863, 'distanc': 2864, 'lloyd': 2865, 'reader': 2866, 'canada': 2867, 'eva': 2868, 'squar': 2869, 'urg': 2870, 'superhero': 2871, 'eastwood': 2872, 'poison': 2873, 'slight': 2874, 'afford': 2875, 'bibl': 2876, 'newspap': 2877, 'deriv': 2878, 'hawk': 2879, 'disc': 2880, 'pad': 2881, 'charisma': 2882, 'button': 2883, 'essenc': 2884, 'drown': 2885, 'health': 2886, 'skit': 2887, 'heston': 2888, 'sadist': 2889, 'huh': 2890, 'restaur': 2891, 'montag': 2892, 'cure': 2893, 'spread': 2894, 'muslim': 2895, 'companion': 2896, 'fetch': 2897, 'invest': 2898, 'godfath': 2899, 'maniac': 2900, 'scoobi': 2901, 'dealt': 2902, 'peak': 2903, 'lab': 2904, 'gradual': 2905, 'estat': 2906, 'subtleti': 2907, 'ritter': 2908, 'kane': 2909, 'alli': 2910, 'cup': 2911, 'tea': 2912, 'miik': 2913, 'countless': 2914, 'servant': 2915, 'gothic': 2916, 'electr': 2917, 'heroic': 2918, 'briefli': 2919, 'elect': 2920, 'charismat': 2921, 'salli': 2922, 'iii': 2923, 'bud': 2924, 'reel': 2925, 'toss': 2926, 'nuanc': 2927, 'ingredi': 2928, 'resourc': 2929, 'admittedli': 2930, 'grandmoth': 2931, 'tender': 2932, 'cole': 2933, 'neil': 2934, 'wannab': 2935, 'pit': 2936, 'dawson': 2937, 'mafia': 2938, 'pauli': 2939, 'shall': 2940, 'carrey': 2941, 'gate': 2942, 'poverti': 2943, 'kubrick': 2944, 'punk': 2945, 'mild': 2946, 'stronger': 2947, 'label': 2948, 'stood': 2949, 'reev': 2950, 'cox': 2951, 'useless': 2952, 'terri': 2953, 'burst': 2954, 'assault': 2955, 'smash': 2956, 'tag': 2957, 'smooth': 2958, 'updat': 2959, 'ian': 2960, 'cardboard': 2961, 'easier': 2962, 'outcom': 2963, 'bakshi': 2964, 'fond': 2965, 'astair': 2966, 'coincid': 2967, 'increasingli': 2968, 'rex': 2969, 'qualifi': 2970, 'exchang': 2971, 'divers': 2972, 'samurai': 2973, 'vulner': 2974, 'fist': 2975, '2002': 2976, 'resolv': 2977, 'vari': 2978, 'sketch': 2979, 'melodramat': 2980, 'tame': 2981, 'conveni': 2982, 'suspend': 2983, 'reynold': 2984, 'brillianc': 2985, 'templ': 2986, 'scratch': 2987, 'be': 2988, 'luckili': 2989, 'insert': 2990, 'blast': 2991, 'matthew': 2992, 'strictli': 2993, 'ambiti': 2994, 'jami': 2995, 'seventi': 2996, 'fisher': 2997, 'coach': 2998, 'meat': 2999, 'walker': 3000, 'soprano': 3001, 'gotta': 3002, 'nuclear': 3003, 'hamilton': 3004, 'farm': 3005, 'pin': 3006, 'recreat': 3007, 'brosnan': 3008, 'grasp': 3009, 'empir': 3010, 'struck': 3011, 'cave': 3012, 'spooki': 3013, 'closet': 3014, 'discoveri': 3015, 'monk': 3016, 'convolut': 3017, 'ninja': 3018, 'instantli': 3019, 'timeless': 3020, 'butcher': 3021, 'clock': 3022, 'eccentr': 3023, 'worthless': 3024, 'kudo': 3025, 'joey': 3026, 'revers': 3027, 'sidekick': 3028, 'wipe': 3029, 'inconsist': 3030, 'sloppi': 3031, 'fifteen': 3032, 'communist': 3033, 'evok': 3034, 'clown': 3035, 'pal': 3036, 'mitchel': 3037, 'selfish': 3038, 'declar': 3039, 'partli': 3040, 'importantli': 3041, 'norman': 3042, 'miracl': 3043, 'gray': 3044, 'seller': 3045, 'bleak': 3046, 'cliff': 3047, 'eighti': 3048, 'aforement': 3049, 'stoog': 3050, 'piano': 3051, '45': 3052, 'enthusiast': 3053, 'australia': 3054, 'debat': 3055, 'seed': 3056, 'lifestyl': 3057, 'websit': 3058, 'chew': 3059, 'cheek': 3060, 'psychiatrist': 3061, 'ho': 3062, 'flawless': 3063, 'destin': 3064, 'farc': 3065, 'superbl': 3066, 'bash': 3067, 'slice': 3068, 'dash': 3069, 'wrestl': 3070, 'directori': 3071, 'anni': 3072, 'kitchen': 3073, 'soviet': 3074, 'incompet': 3075, 'dire': 3076, 'drivel': 3077, 'emili': 3078, 'wick': 3079, 'splatter': 3080, 'pressur': 3081, 'akshay': 3082, 'regardless': 3083, 'abc': 3084, 'recov': 3085, 'curios': 3086, 'flower': 3087, 'boil': 3088, 'duo': 3089, 'glow': 3090, 'blob': 3091, 'lou': 3092, 'cameron': 3093, 'seduc': 3094, 'distant': 3095, 'increas': 3096, 'suppli': 3097, 'doo': 3098, 'prize': 3099, 'helicopt': 3100, 'dave': 3101, 'pleasantli': 3102, 'judi': 3103, 'chapter': 3104, 'beaten': 3105, 'artifici': 3106, 'cagney': 3107, 'cia': 3108, 'ken': 3109, 'mann': 3110, 'jar': 3111, 'perri': 3112, 'combat': 3113, 'web': 3114, 'psychot': 3115, 'craig': 3116, 'panic': 3117, 'favour': 3118, 'laurel': 3119, 'craven': 3120, 'eleg': 3121, 'hop': 3122, 'drunken': 3123, 'francisco': 3124, 'splendid': 3125, 'ellen': 3126, 'turner': 3127, 'glenn': 3128, 'goldberg': 3129, 'ranger': 3130, '20th': 3131, 'plausibl': 3132, 'shortli': 3133, 'flip': 3134, 'philosophi': 3135, 'gentl': 3136, 'rid': 3137, 'min': 3138, 'fx': 3139, 'slightest': 3140, 'gandhi': 3141, 'greek': 3142, 'graduat': 3143, 'falk': 3144, 'hatr': 3145, 'ruth': 3146, 'wizard': 3147, 'alexand': 3148, 'modesti': 3149, 'futurist': 3150, 'jealou': 3151, 'holi': 3152, 'preciou': 3153, 'harm': 3154, 'tall': 3155, 'felix': 3156, 'we': 3157, 'knight': 3158, 'dracula': 3159, 'legal': 3160, 'manhattan': 3161, 'lend': 3162, 'unpleas': 3163, 'ocean': 3164, 'fund': 3165, 'scientif': 3166, 'forbidden': 3167, 'explicit': 3168, 'reviv': 3169, 'overdon': 3170, 'nod': 3171, 'tank': 3172, 'mock': 3173, 'bless': 3174, 'ami': 3175, 'giallo': 3176, 'digniti': 3177, 'childish': 3178, 'thread': 3179, 'yesterday': 3180, 'mel': 3181, 'thick': 3182, 'fever': 3183, 'pirat': 3184, 'elderli': 3185, 'verhoeven': 3186, 'awe': 3187, 'margaret': 3188, 'nerv': 3189, '99': 3190, '2004': 3191, 'broad': 3192, 'torment': 3193, 'eve': 3194, 'awaken': 3195, 'unwatch': 3196, 'repeatedli': 3197, 'absenc': 3198, 'acclaim': 3199, 'politician': 3200, 'royal': 3201, 'roman': 3202, 'automat': 3203, 'lean': 3204, 'timothi': 3205, 'griffith': 3206, 'bin': 3207, 'romero': 3208, 'eas': 3209, 'rivet': 3210, 'ambit': 3211, 'uniform': 3212, 'ah': 3213, 'custom': 3214, 'launch': 3215, 'publish': 3216, 'stiller': 3217, 'kay': 3218, 'darker': 3219, 'crook': 3220, 'sunshin': 3221, 'pierc': 3222, 'wallac': 3223, 'pulp': 3224, 'transport': 3225, 'phrase': 3226, 'gabriel': 3227, 'homicid': 3228, 'termin': 3229, 'purpl': 3230, 'antic': 3231, 'foul': 3232, 'tomato': 3233, 'warren': 3234, 'bathroom': 3235, 'stinker': 3236, 'juvenil': 3237, 'contrari': 3238, 'evolv': 3239, 'marin': 3240, 'ought': 3241, 'pray': 3242, 'album': 3243, 'kenneth': 3244, '2003': 3245, 'brazil': 3246, 'karen': 3247, 'rambo': 3248, 'saint': 3249, 'li': 3250, 'coloni': 3251, 'horrid': 3252, 'revolutionari': 3253, 'sixti': 3254, 'awak': 3255, 'eyr': 3256, 'donna': 3257, 'choreographi': 3258, 'packag': 3259, 'viciou': 3260, 'q': 3261, 'prom': 3262, 'hollow': 3263, 'ireland': 3264, 'twelv': 3265, 'dose': 3266, 'conserv': 3267, 'candid': 3268, 'stole': 3269, 'boast': 3270, 'mummi': 3271, 'option': 3272, 'blade': 3273, 'overr': 3274, 'nerd': 3275, 'beatti': 3276, 'mildr': 3277, 'defi': 3278, 'kapoor': 3279, 'ramon': 3280, 'astonish': 3281, 'altman': 3282, 'trio': 3283, 'jazz': 3284, 'flame': 3285, 'funer': 3286, 'kirk': 3287, 'detract': 3288, 'confirm': 3289, 'fulci': 3290, 'protest': 3291, 'global': 3292, 'natali': 3293, 'collabor': 3294, 'spit': 3295, 'shade': 3296, 'audio': 3297, 'leap': 3298, 'destini': 3299, 'enterpris': 3300, 'racial': 3301, 'whip': 3302, 'mystic': 3303, 'yellow': 3304, 'bottl': 3305, 'delici': 3306, 'tommi': 3307, 'nicholson': 3308, 'bull': 3309, 'blake': 3310, 'reunit': 3311, 'inherit': 3312, 'staff': 3313, 'visibl': 3314, 'altogeth': 3315, 'adolesc': 3316, 'vivid': 3317, 'swedish': 3318, 'threw': 3319, 'popcorn': 3320, 'pseudo': 3321, 'fonda': 3322, 'harder': 3323, 'merci': 3324, 'enchant': 3325, 'todd': 3326, 'meaningless': 3327, 'bedroom': 3328, 'neo': 3329, 'befriend': 3330, 'atlanti': 3331, 'leonard': 3332, 'tip': 3333, 'crocodil': 3334, 'kennedi': 3335, 'suspici': 3336, 'await': 3337, 'ruthless': 3338, 'fanat': 3339, 'moodi': 3340, 'respond': 3341, 'jew': 3342, 'decor': 3343, 'bust': 3344, 'exhibit': 3345, 'reserv': 3346, 'lemmon': 3347, 'roommat': 3348, 'uneven': 3349, 'voight': 3350, 'madonna': 3351, 'synopsi': 3352, 'wire': 3353, 'edi': 3354, 'lawrenc': 3355, 'garner': 3356, 'unsettl': 3357, 'abysm': 3358, 'centr': 3359, 'bradi': 3360, 'carl': 3361, 'ventur': 3362, 'chao': 3363, 'voyag': 3364, 'incident': 3365, 'clumsi': 3366, 'clint': 3367, '2007': 3368, 'bold': 3369, 'palma': 3370, 'rural': 3371, 'dimens': 3372, 'bargain': 3373, 'audit': 3374, 'holli': 3375, 'imperson': 3376, 'cd': 3377, 'nearbi': 3378, 'characterist': 3379, 'cuba': 3380, 'acknowledg': 3381, '2nd': 3382, 'troop': 3383, 'elimin': 3384, 'hart': 3385, 'lit': 3386, 'neglect': 3387, 'versu': 3388, 'humili': 3389, 'wealth': 3390, 'mall': 3391, 'daddi': 3392, 'echo': 3393, 'poetic': 3394, 'trail': 3395, 'immigr': 3396, 'tiger': 3397, 'cari': 3398, 'timon': 3399, 'ant': 3400, 'paus': 3401, 'prejudic': 3402, 'mistaken': 3403, 'pun': 3404, 'solo': 3405, 'domest': 3406, 'repuls': 3407, 'marshal': 3408, 'jeffrey': 3409, 'saga': 3410, 'celluloid': 3411, 'collaps': 3412, 'infect': 3413, 'mickey': 3414, 'homer': 3415, 'promin': 3416, 'coat': 3417, 'ginger': 3418, 'olivi': 3419, '1996': 3420, 'undoubtedli': 3421, 'chest': 3422, 'apolog': 3423, 'assembl': 3424, 'coffe': 3425, 'interrupt': 3426, 'equip': 3427, 'cake': 3428, 'gear': 3429, 'harvey': 3430, 'hbo': 3431, 'milk': 3432, 'pant': 3433, 'inappropri': 3434, 'inan': 3435, 'tribe': 3436, 'sore': 3437, 'leon': 3438, 'primari': 3439, 'aveng': 3440, 'brooklyn': 3441, 'pot': 3442, 'maggi': 3443, 'humbl': 3444, 'colleagu': 3445, 'solut': 3446, 'airplan': 3447, 'exot': 3448, 'institut': 3449, 'furthermor': 3450, 'instant': 3451, 'colonel': 3452, 'florida': 3453, 'trace': 3454, 'highest': 3455, 'consum': 3456, 'retain': 3457, 'embrac': 3458, 'pen': 3459, 'vulgar': 3460, 'devast': 3461, 'jenni': 3462, 'polanski': 3463, 'cope': 3464, 'smaller': 3465, 'sale': 3466, 'illog': 3467, '1999': 3468, '3rd': 3469, 'strain': 3470, 'descend': 3471, 'wive': 3472, 'ya': 3473, 'poke': 3474, 'seduct': 3475, 'godzilla': 3476, 'outer': 3477, 'dian': 3478, 'rick': 3479, 'bowl': 3480, 'gender': 3481, 'linda': 3482, 'dutch': 3483, 'disabl': 3484, 'principl': 3485, 'predecessor': 3486, 'beneath': 3487, 'gloriou': 3488, 'dud': 3489, 'dive': 3490, 'cue': 3491, 'glamor': 3492, 'blatant': 3493, 'hal': 3494, 'vast': 3495, 'scope': 3496, 'inferior': 3497, 'yard': 3498, 'mixtur': 3499, 'lol': 3500, 'secondli': 3501, 'devoid': 3502, 'rabbit': 3503, 'bubbl': 3504, 'primarili': 3505, 'gundam': 3506, 'shelf': 3507, 'et': 3508, 'senseless': 3509, 'countrysid': 3510, 'simplist': 3511, 'shirley': 3512, 'trademark': 3513, 'myer': 3514, 'breed': 3515, 'grinch': 3516, 'streep': 3517, 'aggress': 3518, 'april': 3519, 'hideou': 3520, 'pearl': 3521, 'z': 3522, 'museum': 3523, 'invas': 3524, 'casual': 3525, 'talki': 3526, 'arab': 3527, 'domino': 3528, 'alfr': 3529, 'alert': 3530, 'disjoint': 3531, 'garbo': 3532, 'acid': 3533, 'defens': 3534, 'maci': 3535, 'sh': 3536, 'slide': 3537, 'disgrac': 3538, 'experiment': 3539, 'stir': 3540, 'applaud': 3541, 'vanish': 3542, 'mail': 3543, 'loyal': 3544, 'unhappi': 3545, 'robberi': 3546, 'obtain': 3547, 'hopeless': 3548, 'hardcor': 3549, 'uwe': 3550, 'stellar': 3551, 'boom': 3552, 'robinson': 3553, 'illeg': 3554, 'oz': 3555, 'mayor': 3556, 'stack': 3557, 'rendit': 3558, 'khan': 3559, 'fri': 3560, 'recruit': 3561, 'craze': 3562, 'spider': 3563, 'amanda': 3564, 'blew': 3565, 'grandfath': 3566, 'incomprehens': 3567, 'counter': 3568, 'dismiss': 3569, 'hartley': 3570, 'berlin': 3571, 'psychic': 3572, 'topless': 3573, 'declin': 3574, 'dicken': 3575, 'span': 3576, 'scroog': 3577, 'soccer': 3578, 'rifl': 3579, 'wont': 3580, 'tenant': 3581, 'tempt': 3582, 'diana': 3583, 'emphasi': 3584, 'riot': 3585, 'shed': 3586, 'woo': 3587, 'sympath': 3588, 'intim': 3589, 'niro': 3590, 'revolt': 3591, 'resurrect': 3592, 'faster': 3593, 'trashi': 3594, 'goer': 3595, 'sibl': 3596, 'lumet': 3597, 'wet': 3598, 'ration': 3599, 'parad': 3600, 'porno': 3601, 'shaw': 3602, 'bitch': 3603, 'ethnic': 3604, 'justin': 3605, 'steam': 3606, 'hesit': 3607, 'jonathan': 3608, 'slick': 3609, 'feminist': 3610, 'honesti': 3611, 'nephew': 3612, 'gap': 3613, 'immort': 3614, 'patriot': 3615, 'wendi': 3616, 'weakest': 3617, 'choru': 3618, 'partial': 3619, 'ballet': 3620, 'biographi': 3621, '00': 3622, 'dealer': 3623, 'commend': 3624, 'mario': 3625, 'enlighten': 3626, 'ensur': 3627, 'wheel': 3628, 'farmer': 3629, 'worm': 3630, 'unreal': 3631, 'eager': 3632, 'lena': 3633, 'andr': 3634, 'rider': 3635, 'hopper': 3636, 'region': 3637, 'kingdom': 3638, 'skull': 3639, 'prequel': 3640, 'owen': 3641, 'util': 3642, 'snap': 3643, 'similarli': 3644, 'composit': 3645, 'repress': 3646, 'sappi': 3647, 'victori': 3648, 'psychopath': 3649, 'confin': 3650, 'nostalg': 3651, 'blunt': 3652, 'hung': 3653, 'morri': 3654, 'charlott': 3655, 'safeti': 3656, 'properti': 3657, 'wore': 3658, 'mutant': 3659, 'leo': 3660, 'franco': 3661, 'vice': 3662, 'sandra': 3663, 'macarthur': 3664, 'valuabl': 3665, 'bumbl': 3666, 'drain': 3667, 'heartbreak': 3668, 'emperor': 3669, 'bow': 3670, 'latin': 3671, 'strand': 3672, 'tail': 3673, 'exit': 3674, 'compass': 3675, 'campbel': 3676, 'cg': 3677, 'nervou': 3678, 'bergman': 3679, 'drum': 3680, 'despair': 3681, 'kyle': 3682, 'rocki': 3683, 'del': 3684, 'miseri': 3685, '1972': 3686, 'deed': 3687, 'recycl': 3688, 'speci': 3689, 'snl': 3690, 'compens': 3691, 'rambl': 3692, 'acquir': 3693, 'bonu': 3694, 'farrel': 3695, 'dalton': 3696, 'pattern': 3697, 'repli': 3698, 'rope': 3699, 'dust': 3700, 'hyde': 3701, 'whoopi': 3702, 'thru': 3703, 'tad': 3704, 'montana': 3705, 'percept': 3706, 'gal': 3707, 'downhil': 3708, 'chess': 3709, 'bleed': 3710, 'rotten': 3711, 'gimmick': 3712, 'romp': 3713, 'orson': 3714, 'oppress': 3715, 'olli': 3716, 'airport': 3717, 'carradin': 3718, 'da': 3719, '35': 3720, 'pour': 3721, 'wacki': 3722, 'martian': 3723, 'radic': 3724, 'contempl': 3725, 'roth': 3726, 'tonight': 3727, 'rapist': 3728, 'mistress': 3729, 'slug': 3730, 'banal': 3731, 'belt': 3732, 'arc': 3733, 'pervert': 3734, 'preach': 3735, 'champion': 3736, 'shelley': 3737, 'mislead': 3738, 'taught': 3739, 'edgar': 3740, 'unpredict': 3741, '1983': 3742, 'dazzl': 3743, 'heal': 3744, 'pervers': 3745, 'arguabl': 3746, 'tooth': 3747, 'melodi': 3748, 'stilt': 3749, 'attorney': 3750, 'tackl': 3751, 'slash': 3752, 'paltrow': 3753, 'programm': 3754, 'pursuit': 3755, 'cleverli': 3756, 'uplift': 3757, 'plight': 3758, 'vocal': 3759, 'sensat': 3760, 'mesmer': 3761, 'vengeanc': 3762, 'raymond': 3763, 'chicken': 3764, 'virginia': 3765, 'poem': 3766, 'employe': 3767, 'rubi': 3768, 'bela': 3769, 'graham': 3770, 'tiresom': 3771, 'passeng': 3772, 'duval': 3773, 'closest': 3774, 'franki': 3775, 'conneri': 3776, 'orang': 3777, 'gambl': 3778, 'maid': 3779, 'dixon': 3780, 'marti': 3781, 'tube': 3782, 'profan': 3783, 'habit': 3784, 'convincingli': 3785, 'crystal': 3786, 'climact': 3787, 'engross': 3788, 'whine': 3789, 'yawn': 3790, '1968': 3791, 'paranoia': 3792, 'numb': 3793, 'quarter': 3794, 'giggl': 3795, 'scottish': 3796, 'calm': 3797, 'volum': 3798, 'lundgren': 3799, 'monologu': 3800, 'outing': 3801, 'swallow': 3802, 'pokemon': 3803, 'secretli': 3804, 'abraham': 3805, 'inject': 3806, 'gerard': 3807, 'iran': 3808, 'suffic': 3809, 'amitabh': 3810, 'extens': 3811, 'sirk': 3812, 'mute': 3813, 'clone': 3814, 'bay': 3815, 'expand': 3816, 'poetri': 3817, 'im': 3818, 'grotesqu': 3819, 'richardson': 3820, 'bend': 3821, 'meander': 3822, 'spock': 3823, 'franci': 3824, 'plod': 3825, 'backward': 3826, 'frankenstein': 3827, 'ethan': 3828, 'profess': 3829, 'dispos': 3830, 'austen': 3831, 'abort': 3832, 'trend': 3833, 'chicago': 3834, 'lowest': 3835, 'taxi': 3836, 'junior': 3837, 'earl': 3838, 'underst': 3839, 'linger': 3840, 'surpass': 3841, 'nichola': 3842, 'fed': 3843, 'septemb': 3844, 'spoke': 3845, 'myth': 3846, 'cannon': 3847, 'rant': 3848, 'literatur': 3849, 'greedi': 3850, 'household': 3851, 'mundan': 3852, 'waitress': 3853, 'dysfunct': 3854, 'instrument': 3855, 'simplic': 3856, 'der': 3857, 'tourist': 3858, 'econom': 3859, 'descent': 3860, 'lure': 3861, 'nostalgia': 3862, 'catchi': 3863, 'muddl': 3864, 'rubber': 3865, 'eugen': 3866, 'stallon': 3867, 'compliment': 3868, 'hum': 3869, 'sue': 3870, 'hello': 3871, 'alongsid': 3872, 'phantom': 3873, 'eaten': 3874, 'cent': 3875, 'coast': 3876, 'crucial': 3877, 'equival': 3878, 'recognit': 3879, 'randi': 3880, 'molli': 3881, 'recognis': 3882, 'stale': 3883, 'flee': 3884, 'mankind': 3885, 'mortal': 3886, 'irrelev': 3887, 'sissi': 3888, 'deaf': 3889, 'dictat': 3890, 'lang': 3891, 'omen': 3892, 'occupi': 3893, 'dement': 3894, 'phoni': 3895, 'louis': 3896, 'firstli': 3897, 'insur': 3898, 'map': 3899, 'furi': 3900, 'carel': 3901, 'bacal': 3902, 'june': 3903, 'duck': 3904, 'damon': 3905, 'newli': 3906, 'wisdom': 3907, 'ashley': 3908, 'cyborg': 3909, 'damm': 3910, 'freez': 3911, 'blackmail': 3912, 'bump': 3913, 'twilight': 3914, 'bike': 3915, 'distinguish': 3916, 'onlin': 3917, 'daisi': 3918, 'grayson': 3919, 'reign': 3920, 'drake': 3921, '1973': 3922, 'antwon': 3923, 'heel': 3924, 'lengthi': 3925, 'labor': 3926, 'buffalo': 3927, 'rude': 3928, 'dreari': 3929, 'likewis': 3930, 'loyalti': 3931, 'biko': 3932, 'rooney': 3933, 'pink': 3934, 'prey': 3935, 'vein': 3936, 'approv': 3937, 'interior': 3938, 'incorpor': 3939, 'nineti': 3940, 'exposur': 3941, 'attribut': 3942, 'butler': 3943, 'baddi': 3944, 'proce': 3945, 'inher': 3946, 'startl': 3947, 'worn': 3948, 'emphas': 3949, 'tunnel': 3950, 'chronicl': 3951, 'analysi': 3952, 'keith': 3953, 'basketbal': 3954, 'provoc': 3955, 'unorigin': 3956, 'ridden': 3957, 'boxer': 3958, 'barrymor': 3959, 'sailor': 3960, 'julian': 3961, 'meg': 3962, 'robbin': 3963, 'undeni': 3964, 'unrel': 3965, 'underli': 3966, 'drift': 3967, 'othello': 3968, 'hypnot': 3969, 'degrad': 3970, 'fleet': 3971, 'walsh': 3972, 'improvis': 3973, 'indiffer': 3974, 'meyer': 3975, 'stalker': 3976, 'elm': 3977, 'barrel': 3978, 'mormon': 3979, 'bunni': 3980, 'simmon': 3981, 'mighti': 3982, 'predat': 3983, 'belushi': 3984, 'er': 3985, 'substitut': 3986, 'carla': 3987, 'nicol': 3988, 'condemn': 3989, 'millionair': 3990, 'warmth': 3991, 'alarm': 3992, '3d': 3993, 'lampoon': 3994, 'agenda': 3995, 'roof': 3996, 'enthusiasm': 3997, 'hay': 3998, 'nyc': 3999, 'dolph': 4000, 'disord': 4001, 'errol': 4002, 'vital': 4003, 'alison': 4004, 'exquisit': 4005, 'marion': 4006, 'mtv': 4007, 'priceless': 4008, 'unawar': 4009, 'palac': 4010, 'watson': 4011, 'shove': 4012, 'edgi': 4013, 'rukh': 4014, 'novak': 4015, 'firm': 4016, 'greed': 4017, 'reid': 4018, 'spain': 4019, 'israel': 4020, 'testament': 4021, 'campaign': 4022, 'session': 4023, 'what': 4024, 'petti': 4025, 'peck': 4026, 'coup': 4027, 'peril': 4028, 'orlean': 4029, 'profit': 4030, 'pamela': 4031, 'beatl': 4032, 'unleash': 4033, 'cassidi': 4034, '13th': 4035, 'ponder': 4036, 'simultan': 4037, 'valentin': 4038, 'sergeant': 4039, 'eastern': 4040, 'gestur': 4041, 'drip': 4042, 'iraq': 4043, 'angela': 4044, 'randomli': 4045, 'minimum': 4046, 'glanc': 4047, 'championship': 4048, 'preserv': 4049, 'nun': 4050, '1933': 4051, 'crown': 4052, 'showdown': 4053, 'thompson': 4054, 'distort': 4055, 'zizek': 4056, 'contradict': 4057, 'empathi': 4058, 'miyazaki': 4059, 'stake': 4060, 'crawl': 4061, 'crow': 4062, 'gentleman': 4063, 'han': 4064, 'cooki': 4065, 'climat': 4066, 'bro': 4067, 'exposit': 4068, 'perpetu': 4069, 'shootout': 4070, 'stroke': 4071, 'brenda': 4072, 'unimagin': 4073, 'buster': 4074, 'represent': 4075, 'travesti': 4076, 'mon': 4077, 'wig': 4078, 'restrain': 4079, 'regist': 4080, 'cream': 4081, 'quinn': 4082, 'reson': 4083, 'sabrina': 4084, 'rout': 4085, 'realm': 4086, '1984': 4087, 'calib': 4088, 'fido': 4089, 'jan': 4090, 'valley': 4091, 'scotland': 4092, 'din': 4093, 'kurosawa': 4094, 'greg': 4095, 'ross': 4096, 'baldwin': 4097, 'pole': 4098, 'monoton': 4099, '1987': 4100, 'sucker': 4101, 'absent': 4102, 'spacey': 4103, 'tacki': 4104, 'sammi': 4105, 'censor': 4106, 'femm': 4107, 'geek': 4108, 'warrant': 4109, 'demis': 4110, 'delic': 4111, 'distress': 4112, 'businessman': 4113, 'meryl': 4114, 'wax': 4115, 'unsatisfi': 4116, 'passabl': 4117, '1997': 4118, 'soderbergh': 4119, 'painter': 4120, 'shaki': 4121, 'compromis': 4122, 'perceiv': 4123, 'derang': 4124, 'shoddi': 4125, 'fuller': 4126, 'mclaglen': 4127, 'abomin': 4128, 'pretens': 4129, 'cloud': 4130, 'traumat': 4131, 'dana': 4132, 'stargat': 4133, 'ustinov': 4134, 'crawford': 4135, 'unseen': 4136, 'josh': 4137, 'darren': 4138, 'norm': 4139, 'dee': 4140, 'exclus': 4141, 'sid': 4142, 'expedit': 4143, 'unravel': 4144, 'nathan': 4145, 'deceas': 4146, 'wholli': 4147, 'tech': 4148, 'jewel': 4149, 'primit': 4150, 'seal': 4151, 'reluct': 4152, 'valid': 4153, 'polici': 4154, 'uncov': 4155, 'deniro': 4156, 'anchor': 4157, 'clash': 4158, 'correctli': 4159, 'click': 4160, 'judgment': 4161, 'furiou': 4162, 'verbal': 4163, '1993': 4164, 'kumar': 4165, 'accuraci': 4166, 'antonioni': 4167, 'austin': 4168, 'tarantino': 4169, 'fog': 4170, 'fenc': 4171, 'darn': 4172, 'trait': 4173, 'fought': 4174, 'behold': 4175, 'fart': 4176, 'logan': 4177, 'clerk': 4178, 'patienc': 4179, '1995': 4180, '1971': 4181, 'wretch': 4182, 'sand': 4183, 'bake': 4184, 'hallucin': 4185, 'ritual': 4186, 'unfair': 4187, 'nicola': 4188, 'crippl': 4189, 'enforc': 4190, 'roller': 4191, 'seldom': 4192, '2008': 4193, 'sustain': 4194, 'slam': 4195, 'debt': 4196, 'dreck': 4197, 'joel': 4198, 'sheet': 4199, 'murray': 4200, 'mode': 4201, 'vanc': 4202, 'temper': 4203, '3000': 4204, 'malon': 4205, 'fabric': 4206, 'tax': 4207, 'pocket': 4208, 'alec': 4209, 'wang': 4210, 'conduct': 4211, 'shanghai': 4212, 'sunni': 4213, 'grief': 4214, 'despis': 4215, 'schedul': 4216, 'guitar': 4217, 'fundament': 4218, 'technicolor': 4219, 'divid': 4220, 'stuart': 4221, 'sweep': 4222, 'penni': 4223, 'outlin': 4224, 'pete': 4225, 'bias': 4226, 'helpless': 4227, 'runner': 4228, 'phil': 4229, 'bridget': 4230, 'shell': 4231, 'legaci': 4232, 'preposter': 4233, 'soup': 4234, 'canyon': 4235, 'scriptwrit': 4236, 'squad': 4237, 'tactic': 4238, 'stark': 4239, 'preston': 4240, 'exhaust': 4241, 'conscious': 4242, 'robber': 4243, 'critiqu': 4244, 'clau': 4245, 'rita': 4246, 'isabel': 4247, 'invad': 4248, 'liberti': 4249, 'russia': 4250, 'passag': 4251, 'unexpectedli': 4252, 'bloom': 4253, 'gregori': 4254, 'sentinel': 4255, 'jacket': 4256, 'delv': 4257, 'rear': 4258, 'boyl': 4259, 'culmin': 4260, 'sugar': 4261, 'consciou': 4262, 'agenc': 4263, 'palanc': 4264, 'drove': 4265, 'implic': 4266, 'lacklust': 4267, 'marc': 4268, 'connor': 4269, 'vomit': 4270, 'downey': 4271, 'newman': 4272, 'jodi': 4273, 'cigarett': 4274, 'restrict': 4275, 'rehash': 4276, 'propos': 4277, 'alley': 4278, 'kansa': 4279, 'inabl': 4280, 'alicia': 4281, 'sniper': 4282, 'flair': 4283, 'arrow': 4284, 'bacon': 4285, 'aesthet': 4286, 'lush': 4287, 'feat': 4288, 'horn': 4289, 'foxx': 4290, '22': 4291, 'awhil': 4292, 'delet': 4293, 'rampag': 4294, 'tendenc': 4295, 'pale': 4296, 'behaviour': 4297, '1936': 4298, 'chainsaw': 4299, 'sharon': 4300, 'asylum': 4301, 'improb': 4302, 'karl': 4303, 'tripe': 4304, 'rehears': 4305, 'cap': 4306, 'wrench': 4307, 'kolchak': 4308, 'vet': 4309, 'ladder': 4310, 'yeti': 4311, 'rod': 4312, 'mccoy': 4313, 'basing': 4314, 'hackney': 4315, 'visitor': 4316, 'rumor': 4317, 'newcom': 4318, 'fright': 4319, 'underneath': 4320, 'paramount': 4321, 'wildli': 4322, 'wagner': 4323, '1920': 4324, 'elit': 4325, 'lurk': 4326, 'aristocrat': 4327, '19th': 4328, 'loneli': 4329, 'financ': 4330, 'prank': 4331, 'thunderbird': 4332, 'coaster': 4333, 'paradis': 4334, 'sung': 4335, 'suffici': 4336, 'spice': 4337, 'rhythm': 4338, '1978': 4339, 'suspicion': 4340, '1988': 4341, 'filler': 4342, 'el': 4343, 'scoop': 4344, 'stream': 4345, 'shortcom': 4346, 'hulk': 4347, 'amazon': 4348, 'globe': 4349, 'tasteless': 4350, 'tomorrow': 4351, 'weav': 4352, 'minu': 4353, 'conscienc': 4354, 'hungri': 4355, 'bread': 4356, '1939': 4357, 'grudg': 4358, 'impos': 4359, 'ingeni': 4360, 'lectur': 4361, 'counterpart': 4362, 'cancer': 4363, 'chavez': 4364, 'leigh': 4365, 'secondari': 4366, 'penn': 4367, 'inmat': 4368, 'recogniz': 4369, 'iv': 4370, 'entranc': 4371, 'quietli': 4372, 'smell': 4373, 'minist': 4374, 'dirt': 4375, 'standout': 4376, 'posey': 4377, 'worship': 4378, 'immers': 4379, 'chamberlain': 4380, 'hopkin': 4381, 'paxton': 4382, 'naughti': 4383, 'heist': 4384, 'choppi': 4385, 'couch': 4386, 'rub': 4387, 'en': 4388, 'straightforward': 4389, '1989': 4390, 'brit': 4391, 'literari': 4392, '75': 4393, 'curli': 4394, 'tierney': 4395, 'teas': 4396, 'atroc': 4397, 'beverli': 4398, 'wwe': 4399, 'abrupt': 4400, 'ram': 4401, 'springer': 4402, 'duel': 4403, 'morbid': 4404, 'ace': 4405, 'watcher': 4406, 'laurenc': 4407, 'injuri': 4408, 'quaid': 4409, 'nemesi': 4410, 'enthral': 4411, 'skeptic': 4412, 'sassi': 4413, 'nolan': 4414, 'heartfelt': 4415, 'variat': 4416, 'lindsay': 4417, '1986': 4418, 'yearn': 4419, 'esther': 4420, 'entitl': 4421, 'moreov': 4422, 'clan': 4423, 'transcend': 4424, 'net': 4425, 'convert': 4426, 'bernard': 4427, 'attenborough': 4428, 'policeman': 4429, 'sublim': 4430, 'misguid': 4431, 'geni': 4432, 'cattl': 4433, 'missil': 4434, 'ratso': 4435, 'buzz': 4436, 'kitti': 4437, 'bean': 4438, 'out': 4439, 'steadi': 4440, 'diari': 4441, 'brood': 4442, 'spiral': 4443, 'obstacl': 4444, 'uncut': 4445, 'vader': 4446, 'reliabl': 4447, 'youngest': 4448, 'moder': 4449, 'hk': 4450, 'enabl': 4451, 'facil': 4452, 'tyler': 4453, 'artsi': 4454, 'cruelti': 4455, 'graini': 4456, 'dont': 4457, 'hopelessli': 4458, 'grin': 4459, 'bye': 4460, 'setup': 4461, 'unexplain': 4462, 'mytholog': 4463, 'rosemari': 4464, 'kidman': 4465, 'puppi': 4466, 'characteris': 4467, '1979': 4468, 'poe': 4469, 'egg': 4470, 'carlito': 4471, 'bewar': 4472, 'decept': 4473, 'acquaint': 4474, 'patricia': 4475, 'heap': 4476, 'baffl': 4477, 'exterior': 4478, 'weather': 4479, 'clueless': 4480, 'hammi': 4481, 'underworld': 4482, 'oblig': 4483, 'narrow': 4484, 'niec': 4485, 'effici': 4486, 'spontan': 4487, 'bounc': 4488, 'martha': 4489, 'bronson': 4490, 'disastr': 4491, 'christin': 4492, 'sweat': 4493, 'gillian': 4494, 'preming': 4495, 'athlet': 4496, 'despic': 4497, 'gina': 4498, '1969': 4499, 'kline': 4500, 'fuel': 4501, 'brendan': 4502, 'hain': 4503, 'housewif': 4504, 'astound': 4505, 'circu': 4506, 'hepburn': 4507, '19': 4508, 'shatter': 4509, 'sooner': 4510, 'mayhem': 4511, 'trigger': 4512, 'goof': 4513, 'candl': 4514, 'tick': 4515, 'injur': 4516, 'analyz': 4517, 'rome': 4518, 'sleepwalk': 4519, 'dandi': 4520, 'headach': 4521, 'suprem': 4522, 'harmless': 4523, 'enlist': 4524, 'mermaid': 4525, 'uh': 4526, 'dilemma': 4527, 'taboo': 4528, 'loi': 4529, 'virtu': 4530, 'renaiss': 4531, 'fontain': 4532, '73': 4533, 'loath': 4534, 'angst': 4535, 'preachi': 4536, 'lester': 4537, 'viewpoint': 4538, 'outlaw': 4539, 'scar': 4540, 'biker': 4541, 'insipid': 4542, 'surgeri': 4543, 'contempt': 4544, 'stimul': 4545, 'corbett': 4546, 'tripl': 4547, 'fluff': 4548, 'foolish': 4549, 'overlong': 4550, 'hokey': 4551, 'phenomenon': 4552, 'immatur': 4553, 'dish': 4554, 'claustrophob': 4555, 'salt': 4556, 'scorses': 4557, 'redund': 4558, 'ebert': 4559, 'camcord': 4560, 'hooker': 4561, 'stair': 4562, 'gere': 4563, 'boston': 4564, 'dismal': 4565, 'amor': 4566, 'macho': 4567, 'zoom': 4568, 'hostag': 4569, 'slimi': 4570, 'bent': 4571, 'whore': 4572, 'guin': 4573, 'idol': 4574, 'intric': 4575, 'oldest': 4576, 'spade': 4577, 'filth': 4578, 'glorifi': 4579, 'steer': 4580, 'sox': 4581, 'cassavet': 4582, 'ariel': 4583, 'flashi': 4584, 'strongest': 4585, 'frantic': 4586, 'cohen': 4587, 'conquer': 4588, 'obligatori': 4589, 'proport': 4590, 'dwarf': 4591, 'astronaut': 4592, 'fascist': 4593, 'spree': 4594, 'cow': 4595, 'shield': 4596, 'muscl': 4597, 'antagonist': 4598, 'flirt': 4599, 'faint': 4600, 'keen': 4601, 'preced': 4602, 'cush': 4603, 'beard': 4604, 'corman': 4605, 'nolt': 4606, 'shred': 4607, 'perman': 4608, 'remad': 4609, 'flag': 4610, 'harold': 4611, 'gasp': 4612, '1976': 4613, 'trivia': 4614, 'joker': 4615, 'widescreen': 4616, 'zane': 4617, 'alvin': 4618, 'spinal': 4619, 'mount': 4620, 'margin': 4621, 'transplant': 4622, 'schlock': 4623, '1981': 4624, 'naschi': 4625, 'radiat': 4626, 'mutual': 4627, 'messi': 4628, 'gabl': 4629, 'rhyme': 4630, 'assert': 4631, 'down': 4632, 'ritchi': 4633, 'boob': 4634, 'persuad': 4635, '95': 4636, 'hara': 4637, 'danish': 4638, '1945': 4639, 'info': 4640, 'repris': 4641, 'instruct': 4642, 'departur': 4643, 'triangl': 4644, 'discern': 4645, 'deer': 4646, 'interestingli': 4647, 'barn': 4648, 'bitten': 4649, 'scandal': 4650, 'raj': 4651, 'strive': 4652, 'neurot': 4653, 'vaniti': 4654, 'flock': 4655, 'carey': 4656, 'fishburn': 4657, 'inflict': 4658, 'someday': 4659, 'wield': 4660, 'off': 4661, 'brush': 4662, '28': 4663, 'sensual': 4664, 'mobil': 4665, 'mol': 4666, 'archiv': 4667, 'bachelor': 4668, 'divin': 4669, 'claud': 4670, 'www': 4671, 'aborigin': 4672, 'resum': 4673, 'fragil': 4674, 'frontier': 4675, 'cliffhang': 4676, 'artwork': 4677, 'pacif': 4678, 'hapless': 4679, 'cycl': 4680, 'senior': 4681, 'earnest': 4682, 'traffic': 4683, 'vibrant': 4684, 'luka': 4685, 'prophet': 4686, 'biblic': 4687, 'colin': 4688, 'europa': 4689, 'wendigo': 4690, 'cher': 4691, 'mobster': 4692, 'anton': 4693, 'helm': 4694, 'heartwarm': 4695, 'neill': 4696, 'melissa': 4697, 'jade': 4698, 'dame': 4699, 'pixar': 4700, 'cb': 4701, 'ish': 4702, 'harrison': 4703, 'dylan': 4704, 'miracul': 4705, 'banter': 4706, 'hilar': 4707, 'undermin': 4708, 'clad': 4709, 'proclaim': 4710, 'recit': 4711, 'casino': 4712, 'dim': 4713, 'submit': 4714, 'bate': 4715, 'rot': 4716, 'hug': 4717, 'timberlak': 4718, 'kathryn': 4719, 'loretta': 4720, 'parson': 4721, 'axe': 4722, 'pickford': 4723, 'carlo': 4724, 'isra': 4725, 'marlon': 4726, 'rooki': 4727, 'flavor': 4728, 'akin': 4729, 'blatantli': 4730, 'milo': 4731, 'shepherd': 4732, 'northern': 4733, 'breakfast': 4734, 'feast': 4735, 'redneck': 4736, 'trier': 4737, 'legitim': 4738, 'choke': 4739, 'http': 4740, 'misfortun': 4741, 'articl': 4742, 'seedi': 4743, 'sicken': 4744, 'antholog': 4745, 'aris': 4746, 'mason': 4747, 'bikini': 4748, 'orphan': 4749, 'venom': 4750, 'lucil': 4751, 'pc': 4752, 'uma': 4753, 'winchest': 4754, 'lui': 4755, 'eli': 4756, 'estrang': 4757, 'bondag': 4758, 'jordan': 4759, 'toronto': 4760, 'cerebr': 4761, 'illus': 4762, 'wardrob': 4763, 'jo': 4764, 'token': 4765, 'nope': 4766, 'vanessa': 4767, 'holocaust': 4768, 'razor': 4769, 'electron': 4770, 'static': 4771, 'vile': 4772, 'mathieu': 4773, 'foil': 4774, 'alexandr': 4775, 'tack': 4776, 'gilbert': 4777, 'comprehend': 4778, 'styliz': 4779, 'audrey': 4780, 'affleck': 4781, 'linear': 4782, 'fifth': 4783, 'ceremoni': 4784, 'swept': 4785, 'nightclub': 4786, 'retriev': 4787, 'deem': 4788, 'charlton': 4789, 'peer': 4790, 'feminin': 4791, 'howl': 4792, 'abund': 4793, 'glare': 4794, 'disregard': 4795, 'turd': 4796, 'magician': 4797, 'shorter': 4798, 'oppon': 4799, 'leather': 4800, 'wrestler': 4801, 'highway': 4802, 'boyer': 4803, 'clinic': 4804, 'cartoonish': 4805, 'smack': 4806, 'dudley': 4807, 'outdat': 4808, 'frog': 4809, 'knightley': 4810, 'gunga': 4811, 'huston': 4812, 'psych': 4813, 'ideolog': 4814, 'snatch': 4815, 'sleaz': 4816, 'einstein': 4817, 'moe': 4818, 'phenomen': 4819, '4th': 4820, 'greet': 4821, 'bogu': 4822, 'toe': 4823, 'lighter': 4824, 'energet': 4825, 'durat': 4826, 'spine': 4827, 'breakdown': 4828, 'evolut': 4829, 'spawn': 4830, 'potter': 4831, 'senat': 4832, 'collector': 4833, 'btw': 4834, 'compris': 4835, 'chip': 4836, '1991': 4837, 'lavish': 4838, 'whack': 4839, 'tara': 4840, 'plate': 4841, '1994': 4842, 'uniformli': 4843, 'deliver': 4844, 'boo': 4845, 'goldsworthi': 4846, 'mitch': 4847, 'bastard': 4848, 'lifeless': 4849, 'newer': 4850, 'monument': 4851, 'cemeteri': 4852, 'conrad': 4853, 'cuban': 4854, 'corn': 4855, 'summar': 4856, 'salman': 4857, 'client': 4858, 'braveheart': 4859, 'ie': 4860, 'pronounc': 4861, 'healthi': 4862, 'jule': 4863, 'kent': 4864, 'spectacl': 4865, 'belli': 4866, 'wtf': 4867, 'creek': 4868, 'neatli': 4869, 'historian': 4870, 'firmli': 4871, 'occup': 4872, 'gilliam': 4873, 'luxuri': 4874, 'sorrow': 4875, 'ol': 4876, 'fluid': 4877, 'jedi': 4878, 'nina': 4879, 'kazan': 4880, 'outright': 4881, 'undead': 4882, 'trauma': 4883, 'replay': 4884, 'mcqueen': 4885, 'randolph': 4886, 'bulk': 4887, 'jam': 4888, 'inaccuraci': 4889, 'signal': 4890, 'eleven': 4891, 'constitut': 4892, 'jare': 4893, 'liu': 4894, 'embark': 4895, 'appl': 4896, 'alleg': 4897, '1974': 4898, 'cecil': 4899, 'clara': 4900, 'bori': 4901, 'judd': 4902, '1977': 4903, 'capot': 4904, 'lex': 4905, 'armstrong': 4906, 'undertak': 4907, 'evelyn': 4908, 'vain': 4909, 'comprehens': 4910, 'conan': 4911, 'kiddi': 4912, 'knee': 4913, 'pepper': 4914, 'unattract': 4915, 'subtli': 4916, 'poker': 4917, 'carmen': 4918, 'bait': 4919, 'relentless': 4920, 'propheci': 4921, 'groan': 4922, 'galaxi': 4923, 'lauren': 4924, 'lanc': 4925, 'mum': 4926, 'inclus': 4927, 'palm': 4928, 'unsuspect': 4929, 'cape': 4930, 'decapit': 4931, 'abound': 4932, 'fruit': 4933, 'antonio': 4934, 'rosario': 4935, 'vignett': 4936, 'porter': 4937, 'miniseri': 4938, 'inaccur': 4939, 'walt': 4940, 'blur': 4941, 'forgiven': 4942, 'meal': 4943, '1985': 4944, 'tokyo': 4945, 'genet': 4946, 'congratul': 4947, 'curtain': 4948, 'sacrif': 4949, 'roar': 4950, 'ash': 4951, 'miami': 4952, 'basket': 4953, 'pioneer': 4954, 'spray': 4955, 'sidewalk': 4956, 'truman': 4957, 'goldblum': 4958, 'id': 4959, 'bsg': 4960, 'aussi': 4961, 'paula': 4962, 'comb': 4963, 'spill': 4964, 'vastli': 4965, 'reincarn': 4966, 'epitom': 4967, 'bravo': 4968, 'macabr': 4969, 'motorcycl': 4970, 'evan': 4971, 'optimist': 4972, 'omin': 4973, 'orchestr': 4974, 'substanti': 4975, 'profil': 4976, 'drone': 4977, 'ingrid': 4978, 'rapidli': 4979, 'asset': 4980, 'detach': 4981, 'turtl': 4982, '21st': 4983, 'ghetto': 4984, 'scarfac': 4985, 'assort': 4986, 'frontal': 4987, 'dubiou': 4988, 'scariest': 4989, 'verg': 4990, 'modest': 4991, 'handicap': 4992, 'weari': 4993, 'sophi': 4994, 'sparkl': 4995, 'casper': 4996, 'bach': 4997, 'victorian': 4998, 'masterson': 4999}\n"
     ]
    }
   ],
   "source": [
    "word_dict = build_dict(train_X)\n",
    "print(word_dict)"
   ]
  },
  {
   "cell_type": "code",
   "execution_count": 14,
   "metadata": {
    "scrolled": true
   },
   "outputs": [
    {
     "name": "stdout",
     "output_type": "stream",
     "text": [
      "The five most frequently words used in training are:\n",
      "movi\n",
      "film\n",
      "one\n",
      "like\n",
      "time\n"
     ]
    }
   ],
   "source": [
    "# TODO: Use this space to determine the five most frequently appearing words in the training set.\n",
    "print(\"The five most frequently words used in training are:\")\n",
    "for word in list(word_dict.keys())[:5]:\n",
    "    print(word)"
   ]
  },
  {
   "cell_type": "markdown",
   "metadata": {},
   "source": [
    "**Question:** What are the five most frequently appearing (tokenized) words in the training set? Does it makes sense that these words appear frequently in the training set?"
   ]
  },
  {
   "cell_type": "markdown",
   "metadata": {},
   "source": [
    "**Answer:** The most frequently used words in the training sets are as follows:\n",
    "1) movi 2) film 3) one 4) like 5) time"
   ]
  },
  {
   "cell_type": "markdown",
   "metadata": {},
   "source": [
    "### Save `word_dict`\n",
    "\n",
    "Later on when we construct an endpoint which processes a submitted review we will need to make use of the `word_dict` which we have created. As such, we will save it to a file now for future use."
   ]
  },
  {
   "cell_type": "code",
   "execution_count": 15,
   "metadata": {},
   "outputs": [],
   "source": [
    "data_dir = '../data/pytorch' # The folder we will use for storing data\n",
    "if not os.path.exists(data_dir): # Make sure that the folder exists\n",
    "    os.makedirs(data_dir)"
   ]
  },
  {
   "cell_type": "code",
   "execution_count": 16,
   "metadata": {},
   "outputs": [],
   "source": [
    "with open(os.path.join(data_dir, 'word_dict.pkl'), \"wb\") as f:\n",
    "    pickle.dump(word_dict, f)"
   ]
  },
  {
   "cell_type": "markdown",
   "metadata": {},
   "source": [
    "### Transform the reviews\n",
    "\n",
    "Now that we have our word dictionary which allows us to transform the words appearing in the reviews into integers, it is time to make use of it and convert our reviews to their integer sequence representation, making sure to pad or truncate to a fixed length, which in our case is `500`."
   ]
  },
  {
   "cell_type": "code",
   "execution_count": 17,
   "metadata": {},
   "outputs": [],
   "source": [
    "def convert_and_pad(word_dict, sentence, pad=500):\n",
    "    NOWORD = 0 # We will use 0 to represent the 'no word' category\n",
    "    INFREQ = 1 # and we use 1 to represent the infrequent words, i.e., words not appearing in word_dict\n",
    "    \n",
    "    working_sentence = [NOWORD] * pad\n",
    "    \n",
    "    for word_index, word in enumerate(sentence[:pad]):\n",
    "        if word in word_dict:\n",
    "            working_sentence[word_index] = word_dict[word]\n",
    "        else:\n",
    "            working_sentence[word_index] = INFREQ\n",
    "            \n",
    "    return working_sentence, min(len(sentence), pad)\n",
    "\n",
    "def convert_and_pad_data(word_dict, data, pad=500):\n",
    "    result = []\n",
    "    lengths = []\n",
    "    \n",
    "    for sentence in data:\n",
    "        converted, leng = convert_and_pad(word_dict, sentence, pad)\n",
    "        result.append(converted)\n",
    "        lengths.append(leng)\n",
    "        \n",
    "    return np.array(result), np.array(lengths)"
   ]
  },
  {
   "cell_type": "code",
   "execution_count": 18,
   "metadata": {},
   "outputs": [],
   "source": [
    "train_X, train_X_len = convert_and_pad_data(word_dict, train_X)\n",
    "test_X, test_X_len = convert_and_pad_data(word_dict, test_X)"
   ]
  },
  {
   "cell_type": "markdown",
   "metadata": {},
   "source": [
    "As a quick check to make sure that things are working as intended, check to see what one of the reviews in the training set looks like after having been processeed. Does this look reasonable? What is the length of a review in the training set?"
   ]
  },
  {
   "cell_type": "code",
   "execution_count": 19,
   "metadata": {},
   "outputs": [
    {
     "name": "stdout",
     "output_type": "stream",
     "text": [
      "[   5    1    1 3069    1 1281   11    3  534    1    5 4967 1750  358\n",
      "    1 1364    1 4442    1  395 1422 1206   49 2688   63   43 1800  227\n",
      "    1    1 1433   53   43  553    1  812   53  502   63    1   43   16\n",
      "   48 2148   96  533  693  414  175  105  947   96    1 1281  255  473\n",
      "   33 2713 1915  175    1  324 3169 3968   80  690 1528   63   10  177\n",
      "  480 1048  243 1060    1   29    1   48  255 1154   40    1   29    1\n",
      "   17   50   64  253  997 4828   87  585 3151 1910 3968    1   81    1\n",
      "  357 3737 1923  288 3853 1100    1  504   10   31  838 1229    5  288\n",
      "    1   33  103  947  406 3228  602  816    1    1   60    7    4  147\n",
      "  108 4872    1   43    1   30    1 3228  110 4407 3419 3714   17    1\n",
      " 3968   36   51   96  552   13  134  391 3541    1    1   63  142    1\n",
      " 1836  551  553   74    4    1    7  132  593 2089   49  230  348  175\n",
      "   44 4254 4026    1    1  227    1  458  967  408    1    1  128    1\n",
      "    1   10  442  379  302   73  260    1    1   61    1   63    1    1\n",
      " 3151  778   59   61    1 3878 1206   49    4    1    1  202    4    1\n",
      " 1750  202  136  937    0    0    0    0    0    0    0    0    0    0\n",
      "    0    0    0    0    0    0    0    0    0    0    0    0    0    0\n",
      "    0    0    0    0    0    0    0    0    0    0    0    0    0    0\n",
      "    0    0    0    0    0    0    0    0    0    0    0    0    0    0\n",
      "    0    0    0    0    0    0    0    0    0    0    0    0    0    0\n",
      "    0    0    0    0    0    0    0    0    0    0    0    0    0    0\n",
      "    0    0    0    0    0    0    0    0    0    0    0    0    0    0\n",
      "    0    0    0    0    0    0    0    0    0    0    0    0    0    0\n",
      "    0    0    0    0    0    0    0    0    0    0    0    0    0    0\n",
      "    0    0    0    0    0    0    0    0    0    0    0    0    0    0\n",
      "    0    0    0    0    0    0    0    0    0    0    0    0    0    0\n",
      "    0    0    0    0    0    0    0    0    0    0    0    0    0    0\n",
      "    0    0    0    0    0    0    0    0    0    0    0    0    0    0\n",
      "    0    0    0    0    0    0    0    0    0    0    0    0    0    0\n",
      "    0    0    0    0    0    0    0    0    0    0    0    0    0    0\n",
      "    0    0    0    0    0    0    0    0    0    0    0    0    0    0\n",
      "    0    0    0    0    0    0    0    0    0    0    0    0    0    0\n",
      "    0    0    0    0    0    0    0    0    0    0    0    0    0    0\n",
      "    0    0    0    0    0    0    0    0    0    0    0    0    0    0\n",
      "    0    0    0    0    0    0    0    0    0    0    0    0    0    0\n",
      "    0    0    0    0    0    0    0    0    0    0]\n"
     ]
    }
   ],
   "source": [
    "# Use this cell to examine one of the processed reviews to make sure everything is working as intended.\n",
    "print(train_X[100])\n"
   ]
  },
  {
   "cell_type": "markdown",
   "metadata": {},
   "source": [
    "**Question:** In the cells above we use the `preprocess_data` and `convert_and_pad_data` methods to process both the training and testing set. Why or why not might this be a problem?"
   ]
  },
  {
   "cell_type": "markdown",
   "metadata": {},
   "source": [
    "**Answer:**According to the above cell the methods that i am using to process the data for training should be processed the same way for testing set as well as training set.\n",
    "The words that we are using if same then it wil create the problem for training set but not for testing set."
   ]
  },
  {
   "cell_type": "markdown",
   "metadata": {},
   "source": [
    "## Step 3: Upload the data to S3\n",
    "\n",
    "As in the XGBoost notebook, we will need to upload the training dataset to S3 in order for our training code to access it. For now we will save it locally and we will upload to S3 later on.\n",
    "\n",
    "### Save the processed training dataset locally\n",
    "\n",
    "It is important to note the format of the data that we are saving as we will need to know it when we write the training code. In our case, each row of the dataset has the form `label`, `length`, `review[500]` where `review[500]` is a sequence of `500` integers representing the words in the review."
   ]
  },
  {
   "cell_type": "code",
   "execution_count": 20,
   "metadata": {},
   "outputs": [],
   "source": [
    "import pandas as pd\n",
    "    \n",
    "pd.concat([pd.DataFrame(train_y), pd.DataFrame(train_X_len), pd.DataFrame(train_X)], axis=1) \\\n",
    "        .to_csv(os.path.join(data_dir, 'train.csv'), header=False, index=False)"
   ]
  },
  {
   "cell_type": "markdown",
   "metadata": {},
   "source": [
    "### Uploading the training data\n",
    "\n",
    "\n",
    "Next, we need to upload the training data to the SageMaker default S3 bucket so that we can provide access to it while training our model."
   ]
  },
  {
   "cell_type": "code",
   "execution_count": 21,
   "metadata": {},
   "outputs": [],
   "source": [
    "import sagemaker\n",
    "\n",
    "sagemaker_session = sagemaker.Session()\n",
    "\n",
    "bucket = sagemaker_session.default_bucket()\n",
    "prefix = 'sagemaker/sentiment_rnn'\n",
    "\n",
    "role = sagemaker.get_execution_role()"
   ]
  },
  {
   "cell_type": "code",
   "execution_count": 22,
   "metadata": {},
   "outputs": [],
   "source": [
    "input_data = sagemaker_session.upload_data(path=data_dir, bucket=bucket, key_prefix=prefix)"
   ]
  },
  {
   "cell_type": "markdown",
   "metadata": {},
   "source": [
    "**NOTE:** The cell above uploads the entire contents of our data directory. This includes the `word_dict.pkl` file. This is fortunate as we will need this later on when we create an endpoint that accepts an arbitrary review. For now, we will just take note of the fact that it resides in the data directory (and so also in the S3 training bucket) and that we will need to make sure it gets saved in the model directory."
   ]
  },
  {
   "cell_type": "markdown",
   "metadata": {},
   "source": [
    "## Step 4: Build and Train the PyTorch Model\n",
    "\n",
    "In the XGBoost notebook we discussed what a model is in the SageMaker framework. In particular, a model comprises three objects\n",
    "\n",
    " - Model Artifacts,\n",
    " - Training Code, and\n",
    " - Inference Code,\n",
    " \n",
    "each of which interact with one another. In the XGBoost example we used training and inference code that was provided by Amazon. Here we will still be using containers provided by Amazon with the added benefit of being able to include our own custom code.\n",
    "\n",
    "We will start by implementing our own neural network in PyTorch along with a training script. For the purposes of this project we have provided the necessary model object in the `model.py` file, inside of the `train` folder. You can see the provided implementation by running the cell below."
   ]
  },
  {
   "cell_type": "code",
   "execution_count": 23,
   "metadata": {},
   "outputs": [
    {
     "name": "stdout",
     "output_type": "stream",
     "text": [
      "\u001b[34mimport\u001b[39;49;00m \u001b[04m\u001b[36mtorch.nn\u001b[39;49;00m \u001b[34mas\u001b[39;49;00m \u001b[04m\u001b[36mnn\u001b[39;49;00m\r\n",
      "\r\n",
      "\u001b[34mclass\u001b[39;49;00m \u001b[04m\u001b[32mLSTMClassifier\u001b[39;49;00m(nn.Module):\r\n",
      "    \u001b[33m\"\"\"\u001b[39;49;00m\r\n",
      "\u001b[33m    This is the simple RNN model we will be using to perform Sentiment Analysis.\u001b[39;49;00m\r\n",
      "\u001b[33m    \"\"\"\u001b[39;49;00m\r\n",
      "\r\n",
      "    \u001b[34mdef\u001b[39;49;00m \u001b[32m__init__\u001b[39;49;00m(\u001b[36mself\u001b[39;49;00m, embedding_dim, hidden_dim, vocab_size):\r\n",
      "        \u001b[33m\"\"\"\u001b[39;49;00m\r\n",
      "\u001b[33m        Initialize the model by settingg up the various layers.\u001b[39;49;00m\r\n",
      "\u001b[33m        \"\"\"\u001b[39;49;00m\r\n",
      "        \u001b[36msuper\u001b[39;49;00m(LSTMClassifier, \u001b[36mself\u001b[39;49;00m).\u001b[32m__init__\u001b[39;49;00m()\r\n",
      "\r\n",
      "        \u001b[36mself\u001b[39;49;00m.embedding = nn.Embedding(vocab_size, embedding_dim, padding_idx=\u001b[34m0\u001b[39;49;00m)\r\n",
      "        \u001b[36mself\u001b[39;49;00m.lstm = nn.LSTM(embedding_dim, hidden_dim)\r\n",
      "        \u001b[36mself\u001b[39;49;00m.dense = nn.Linear(in_features=hidden_dim, out_features=\u001b[34m1\u001b[39;49;00m)\r\n",
      "        \u001b[36mself\u001b[39;49;00m.sig = nn.Sigmoid()\r\n",
      "        \r\n",
      "        \u001b[36mself\u001b[39;49;00m.word_dict = \u001b[36mNone\u001b[39;49;00m\r\n",
      "\r\n",
      "    \u001b[34mdef\u001b[39;49;00m \u001b[32mforward\u001b[39;49;00m(\u001b[36mself\u001b[39;49;00m, x):\r\n",
      "        \u001b[33m\"\"\"\u001b[39;49;00m\r\n",
      "\u001b[33m        Perform a forward pass of our model on some input.\u001b[39;49;00m\r\n",
      "\u001b[33m        \"\"\"\u001b[39;49;00m\r\n",
      "        x = x.t()\r\n",
      "        lengths = x[\u001b[34m0\u001b[39;49;00m,:]\r\n",
      "        reviews = x[\u001b[34m1\u001b[39;49;00m:,:]\r\n",
      "        embeds = \u001b[36mself\u001b[39;49;00m.embedding(reviews)\r\n",
      "        lstm_out, _ = \u001b[36mself\u001b[39;49;00m.lstm(embeds)\r\n",
      "        out = \u001b[36mself\u001b[39;49;00m.dense(lstm_out)\r\n",
      "        out = out[lengths - \u001b[34m1\u001b[39;49;00m, \u001b[36mrange\u001b[39;49;00m(\u001b[36mlen\u001b[39;49;00m(lengths))]\r\n",
      "        \u001b[34mreturn\u001b[39;49;00m \u001b[36mself\u001b[39;49;00m.sig(out.squeeze())\r\n"
     ]
    }
   ],
   "source": [
    "!pygmentize train/model.py"
   ]
  },
  {
   "cell_type": "markdown",
   "metadata": {},
   "source": [
    "The important takeaway from the implementation provided is that there are three parameters that we may wish to tweak to improve the performance of our model. These are the embedding dimension, the hidden dimension and the size of the vocabulary. We will likely want to make these parameters configurable in the training script so that if we wish to modify them we do not need to modify the script itself. We will see how to do this later on. To start we will write some of the training code in the notebook so that we can more easily diagnose any issues that arise.\n",
    "\n",
    "First we will load a small portion of the training data set to use as a sample. It would be very time consuming to try and train the model completely in the notebook as we do not have access to a gpu and the compute instance that we are using is not particularly powerful. However, we can work on a small bit of the data to get a feel for how our training script is behaving."
   ]
  },
  {
   "cell_type": "code",
   "execution_count": 24,
   "metadata": {},
   "outputs": [],
   "source": [
    "import torch\n",
    "import torch.utils.data\n",
    "\n",
    "# Read in only the first 250 rows\n",
    "train_sample = pd.read_csv(os.path.join(data_dir, 'train.csv'), header=None, names=None, nrows=250)\n",
    "\n",
    "# Turn the input pandas dataframe into tensors\n",
    "train_sample_y = torch.from_numpy(train_sample[[0]].values).float().squeeze()\n",
    "train_sample_X = torch.from_numpy(train_sample.drop([0], axis=1).values).long()\n",
    "\n",
    "# Build the dataset\n",
    "train_sample_ds = torch.utils.data.TensorDataset(train_sample_X, train_sample_y)\n",
    "# Build the dataloader\n",
    "train_sample_dl = torch.utils.data.DataLoader(train_sample_ds, batch_size=50)"
   ]
  },
  {
   "cell_type": "markdown",
   "metadata": {},
   "source": [
    "### (TODO) Writing the training method\n",
    "\n",
    "Next we need to write the training code itself. This should be very similar to training methods that you have written before to train PyTorch models. We will leave any difficult aspects such as model saving / loading and parameter loading until a little later."
   ]
  },
  {
   "cell_type": "code",
   "execution_count": 25,
   "metadata": {},
   "outputs": [],
   "source": [
    "def train(model, train_loader, epochs, optimizer, loss_fn, device):\n",
    "    for epoch in range(1, epochs + 1):\n",
    "        model.train()\n",
    "        total_loss = 0\n",
    "        for batch in train_loader:         \n",
    "            batch_X, batch_y = batch\n",
    "            \n",
    "            batch_X = batch_X.to(device)\n",
    "            batch_y = batch_y.to(device)\n",
    "            \n",
    "            # TODO: Complete this train method to train the model provided.\n",
    "            optimizer.zero_grad()\n",
    "            output = model.forward(batch_X)\n",
    "            loss = loss_fn(output, batch_y)\n",
    "            loss.backward()\n",
    "            optimizer.step()\n",
    "            total_loss += loss.data.item()\n",
    "        print(\"Epoch: {}, BCELoss: {}\".format(epoch, total_loss / len(train_loader)))"
   ]
  },
  {
   "cell_type": "markdown",
   "metadata": {},
   "source": [
    "Supposing we have the training method above, we will test that it is working by writing a bit of code in the notebook that executes our training method on the small sample training set that we loaded earlier. The reason for doing this in the notebook is so that we have an opportunity to fix any errors that arise early when they are easier to diagnose."
   ]
  },
  {
   "cell_type": "code",
   "execution_count": 26,
   "metadata": {},
   "outputs": [
    {
     "name": "stdout",
     "output_type": "stream",
     "text": [
      "Epoch: 1, BCELoss: 0.6954597115516663\n",
      "Epoch: 2, BCELoss: 0.6868230938911438\n",
      "Epoch: 3, BCELoss: 0.6796171069145203\n",
      "Epoch: 4, BCELoss: 0.6720471739768982\n",
      "Epoch: 5, BCELoss: 0.6633438467979431\n"
     ]
    }
   ],
   "source": [
    "import torch.optim as optim\n",
    "from train.model import LSTMClassifier\n",
    "\n",
    "device = torch.device(\"cuda\" if torch.cuda.is_available() else \"cpu\")\n",
    "model = LSTMClassifier(32, 100, 5000).to(device)\n",
    "optimizer = optim.Adam(model.parameters())\n",
    "loss_fn = torch.nn.BCELoss()\n",
    "\n",
    "train(model, train_sample_dl, 5, optimizer, loss_fn, device)"
   ]
  },
  {
   "cell_type": "markdown",
   "metadata": {},
   "source": [
    "In order to construct a PyTorch model using SageMaker we must provide SageMaker with a training script. We may optionally include a directory which will be copied to the container and from which our training code will be run. When the training container is executed it will check the uploaded directory (if there is one) for a `requirements.txt` file and install any required Python libraries, after which the training script will be run."
   ]
  },
  {
   "cell_type": "markdown",
   "metadata": {},
   "source": [
    "### (TODO) Training the model\n",
    "\n",
    "When a PyTorch model is constructed in SageMaker, an entry point must be specified. This is the Python file which will be executed when the model is trained. Inside of the `train` directory is a file called `train.py` which has been provided and which contains most of the necessary code to train our model. The only thing that is missing is the implementation of the `train()` method which you wrote earlier in this notebook.\n",
    "\n",
    "**TODO**: Copy the `train()` method written above and paste it into the `train/train.py` file where required.\n",
    "\n",
    "The way that SageMaker passes hyperparameters to the training script is by way of arguments. These arguments can then be parsed and used in the training script. To see how this is done take a look at the provided `train/train.py` file."
   ]
  },
  {
   "cell_type": "code",
   "execution_count": 27,
   "metadata": {},
   "outputs": [],
   "source": [
    "from sagemaker.pytorch import PyTorch\n",
    "\n",
    "estimator = PyTorch(entry_point=\"train.py\",\n",
    "                    source_dir=\"train\",\n",
    "                    role=role,\n",
    "                    framework_version='0.4.0',\n",
    "                    train_instance_count=1,\n",
    "                    train_instance_type='ml.p2.xlarge',\n",
    "                    hyperparameters={\n",
    "                        'epochs': 10,\n",
    "                        'hidden_dim': 200,\n",
    "                    })"
   ]
  },
  {
   "cell_type": "code",
   "execution_count": 28,
   "metadata": {
    "scrolled": false
   },
   "outputs": [
    {
     "name": "stdout",
     "output_type": "stream",
     "text": [
      "2019-11-16 14:18:10 Starting - Starting the training job...\n",
      "2019-11-16 14:18:11 Starting - Launching requested ML instances......\n",
      "2019-11-16 14:19:31 Starting - Preparing the instances for training......\n",
      "2019-11-16 14:20:38 Downloading - Downloading input data\n",
      "2019-11-16 14:20:38 Training - Downloading the training image......\n",
      "2019-11-16 14:21:38 Training - Training image download completed. Training in progress..\u001b[31mbash: cannot set terminal process group (-1): Inappropriate ioctl for device\u001b[0m\n",
      "\u001b[31mbash: no job control in this shell\u001b[0m\n",
      "\u001b[31m2019-11-16 14:21:39,292 sagemaker-containers INFO     Imported framework sagemaker_pytorch_container.training\u001b[0m\n",
      "\u001b[31m2019-11-16 14:21:39,317 sagemaker_pytorch_container.training INFO     Block until all host DNS lookups succeed.\u001b[0m\n",
      "\u001b[31m2019-11-16 14:21:39,320 sagemaker_pytorch_container.training INFO     Invoking user training script.\u001b[0m\n",
      "\u001b[31m2019-11-16 14:21:39,550 sagemaker-containers INFO     Module train does not provide a setup.py. \u001b[0m\n",
      "\u001b[31mGenerating setup.py\u001b[0m\n",
      "\u001b[31m2019-11-16 14:21:39,550 sagemaker-containers INFO     Generating setup.cfg\u001b[0m\n",
      "\u001b[31m2019-11-16 14:21:39,550 sagemaker-containers INFO     Generating MANIFEST.in\u001b[0m\n",
      "\u001b[31m2019-11-16 14:21:39,550 sagemaker-containers INFO     Installing module with the following command:\u001b[0m\n",
      "\u001b[31m/usr/bin/python -m pip install -U . -r requirements.txt\u001b[0m\n",
      "\u001b[31mProcessing /opt/ml/code\u001b[0m\n",
      "\u001b[31mCollecting pandas (from -r requirements.txt (line 1))\n",
      "  Downloading https://files.pythonhosted.org/packages/74/24/0cdbf8907e1e3bc5a8da03345c23cbed7044330bb8f73bb12e711a640a00/pandas-0.24.2-cp35-cp35m-manylinux1_x86_64.whl (10.0MB)\u001b[0m\n",
      "\u001b[31mCollecting numpy (from -r requirements.txt (line 2))\n",
      "  Downloading https://files.pythonhosted.org/packages/ab/e9/2561dbfbc05146bffa02167e09b9902e273decb2dc4cd5c43314ede20312/numpy-1.17.4-cp35-cp35m-manylinux1_x86_64.whl (19.8MB)\u001b[0m\n",
      "\u001b[31mCollecting nltk (from -r requirements.txt (line 3))\n",
      "  Downloading https://files.pythonhosted.org/packages/f6/1d/d925cfb4f324ede997f6d47bea4d9babba51b49e87a767c170b77005889d/nltk-3.4.5.zip (1.5MB)\u001b[0m\n",
      "\u001b[31mCollecting beautifulsoup4 (from -r requirements.txt (line 4))\n",
      "  Downloading https://files.pythonhosted.org/packages/3b/c8/a55eb6ea11cd7e5ac4bacdf92bac4693b90d3ba79268be16527555e186f0/beautifulsoup4-4.8.1-py3-none-any.whl (101kB)\u001b[0m\n",
      "\u001b[31mCollecting html5lib (from -r requirements.txt (line 5))\n",
      "  Downloading https://files.pythonhosted.org/packages/a5/62/bbd2be0e7943ec8504b517e62bab011b4946e1258842bc159e5dfde15b96/html5lib-1.0.1-py2.py3-none-any.whl (117kB)\u001b[0m\n",
      "\u001b[31mCollecting pytz>=2011k (from pandas->-r requirements.txt (line 1))\n",
      "  Downloading https://files.pythonhosted.org/packages/e7/f9/f0b53f88060247251bf481fa6ea62cd0d25bf1b11a87888e53ce5b7c8ad2/pytz-2019.3-py2.py3-none-any.whl (509kB)\u001b[0m\n",
      "\u001b[31mRequirement already satisfied, skipping upgrade: python-dateutil>=2.5.0 in /usr/local/lib/python3.5/dist-packages (from pandas->-r requirements.txt (line 1)) (2.7.5)\u001b[0m\n",
      "\u001b[31mRequirement already satisfied, skipping upgrade: six in /usr/local/lib/python3.5/dist-packages (from nltk->-r requirements.txt (line 3)) (1.11.0)\u001b[0m\n",
      "\u001b[31mCollecting soupsieve>=1.2 (from beautifulsoup4->-r requirements.txt (line 4))\n",
      "  Downloading https://files.pythonhosted.org/packages/81/94/03c0f04471fc245d08d0a99f7946ac228ca98da4fa75796c507f61e688c2/soupsieve-1.9.5-py2.py3-none-any.whl\u001b[0m\n",
      "\u001b[31mCollecting webencodings (from html5lib->-r requirements.txt (line 5))\n",
      "  Downloading https://files.pythonhosted.org/packages/f4/24/2a3e3df732393fed8b3ebf2ec078f05546de641fe1b667ee316ec1dcf3b7/webencodings-0.5.1-py2.py3-none-any.whl\u001b[0m\n",
      "\u001b[31mBuilding wheels for collected packages: nltk, train\n",
      "  Running setup.py bdist_wheel for nltk: started\u001b[0m\n",
      "\u001b[31m  Running setup.py bdist_wheel for nltk: finished with status 'done'\n",
      "  Stored in directory: /root/.cache/pip/wheels/96/86/f6/68ab24c23f207c0077381a5e3904b2815136b879538a24b483\n",
      "  Running setup.py bdist_wheel for train: started\u001b[0m\n",
      "\u001b[31m  Running setup.py bdist_wheel for train: finished with status 'done'\n",
      "  Stored in directory: /tmp/pip-ephem-wheel-cache-2gq09z12/wheels/35/24/16/37574d11bf9bde50616c67372a334f94fa8356bc7164af8ca3\u001b[0m\n",
      "\u001b[31mSuccessfully built nltk train\u001b[0m\n",
      "\u001b[31mInstalling collected packages: pytz, numpy, pandas, nltk, soupsieve, beautifulsoup4, webencodings, html5lib, train\n",
      "  Found existing installation: numpy 1.15.4\n",
      "    Uninstalling numpy-1.15.4:\u001b[0m\n",
      "\u001b[31m      Successfully uninstalled numpy-1.15.4\u001b[0m\n",
      "\u001b[31mSuccessfully installed beautifulsoup4-4.8.1 html5lib-1.0.1 nltk-3.4.5 numpy-1.17.4 pandas-0.24.2 pytz-2019.3 soupsieve-1.9.5 train-1.0.0 webencodings-0.5.1\u001b[0m\n",
      "\u001b[31mYou are using pip version 18.1, however version 19.3.1 is available.\u001b[0m\n",
      "\u001b[31mYou should consider upgrading via the 'pip install --upgrade pip' command.\u001b[0m\n",
      "\u001b[31m2019-11-16 14:21:51,926 sagemaker-containers INFO     Invoking user script\n",
      "\u001b[0m\n",
      "\u001b[31mTraining Env:\n",
      "\u001b[0m\n",
      "\u001b[31m{\n",
      "    \"current_host\": \"algo-1\",\n",
      "    \"network_interface_name\": \"eth0\",\n",
      "    \"input_data_config\": {\n",
      "        \"training\": {\n",
      "            \"TrainingInputMode\": \"File\",\n",
      "            \"S3DistributionType\": \"FullyReplicated\",\n",
      "            \"RecordWrapperType\": \"None\"\n",
      "        }\n",
      "    },\n",
      "    \"output_intermediate_dir\": \"/opt/ml/output/intermediate\",\n",
      "    \"channel_input_dirs\": {\n",
      "        \"training\": \"/opt/ml/input/data/training\"\n",
      "    },\n",
      "    \"model_dir\": \"/opt/ml/model\",\n",
      "    \"user_entry_point\": \"train.py\",\n",
      "    \"framework_module\": \"sagemaker_pytorch_container.training:main\",\n",
      "    \"log_level\": 20,\n",
      "    \"hyperparameters\": {\n",
      "        \"hidden_dim\": 200,\n",
      "        \"epochs\": 10\n",
      "    },\n",
      "    \"hosts\": [\n",
      "        \"algo-1\"\n",
      "    ],\n",
      "    \"module_name\": \"train\",\n",
      "    \"input_config_dir\": \"/opt/ml/input/config\",\n",
      "    \"num_gpus\": 1,\n",
      "    \"resource_config\": {\n",
      "        \"current_host\": \"algo-1\",\n",
      "        \"network_interface_name\": \"eth0\",\n",
      "        \"hosts\": [\n",
      "            \"algo-1\"\n",
      "        ]\n",
      "    },\n",
      "    \"input_dir\": \"/opt/ml/input\",\n",
      "    \"output_data_dir\": \"/opt/ml/output/data\",\n",
      "    \"module_dir\": \"s3://sagemaker-ap-south-1-496495661379/sagemaker-pytorch-2019-11-16-14-18-09-420/source/sourcedir.tar.gz\",\n",
      "    \"job_name\": \"sagemaker-pytorch-2019-11-16-14-18-09-420\",\n",
      "    \"output_dir\": \"/opt/ml/output\",\n",
      "    \"additional_framework_parameters\": {},\n",
      "    \"num_cpus\": 4\u001b[0m\n",
      "\u001b[31m}\n",
      "\u001b[0m\n",
      "\u001b[31mEnvironment variables:\n",
      "\u001b[0m\n",
      "\u001b[31mSM_CHANNEL_TRAINING=/opt/ml/input/data/training\u001b[0m\n",
      "\u001b[31mSM_MODULE_NAME=train\u001b[0m\n",
      "\u001b[31mSM_RESOURCE_CONFIG={\"current_host\":\"algo-1\",\"hosts\":[\"algo-1\"],\"network_interface_name\":\"eth0\"}\u001b[0m\n",
      "\u001b[31mSM_NETWORK_INTERFACE_NAME=eth0\u001b[0m\n",
      "\u001b[31mSM_USER_ARGS=[\"--epochs\",\"10\",\"--hidden_dim\",\"200\"]\u001b[0m\n",
      "\u001b[31mSM_MODEL_DIR=/opt/ml/model\u001b[0m\n",
      "\u001b[31mSM_LOG_LEVEL=20\u001b[0m\n",
      "\u001b[31mSM_NUM_GPUS=1\u001b[0m\n",
      "\u001b[31mSM_FRAMEWORK_PARAMS={}\u001b[0m\n",
      "\u001b[31mSM_FRAMEWORK_MODULE=sagemaker_pytorch_container.training:main\u001b[0m\n",
      "\u001b[31mSM_OUTPUT_DATA_DIR=/opt/ml/output/data\u001b[0m\n",
      "\u001b[31mSM_TRAINING_ENV={\"additional_framework_parameters\":{},\"channel_input_dirs\":{\"training\":\"/opt/ml/input/data/training\"},\"current_host\":\"algo-1\",\"framework_module\":\"sagemaker_pytorch_container.training:main\",\"hosts\":[\"algo-1\"],\"hyperparameters\":{\"epochs\":10,\"hidden_dim\":200},\"input_config_dir\":\"/opt/ml/input/config\",\"input_data_config\":{\"training\":{\"RecordWrapperType\":\"None\",\"S3DistributionType\":\"FullyReplicated\",\"TrainingInputMode\":\"File\"}},\"input_dir\":\"/opt/ml/input\",\"job_name\":\"sagemaker-pytorch-2019-11-16-14-18-09-420\",\"log_level\":20,\"model_dir\":\"/opt/ml/model\",\"module_dir\":\"s3://sagemaker-ap-south-1-496495661379/sagemaker-pytorch-2019-11-16-14-18-09-420/source/sourcedir.tar.gz\",\"module_name\":\"train\",\"network_interface_name\":\"eth0\",\"num_cpus\":4,\"num_gpus\":1,\"output_data_dir\":\"/opt/ml/output/data\",\"output_dir\":\"/opt/ml/output\",\"output_intermediate_dir\":\"/opt/ml/output/intermediate\",\"resource_config\":{\"current_host\":\"algo-1\",\"hosts\":[\"algo-1\"],\"network_interface_name\":\"eth0\"},\"user_entry_point\":\"train.py\"}\u001b[0m\n",
      "\u001b[31mSM_INPUT_CONFIG_DIR=/opt/ml/input/config\u001b[0m\n",
      "\u001b[31mSM_MODULE_DIR=s3://sagemaker-ap-south-1-496495661379/sagemaker-pytorch-2019-11-16-14-18-09-420/source/sourcedir.tar.gz\u001b[0m\n",
      "\u001b[31mSM_INPUT_DIR=/opt/ml/input\u001b[0m\n",
      "\u001b[31mSM_CHANNELS=[\"training\"]\u001b[0m\n",
      "\u001b[31mSM_USER_ENTRY_POINT=train.py\u001b[0m\n",
      "\u001b[31mSM_OUTPUT_INTERMEDIATE_DIR=/opt/ml/output/intermediate\u001b[0m\n",
      "\u001b[31mSM_HPS={\"epochs\":10,\"hidden_dim\":200}\u001b[0m\n",
      "\u001b[31mSM_INPUT_DATA_CONFIG={\"training\":{\"RecordWrapperType\":\"None\",\"S3DistributionType\":\"FullyReplicated\",\"TrainingInputMode\":\"File\"}}\u001b[0m\n",
      "\u001b[31mSM_HP_HIDDEN_DIM=200\u001b[0m\n",
      "\u001b[31mSM_OUTPUT_DIR=/opt/ml/output\u001b[0m\n",
      "\u001b[31mPYTHONPATH=/usr/local/bin:/usr/lib/python35.zip:/usr/lib/python3.5:/usr/lib/python3.5/plat-x86_64-linux-gnu:/usr/lib/python3.5/lib-dynload:/usr/local/lib/python3.5/dist-packages:/usr/lib/python3/dist-packages\u001b[0m\n",
      "\u001b[31mSM_HOSTS=[\"algo-1\"]\u001b[0m\n",
      "\u001b[31mSM_NUM_CPUS=4\u001b[0m\n",
      "\u001b[31mSM_CURRENT_HOST=algo-1\u001b[0m\n",
      "\u001b[31mSM_HP_EPOCHS=10\n",
      "\u001b[0m\n",
      "\u001b[31mInvoking script with the following command:\n",
      "\u001b[0m\n",
      "\u001b[31m/usr/bin/python -m train --epochs 10 --hidden_dim 200\n",
      "\n",
      "\u001b[0m\n",
      "\u001b[31mUsing device cuda.\u001b[0m\n",
      "\u001b[31mGet train data loader.\u001b[0m\n"
     ]
    },
    {
     "name": "stdout",
     "output_type": "stream",
     "text": [
      "\u001b[31mModel loaded with embedding_dim 32, hidden_dim 200, vocab_size 5000.\u001b[0m\n",
      "\u001b[31mEpoch: 10, BCELoss: 0.29725166607876213\u001b[0m\n",
      "\u001b[31m2019-11-16 14:24:54,152 sagemaker-containers INFO     Reporting training SUCCESS\u001b[0m\n",
      "\n",
      "2019-11-16 14:25:01 Uploading - Uploading generated training model\n",
      "2019-11-16 14:25:01 Completed - Training job completed\n",
      "Training seconds: 286\n",
      "Billable seconds: 286\n"
     ]
    }
   ],
   "source": [
    "estimator.fit({'training': input_data})"
   ]
  },
  {
   "cell_type": "markdown",
   "metadata": {},
   "source": [
    "## Step 5: Testing the model\n",
    "\n",
    "As mentioned at the top of this notebook, we will be testing this model by first deploying it and then sending the testing data to the deployed endpoint. We will do this so that we can make sure that the deployed model is working correctly.\n",
    "\n",
    "## Step 6: Deploy the model for testing\n",
    "\n",
    "Now that we have trained our model, we would like to test it to see how it performs. Currently our model takes input of the form `review_length, review[500]` where `review[500]` is a sequence of `500` integers which describe the words present in the review, encoded using `word_dict`. Fortunately for us, SageMaker provides built-in inference code for models with simple inputs such as this.\n",
    "\n",
    "There is one thing that we need to provide, however, and that is a function which loads the saved model. This function must be called `model_fn()` and takes as its only parameter a path to the directory where the model artifacts are stored. This function must also be present in the python file which we specified as the entry point. In our case the model loading function has been provided and so no changes need to be made.\n",
    "\n",
    "**NOTE**: When the built-in inference code is run it must import the `model_fn()` method from the `train.py` file. This is why the training code is wrapped in a main guard ( ie, `if __name__ == '__main__':` )\n",
    "\n",
    "Since we don't need to change anything in the code that was uploaded during training, we can simply deploy the current model as-is.\n",
    "\n",
    "**NOTE:** When deploying a model you are asking SageMaker to launch an compute instance that will wait for data to be sent to it. As a result, this compute instance will continue to run until *you* shut it down. This is important to know since the cost of a deployed endpoint depends on how long it has been running for.\n",
    "\n",
    "In other words **If you are no longer using a deployed endpoint, shut it down!**\n",
    "\n",
    "**TODO:** Deploy the trained model."
   ]
  },
  {
   "cell_type": "code",
   "execution_count": 29,
   "metadata": {},
   "outputs": [
    {
     "name": "stdout",
     "output_type": "stream",
     "text": [
      "--------------------------------------------------------------------------!"
     ]
    }
   ],
   "source": [
    "# TODO: Deploy the trained model\n",
    "predictor = estimator.deploy(initial_instance_count =1 , instance_type = 'ml.m4.xlarge')"
   ]
  },
  {
   "cell_type": "markdown",
   "metadata": {},
   "source": [
    "## Step 7 - Use the model for testing\n",
    "\n",
    "Once deployed, we can read in the test data and send it off to our deployed model to get some results. Once we collect all of the results we can determine how accurate our model is."
   ]
  },
  {
   "cell_type": "code",
   "execution_count": 30,
   "metadata": {},
   "outputs": [],
   "source": [
    "test_X = pd.concat([pd.DataFrame(test_X_len), pd.DataFrame(test_X)], axis=1)"
   ]
  },
  {
   "cell_type": "code",
   "execution_count": 31,
   "metadata": {},
   "outputs": [],
   "source": [
    "# We split the data into chunks and send each chunk seperately, accumulating the results.\n",
    "\n",
    "def predict(data, rows=512):\n",
    "    split_array = np.array_split(data, int(data.shape[0] / float(rows) + 1))\n",
    "    predictions = np.array([])\n",
    "    for array in split_array:\n",
    "        predictions = np.append(predictions, predictor.predict(array))\n",
    "    \n",
    "    return predictions"
   ]
  },
  {
   "cell_type": "code",
   "execution_count": 32,
   "metadata": {},
   "outputs": [],
   "source": [
    "predictions = predict(test_X.values)\n",
    "predictions = [round(num) for num in predictions]"
   ]
  },
  {
   "cell_type": "code",
   "execution_count": 33,
   "metadata": {},
   "outputs": [
    {
     "data": {
      "text/plain": [
       "0.852"
      ]
     },
     "execution_count": 33,
     "metadata": {},
     "output_type": "execute_result"
    }
   ],
   "source": [
    "from sklearn.metrics import accuracy_score\n",
    "accuracy_score(test_y, predictions)"
   ]
  },
  {
   "cell_type": "markdown",
   "metadata": {},
   "source": [
    "**Question:** How does this model compare to the XGBoost model you created earlier? Why might these two models perform differently on this dataset? Which do *you* think is better for sentiment analysis?"
   ]
  },
  {
   "cell_type": "markdown",
   "metadata": {},
   "source": [
    "**Answer:**As compared to the XGBoost model the test accuracy is around almost same.\n",
    "LSTM used the word embedding and it is better that the model should be good at retaining the information.The test accuracy is 0.852 "
   ]
  },
  {
   "cell_type": "markdown",
   "metadata": {},
   "source": [
    "### (TODO) More testing\n",
    "\n",
    "We now have a trained model which has been deployed and which we can send processed reviews to and which returns the predicted sentiment. However, ultimately we would like to be able to send our model an unprocessed review. That is, we would like to send the review itself as a string. For example, suppose we wish to send the following review to our model."
   ]
  },
  {
   "cell_type": "code",
   "execution_count": 34,
   "metadata": {},
   "outputs": [],
   "source": [
    "test_review = 'The simplest pleasures in life are the best, and this film is one of them. Combining a rather basic storyline of love and adventure this movie transcends the usual weekend fair with wit and unmitigated charm.'"
   ]
  },
  {
   "cell_type": "markdown",
   "metadata": {},
   "source": [
    "The question we now need to answer is, how do we send this review to our model?\n",
    "\n",
    "Recall in the first section of this notebook we did a bunch of data processing to the IMDb dataset. In particular, we did two specific things to the provided reviews.\n",
    " - Removed any html tags and stemmed the input\n",
    " - Encoded the review as a sequence of integers using `word_dict`\n",
    " \n",
    "In order process the review we will need to repeat these two steps.\n",
    "\n",
    "**TODO**: Using the `review_to_words` and `convert_and_pad` methods from section one, convert `test_review` into a numpy array `test_data` suitable to send to our model. Remember that our model expects input of the form `review_length, review[500]`."
   ]
  },
  {
   "cell_type": "code",
   "execution_count": 35,
   "metadata": {},
   "outputs": [
    {
     "data": {
      "text/plain": [
       "((1, 501), array([  20,    1, 1375,   49,   53,    3,    4,  878]))"
      ]
     },
     "execution_count": 35,
     "metadata": {},
     "output_type": "execute_result"
    }
   ],
   "source": [
    "# TODO: Convert test_review into a form usable by the model and save the results in test_data\n",
    "test_review_words = review_to_words(test_review)\n",
    "test_review_words, test_review_len = convert_and_pad(word_dict, test_review_words)\n",
    "test_data = np.hstack((test_review_len, test_review_words))\n",
    "test_data = test_data.reshape(1, -1)\n",
    "test_data.shape, test_data[0, :8]"
   ]
  },
  {
   "cell_type": "markdown",
   "metadata": {},
   "source": [
    "Now that we have processed the review, we can send the resulting array to our model to predict the sentiment of the review."
   ]
  },
  {
   "cell_type": "code",
   "execution_count": 36,
   "metadata": {},
   "outputs": [
    {
     "data": {
      "text/plain": [
       "array(0.83386403, dtype=float32)"
      ]
     },
     "execution_count": 36,
     "metadata": {},
     "output_type": "execute_result"
    }
   ],
   "source": [
    "predictor.predict(test_data)"
   ]
  },
  {
   "cell_type": "markdown",
   "metadata": {},
   "source": [
    "Since the return value of our model is close to `1`, we can be certain that the review we submitted is positive."
   ]
  },
  {
   "cell_type": "markdown",
   "metadata": {},
   "source": [
    "### Delete the endpoint\n",
    "\n",
    "Of course, just like in the XGBoost notebook, once we've deployed an endpoint it continues to run until we tell it to shut down. Since we are done using our endpoint for now, we can delete it."
   ]
  },
  {
   "cell_type": "code",
   "execution_count": 37,
   "metadata": {},
   "outputs": [],
   "source": [
    "estimator.delete_endpoint()"
   ]
  },
  {
   "cell_type": "markdown",
   "metadata": {},
   "source": [
    "## Step 6 (again) - Deploy the model for the web app\n",
    "\n",
    "Now that we know that our model is working, it's time to create some custom inference code so that we can send the model a review which has not been processed and have it determine the sentiment of the review.\n",
    "\n",
    "As we saw above, by default the estimator which we created, when deployed, will use the entry script and directory which we provided when creating the model. However, since we now wish to accept a string as input and our model expects a processed review, we need to write some custom inference code.\n",
    "\n",
    "We will store the code that we write in the `serve` directory. Provided in this directory is the `model.py` file that we used to construct our model, a `utils.py` file which contains the `review_to_words` and `convert_and_pad` pre-processing functions which we used during the initial data processing, and `predict.py`, the file which will contain our custom inference code. Note also that `requirements.txt` is present which will tell SageMaker what Python libraries are required by our custom inference code.\n",
    "\n",
    "When deploying a PyTorch model in SageMaker, you are expected to provide four functions which the SageMaker inference container will use.\n",
    " - `model_fn`: This function is the same function that we used in the training script and it tells SageMaker how to load our model.\n",
    " - `input_fn`: This function receives the raw serialized input that has been sent to the model's endpoint and its job is to de-serialize and make the input available for the inference code.\n",
    " - `output_fn`: This function takes the output of the inference code and its job is to serialize this output and return it to the caller of the model's endpoint.\n",
    " - `predict_fn`: The heart of the inference script, this is where the actual prediction is done and is the function which you will need to complete.\n",
    "\n",
    "For the simple website that we are constructing during this project, the `input_fn` and `output_fn` methods are relatively straightforward. We only require being able to accept a string as input and we expect to return a single value as output. You might imagine though that in a more complex application the input or output may be image data or some other binary data which would require some effort to serialize.\n",
    "\n",
    "### (TODO) Writing inference code\n",
    "\n",
    "Before writing our custom inference code, we will begin by taking a look at the code which has been provided."
   ]
  },
  {
   "cell_type": "code",
   "execution_count": 50,
   "metadata": {},
   "outputs": [
    {
     "name": "stdout",
     "output_type": "stream",
     "text": [
      "\u001b[34mimport\u001b[39;49;00m \u001b[04m\u001b[36margparse\u001b[39;49;00m\r\n",
      "\u001b[34mimport\u001b[39;49;00m \u001b[04m\u001b[36mjson\u001b[39;49;00m\r\n",
      "\u001b[34mimport\u001b[39;49;00m \u001b[04m\u001b[36mos\u001b[39;49;00m\r\n",
      "\u001b[34mimport\u001b[39;49;00m \u001b[04m\u001b[36mpickle\u001b[39;49;00m\r\n",
      "\u001b[34mimport\u001b[39;49;00m \u001b[04m\u001b[36msys\u001b[39;49;00m\r\n",
      "\u001b[34mimport\u001b[39;49;00m \u001b[04m\u001b[36msagemaker_containers\u001b[39;49;00m\r\n",
      "\u001b[34mimport\u001b[39;49;00m \u001b[04m\u001b[36mpandas\u001b[39;49;00m \u001b[34mas\u001b[39;49;00m \u001b[04m\u001b[36mpd\u001b[39;49;00m\r\n",
      "\u001b[34mimport\u001b[39;49;00m \u001b[04m\u001b[36mnumpy\u001b[39;49;00m \u001b[34mas\u001b[39;49;00m \u001b[04m\u001b[36mnp\u001b[39;49;00m\r\n",
      "\u001b[34mimport\u001b[39;49;00m \u001b[04m\u001b[36mtorch\u001b[39;49;00m\r\n",
      "\u001b[34mimport\u001b[39;49;00m \u001b[04m\u001b[36mtorch.nn\u001b[39;49;00m \u001b[34mas\u001b[39;49;00m \u001b[04m\u001b[36mnn\u001b[39;49;00m\r\n",
      "\u001b[34mimport\u001b[39;49;00m \u001b[04m\u001b[36mtorch.optim\u001b[39;49;00m \u001b[34mas\u001b[39;49;00m \u001b[04m\u001b[36moptim\u001b[39;49;00m\r\n",
      "\u001b[34mimport\u001b[39;49;00m \u001b[04m\u001b[36mtorch.utils.data\u001b[39;49;00m\r\n",
      "\r\n",
      "\u001b[34mfrom\u001b[39;49;00m \u001b[04m\u001b[36mmodel\u001b[39;49;00m \u001b[34mimport\u001b[39;49;00m LSTMClassifier\r\n",
      "\r\n",
      "\u001b[34mfrom\u001b[39;49;00m \u001b[04m\u001b[36mutils\u001b[39;49;00m \u001b[34mimport\u001b[39;49;00m review_to_words, convert_and_pad\r\n",
      "\r\n",
      "\u001b[34mdef\u001b[39;49;00m \u001b[32mmodel_fn\u001b[39;49;00m(model_dir):\r\n",
      "    \u001b[33m\"\"\"Load the PyTorch model from the `model_dir` directory.\"\"\"\u001b[39;49;00m\r\n",
      "    \u001b[34mprint\u001b[39;49;00m(\u001b[33m\"\u001b[39;49;00m\u001b[33mLoading model.\u001b[39;49;00m\u001b[33m\"\u001b[39;49;00m)\r\n",
      "\r\n",
      "    \u001b[37m# First, load the parameters used to create the model.\u001b[39;49;00m\r\n",
      "    model_info = {}\r\n",
      "    model_info_path = os.path.join(model_dir, \u001b[33m'\u001b[39;49;00m\u001b[33mmodel_info.pth\u001b[39;49;00m\u001b[33m'\u001b[39;49;00m)\r\n",
      "    \u001b[34mwith\u001b[39;49;00m \u001b[36mopen\u001b[39;49;00m(model_info_path, \u001b[33m'\u001b[39;49;00m\u001b[33mrb\u001b[39;49;00m\u001b[33m'\u001b[39;49;00m) \u001b[34mas\u001b[39;49;00m f:\r\n",
      "        model_info = torch.load(f)\r\n",
      "\r\n",
      "    \u001b[34mprint\u001b[39;49;00m(\u001b[33m\"\u001b[39;49;00m\u001b[33mmodel_info: {}\u001b[39;49;00m\u001b[33m\"\u001b[39;49;00m.format(model_info))\r\n",
      "\r\n",
      "    \u001b[37m# Determine the device and construct the model.\u001b[39;49;00m\r\n",
      "    device = torch.device(\u001b[33m\"\u001b[39;49;00m\u001b[33mcuda\u001b[39;49;00m\u001b[33m\"\u001b[39;49;00m \u001b[34mif\u001b[39;49;00m torch.cuda.is_available() \u001b[34melse\u001b[39;49;00m \u001b[33m\"\u001b[39;49;00m\u001b[33mcpu\u001b[39;49;00m\u001b[33m\"\u001b[39;49;00m)\r\n",
      "    model = LSTMClassifier(model_info[\u001b[33m'\u001b[39;49;00m\u001b[33membedding_dim\u001b[39;49;00m\u001b[33m'\u001b[39;49;00m], model_info[\u001b[33m'\u001b[39;49;00m\u001b[33mhidden_dim\u001b[39;49;00m\u001b[33m'\u001b[39;49;00m], model_info[\u001b[33m'\u001b[39;49;00m\u001b[33mvocab_size\u001b[39;49;00m\u001b[33m'\u001b[39;49;00m])\r\n",
      "\r\n",
      "    \u001b[37m# Load the store model parameters.\u001b[39;49;00m\r\n",
      "    model_path = os.path.join(model_dir, \u001b[33m'\u001b[39;49;00m\u001b[33mmodel.pth\u001b[39;49;00m\u001b[33m'\u001b[39;49;00m)\r\n",
      "    \u001b[34mwith\u001b[39;49;00m \u001b[36mopen\u001b[39;49;00m(model_path, \u001b[33m'\u001b[39;49;00m\u001b[33mrb\u001b[39;49;00m\u001b[33m'\u001b[39;49;00m) \u001b[34mas\u001b[39;49;00m f:\r\n",
      "        model.load_state_dict(torch.load(f))\r\n",
      "\r\n",
      "    \u001b[37m# Load the saved word_dict.\u001b[39;49;00m\r\n",
      "    word_dict_path = os.path.join(model_dir, \u001b[33m'\u001b[39;49;00m\u001b[33mword_dict.pkl\u001b[39;49;00m\u001b[33m'\u001b[39;49;00m)\r\n",
      "    \u001b[34mwith\u001b[39;49;00m \u001b[36mopen\u001b[39;49;00m(word_dict_path, \u001b[33m'\u001b[39;49;00m\u001b[33mrb\u001b[39;49;00m\u001b[33m'\u001b[39;49;00m) \u001b[34mas\u001b[39;49;00m f:\r\n",
      "        model.word_dict = pickle.load(f)\r\n",
      "\r\n",
      "    model.to(device).eval()\r\n",
      "\r\n",
      "    \u001b[34mprint\u001b[39;49;00m(\u001b[33m\"\u001b[39;49;00m\u001b[33mDone loading model.\u001b[39;49;00m\u001b[33m\"\u001b[39;49;00m)\r\n",
      "    \u001b[34mreturn\u001b[39;49;00m model\r\n",
      "\r\n",
      "\u001b[34mdef\u001b[39;49;00m \u001b[32minput_fn\u001b[39;49;00m(serialized_input_data, content_type):\r\n",
      "    \u001b[34mprint\u001b[39;49;00m(\u001b[33m'\u001b[39;49;00m\u001b[33mDeserializing the input data.\u001b[39;49;00m\u001b[33m'\u001b[39;49;00m)\r\n",
      "    \u001b[34mif\u001b[39;49;00m content_type == \u001b[33m'\u001b[39;49;00m\u001b[33mtext/plain\u001b[39;49;00m\u001b[33m'\u001b[39;49;00m:\r\n",
      "        data = serialized_input_data.decode(\u001b[33m'\u001b[39;49;00m\u001b[33mutf-8\u001b[39;49;00m\u001b[33m'\u001b[39;49;00m)\r\n",
      "        \u001b[34mreturn\u001b[39;49;00m data\r\n",
      "    \u001b[34mraise\u001b[39;49;00m \u001b[36mException\u001b[39;49;00m(\u001b[33m'\u001b[39;49;00m\u001b[33mRequested unsupported ContentType in content_type: \u001b[39;49;00m\u001b[33m'\u001b[39;49;00m + content_type)\r\n",
      "\r\n",
      "\u001b[34mdef\u001b[39;49;00m \u001b[32moutput_fn\u001b[39;49;00m(prediction_output, accept):\r\n",
      "    \u001b[34mprint\u001b[39;49;00m(\u001b[33m'\u001b[39;49;00m\u001b[33mSerializing the generated output.\u001b[39;49;00m\u001b[33m'\u001b[39;49;00m)\r\n",
      "    \u001b[34mreturn\u001b[39;49;00m \u001b[36mstr\u001b[39;49;00m(prediction_output)\r\n",
      "\r\n",
      "\u001b[34mdef\u001b[39;49;00m \u001b[32mpredict_fn\u001b[39;49;00m(input_data, model):\r\n",
      "    \u001b[34mprint\u001b[39;49;00m(\u001b[33m'\u001b[39;49;00m\u001b[33mInferring sentiment of input data.\u001b[39;49;00m\u001b[33m'\u001b[39;49;00m)\r\n",
      "\r\n",
      "    device = torch.device(\u001b[33m\"\u001b[39;49;00m\u001b[33mcuda\u001b[39;49;00m\u001b[33m\"\u001b[39;49;00m \u001b[34mif\u001b[39;49;00m torch.cuda.is_available() \u001b[34melse\u001b[39;49;00m \u001b[33m\"\u001b[39;49;00m\u001b[33mcpu\u001b[39;49;00m\u001b[33m\"\u001b[39;49;00m)\r\n",
      "    \r\n",
      "    \u001b[34mif\u001b[39;49;00m model.word_dict \u001b[35mis\u001b[39;49;00m \u001b[36mNone\u001b[39;49;00m:\r\n",
      "        \u001b[34mraise\u001b[39;49;00m \u001b[36mException\u001b[39;49;00m(\u001b[33m'\u001b[39;49;00m\u001b[33mModel has not been loaded properly, no word_dict.\u001b[39;49;00m\u001b[33m'\u001b[39;49;00m)\r\n",
      "    \r\n",
      "    \u001b[37m# TODO: Process input_data so that it is ready to be sent to our model.\u001b[39;49;00m\r\n",
      "    \u001b[37m#       You should produce two variables:\u001b[39;49;00m\r\n",
      "    \u001b[37m#         data_X   - A sequence of length 500 which represents the converted review\u001b[39;49;00m\r\n",
      "    \u001b[37m#         data_len - The length of the review\u001b[39;49;00m\r\n",
      "\r\n",
      "    data_X, data_len = convert_and_pad(model.word_dict, review_to_words(input_data))\r\n",
      "    \r\n",
      "\r\n",
      "    \u001b[37m# Using data_X and data_len we construct an appropriate input tensor. Remember\u001b[39;49;00m\r\n",
      "    \u001b[37m# that our model expects input data of the form 'len, review[500]'.\u001b[39;49;00m\r\n",
      "    data_pack = np.hstack((data_len, data_X))\r\n",
      "    data_pack = data_pack.reshape(\u001b[34m1\u001b[39;49;00m, -\u001b[34m1\u001b[39;49;00m)\r\n",
      "    \r\n",
      "    data = torch.from_numpy(data_pack)\r\n",
      "    data = data.to(device)\r\n",
      "\r\n",
      "    \u001b[37m# Make sure to put the model into evaluation mode\u001b[39;49;00m\r\n",
      "    model.eval()\r\n",
      "\r\n",
      "    \u001b[37m# TODO: Compute the result of applying the model to the input data. The variable `result` should\u001b[39;49;00m\r\n",
      "    \u001b[37m#       be a numpy array which contains a single integer which is either 1 or 0\u001b[39;49;00m\r\n",
      "    \r\n",
      "    \u001b[34mwith\u001b[39;49;00m torch.no_grad():\r\n",
      "        output = model.forward(data)\r\n",
      "        \r\n",
      "    result = np.round(output.numpy())\r\n",
      "\r\n",
      "    \u001b[34mreturn\u001b[39;49;00m result\r\n"
     ]
    }
   ],
   "source": [
    "!pygmentize serve/predict.py"
   ]
  },
  {
   "cell_type": "markdown",
   "metadata": {},
   "source": [
    "As mentioned earlier, the `model_fn` method is the same as the one provided in the training code and the `input_fn` and `output_fn` methods are very simple and your task will be to complete the `predict_fn` method. Make sure that you save the completed file as `predict.py` in the `serve` directory.\n",
    "\n",
    "**TODO**: Complete the `predict_fn()` method in the `serve/predict.py` file."
   ]
  },
  {
   "cell_type": "markdown",
   "metadata": {},
   "source": [
    "### Deploying the model\n",
    "\n",
    "Now that the custom inference code has been written, we will create and deploy our model. To begin with, we need to construct a new PyTorchModel object which points to the model artifacts created during training and also points to the inference code that we wish to use. Then we can call the deploy method to launch the deployment container.\n",
    "\n",
    "**NOTE**: The default behaviour for a deployed PyTorch model is to assume that any input passed to the predictor is a `numpy` array. In our case we want to send a string so we need to construct a simple wrapper around the `RealTimePredictor` class to accomodate simple strings. In a more complicated situation you may want to provide a serialization object, for example if you wanted to sent image data."
   ]
  },
  {
   "cell_type": "code",
   "execution_count": 51,
   "metadata": {},
   "outputs": [
    {
     "name": "stdout",
     "output_type": "stream",
     "text": [
      "-------------------------------------------------------------------------------------!"
     ]
    }
   ],
   "source": [
    "from sagemaker.predictor import RealTimePredictor\n",
    "from sagemaker.pytorch import PyTorchModel\n",
    "\n",
    "class StringPredictor(RealTimePredictor):\n",
    "    def __init__(self, endpoint_name, sagemaker_session):\n",
    "        super(StringPredictor, self).__init__(endpoint_name, sagemaker_session, content_type='text/plain')\n",
    "\n",
    "model = PyTorchModel(model_data=estimator.model_data,\n",
    "                     role = role,\n",
    "                     framework_version='0.4.0',\n",
    "                     entry_point='predict.py',\n",
    "                     source_dir='serve',\n",
    "                     predictor_cls=StringPredictor)\n",
    "predictor = model.deploy(initial_instance_count=1, instance_type='ml.m4.xlarge')"
   ]
  },
  {
   "cell_type": "markdown",
   "metadata": {},
   "source": [
    "### Testing the model\n",
    "\n",
    "Now that we have deployed our model with the custom inference code, we should test to see if everything is working. Here we test our model by loading the first `250` positive and negative reviews and send them to the endpoint, then collect the results. The reason for only sending some of the data is that the amount of time it takes for our model to process the input and then perform inference is quite long and so testing the entire data set would be prohibitive."
   ]
  },
  {
   "cell_type": "code",
   "execution_count": 52,
   "metadata": {},
   "outputs": [],
   "source": [
    "import glob\n",
    "\n",
    "def test_reviews(data_dir='../data/aclImdb', stop=250):\n",
    "    \n",
    "    results = []\n",
    "    ground = []\n",
    "    \n",
    "    # We make sure to test both positive and negative reviews    \n",
    "    for sentiment in ['pos', 'neg']:\n",
    "        \n",
    "        path = os.path.join(data_dir, 'test', sentiment, '*.txt')\n",
    "        files = glob.glob(path)\n",
    "        \n",
    "        files_read = 0\n",
    "        \n",
    "        print('Starting ', sentiment, ' files')\n",
    "        \n",
    "        # Iterate through the files and send them to the predictor\n",
    "        for f in files:\n",
    "            with open(f) as review:\n",
    "                # First, we store the ground truth (was the review positive or negative)\n",
    "                if sentiment == 'pos':\n",
    "                    ground.append(1)\n",
    "                else:\n",
    "                    ground.append(0)\n",
    "                # Read in the review and convert to 'utf-8' for transmission via HTTP\n",
    "                review_input = review.read().encode('utf-8')\n",
    "                # Send the review to the predictor and store the results\n",
    "                results.append(float(predictor.predict(review_input)))\n",
    "                \n",
    "            # Sending reviews to our endpoint one at a time takes a while so we\n",
    "            # only send a small number of reviews\n",
    "            files_read += 1\n",
    "            if files_read == stop:\n",
    "                break\n",
    "            \n",
    "    return ground, results"
   ]
  },
  {
   "cell_type": "code",
   "execution_count": 53,
   "metadata": {},
   "outputs": [
    {
     "name": "stdout",
     "output_type": "stream",
     "text": [
      "Starting  pos  files\n",
      "Starting  neg  files\n"
     ]
    }
   ],
   "source": [
    "ground, results = test_reviews()"
   ]
  },
  {
   "cell_type": "code",
   "execution_count": 54,
   "metadata": {},
   "outputs": [
    {
     "data": {
      "text/plain": [
       "0.842"
      ]
     },
     "execution_count": 54,
     "metadata": {},
     "output_type": "execute_result"
    }
   ],
   "source": [
    "from sklearn.metrics import accuracy_score\n",
    "accuracy_score(ground, results)"
   ]
  },
  {
   "cell_type": "markdown",
   "metadata": {},
   "source": [
    "As an additional test, we can try sending the `test_review` that we looked at earlier."
   ]
  },
  {
   "cell_type": "code",
   "execution_count": 55,
   "metadata": {},
   "outputs": [
    {
     "data": {
      "text/plain": [
       "b'1.0'"
      ]
     },
     "execution_count": 55,
     "metadata": {},
     "output_type": "execute_result"
    }
   ],
   "source": [
    "predictor.predict(test_review)"
   ]
  },
  {
   "cell_type": "markdown",
   "metadata": {},
   "source": [
    "Now that we know our endpoint is working as expected, we can set up the web page that will interact with it. If you don't have time to finish the project now, make sure to skip down to the end of this notebook and shut down your endpoint. You can deploy it again when you come back."
   ]
  },
  {
   "cell_type": "markdown",
   "metadata": {},
   "source": [
    "## Step 7 (again): Use the model for the web app\n",
    "\n",
    "> **TODO:** This entire section and the next contain tasks for you to complete, mostly using the AWS console.\n",
    "\n",
    "So far we have been accessing our model endpoint by constructing a predictor object which uses the endpoint and then just using the predictor object to perform inference. What if we wanted to create a web app which accessed our model? The way things are set up currently makes that not possible since in order to access a SageMaker endpoint the app would first have to authenticate with AWS using an IAM role which included access to SageMaker endpoints. However, there is an easier way! We just need to use some additional AWS services.\n",
    "\n",
    "<img src=\"Web App Diagram.svg\">\n",
    "\n",
    "The diagram above gives an overview of how the various services will work together. On the far right is the model which we trained above and which is deployed using SageMaker. On the far left is our web app that collects a user's movie review, sends it off and expects a positive or negative sentiment in return.\n",
    "\n",
    "In the middle is where some of the magic happens. We will construct a Lambda function, which you can think of as a straightforward Python function that can be executed whenever a specified event occurs. We will give this function permission to send and recieve data from a SageMaker endpoint.\n",
    "\n",
    "Lastly, the method we will use to execute the Lambda function is a new endpoint that we will create using API Gateway. This endpoint will be a url that listens for data to be sent to it. Once it gets some data it will pass that data on to the Lambda function and then return whatever the Lambda function returns. Essentially it will act as an interface that lets our web app communicate with the Lambda function.\n",
    "\n",
    "### Setting up a Lambda function\n",
    "\n",
    "The first thing we are going to do is set up a Lambda function. This Lambda function will be executed whenever our public API has data sent to it. When it is executed it will receive the data, perform any sort of processing that is required, send the data (the review) to the SageMaker endpoint we've created and then return the result.\n",
    "\n",
    "#### Part A: Create an IAM Role for the Lambda function\n",
    "\n",
    "Since we want the Lambda function to call a SageMaker endpoint, we need to make sure that it has permission to do so. To do this, we will construct a role that we can later give the Lambda function.\n",
    "\n",
    "Using the AWS Console, navigate to the **IAM** page and click on **Roles**. Then, click on **Create role**. Make sure that the **AWS service** is the type of trusted entity selected and choose **Lambda** as the service that will use this role, then click **Next: Permissions**.\n",
    "\n",
    "In the search box type `sagemaker` and select the check box next to the **AmazonSageMakerFullAccess** policy. Then, click on **Next: Review**.\n",
    "\n",
    "Lastly, give this role a name. Make sure you use a name that you will remember later on, for example `LambdaSageMakerRole`. Then, click on **Create role**.\n",
    "\n",
    "#### Part B: Create a Lambda function\n",
    "\n",
    "Now it is time to actually create the Lambda function.\n",
    "\n",
    "Using the AWS Console, navigate to the AWS Lambda page and click on **Create a function**. When you get to the next page, make sure that **Author from scratch** is selected. Now, name your Lambda function, using a name that you will remember later on, for example `sentiment_analysis_func`. Make sure that the **Python 3.6** runtime is selected and then choose the role that you created in the previous part. Then, click on **Create Function**.\n",
    "\n",
    "On the next page you will see some information about the Lambda function you've just created. If you scroll down you should see an editor in which you can write the code that will be executed when your Lambda function is triggered. In our example, we will use the code below. \n",
    "\n",
    "```python\n",
    "# We need to use the low-level library to interact with SageMaker since the SageMaker API\n",
    "# is not available natively through Lambda.\n",
    "import boto3\n",
    "\n",
    "def lambda_handler(event, context):\n",
    "\n",
    "    # The SageMaker runtime is what allows us to invoke the endpoint that we've created.\n",
    "    runtime = boto3.Session().client('sagemaker-runtime')\n",
    "\n",
    "    # Now we use the SageMaker runtime to invoke our endpoint, sending the review we were given\n",
    "    response = runtime.invoke_endpoint(EndpointName = '**ENDPOINT NAME HERE**',    # The name of the endpoint we created\n",
    "                                       ContentType = 'text/plain',                 # The data format that is expected\n",
    "                                       Body = event['body'])                       # The actual review\n",
    "\n",
    "    # The response is an HTTP response whose body contains the result of our inference\n",
    "    result = response['Body'].read().decode('utf-8')\n",
    "\n",
    "    return {\n",
    "        'statusCode' : 200,\n",
    "        'headers' : { 'Content-Type' : 'text/plain', 'Access-Control-Allow-Origin' : '*' },\n",
    "        'body' : result\n",
    "    }\n",
    "```\n",
    "\n",
    "Once you have copy and pasted the code above into the Lambda code editor, replace the `**ENDPOINT NAME HERE**` portion with the name of the endpoint that we deployed earlier. You can determine the name of the endpoint using the code cell below."
   ]
  },
  {
   "cell_type": "code",
   "execution_count": 56,
   "metadata": {},
   "outputs": [
    {
     "data": {
      "text/plain": [
       "'sagemaker-pytorch-2019-11-16-16-18-41-460'"
      ]
     },
     "execution_count": 56,
     "metadata": {},
     "output_type": "execute_result"
    }
   ],
   "source": [
    "predictor.endpoint"
   ]
  },
  {
   "cell_type": "markdown",
   "metadata": {},
   "source": [
    "Once you have added the endpoint name to the Lambda function, click on **Save**. Your Lambda function is now up and running. Next we need to create a way for our web app to execute the Lambda function.\n",
    "\n",
    "### Setting up API Gateway\n",
    "\n",
    "Now that our Lambda function is set up, it is time to create a new API using API Gateway that will trigger the Lambda function we have just created.\n",
    "\n",
    "Using AWS Console, navigate to **Amazon API Gateway** and then click on **Get started**.\n",
    "\n",
    "On the next page, make sure that **New API** is selected and give the new api a name, for example, `sentiment_analysis_api`. Then, click on **Create API**.\n",
    "\n",
    "Now we have created an API, however it doesn't currently do anything. What we want it to do is to trigger the Lambda function that we created earlier.\n",
    "\n",
    "Select the **Actions** dropdown menu and click **Create Method**. A new blank method will be created, select its dropdown menu and select **POST**, then click on the check mark beside it.\n",
    "\n",
    "For the integration point, make sure that **Lambda Function** is selected and click on the **Use Lambda Proxy integration**. This option makes sure that the data that is sent to the API is then sent directly to the Lambda function with no processing. It also means that the return value must be a proper response object as it will also not be processed by API Gateway.\n",
    "\n",
    "Type the name of the Lambda function you created earlier into the **Lambda Function** text entry box and then click on **Save**. Click on **OK** in the pop-up box that then appears, giving permission to API Gateway to invoke the Lambda function you created.\n",
    "\n",
    "The last step in creating the API Gateway is to select the **Actions** dropdown and click on **Deploy API**. You will need to create a new Deployment stage and name it anything you like, for example `prod`.\n",
    "\n",
    "You have now successfully set up a public API to access your SageMaker model. Make sure to copy or write down the URL provided to invoke your newly created public API as this will be needed in the next step. This URL can be found at the top of the page, highlighted in blue next to the text **Invoke URL**."
   ]
  },
  {
   "cell_type": "markdown",
   "metadata": {},
   "source": [
    "## Step 4: Deploying our web app\n",
    "\n",
    "Now that we have a publicly available API, we can start using it in a web app. For our purposes, we have provided a simple static html file which can make use of the public api you created earlier.\n",
    "\n",
    "In the `website` folder there should be a file called `index.html`. Download the file to your computer and open that file up in a text editor of your choice. There should be a line which contains **\\*\\*REPLACE WITH PUBLIC API URL\\*\\***. Replace this string with the url that you wrote down in the last step and then save the file.\n",
    "\n",
    "Now, if you open `index.html` on your local computer, your browser will behave as a local web server and you can use the provided site to interact with your SageMaker model.\n",
    "\n",
    "If you'd like to go further, you can host this html file anywhere you'd like, for example using github or hosting a static site on Amazon's S3. Once you have done this you can share the link with anyone you'd like and have them play with it too!\n",
    "\n",
    "> **Important Note** In order for the web app to communicate with the SageMaker endpoint, the endpoint has to actually be deployed and running. This means that you are paying for it. Make sure that the endpoint is running when you want to use the web app but that you shut it down when you don't need it, otherwise you will end up with a surprisingly large AWS bill.\n",
    "\n",
    "**TODO:** Make sure that you include the edited `index.html` file in your project submission."
   ]
  },
  {
   "cell_type": "markdown",
   "metadata": {},
   "source": [
    "Now that your web app is working, trying playing around with it and see how well it works.\n",
    "\n",
    "**Question**: Give an example of a review that you entered into your web app. What was the predicted sentiment of your example review?"
   ]
  },
  {
   "cell_type": "markdown",
   "metadata": {},
   "source": [
    "**Answer:**The movie was very good.>>the predicted sentiment give the postive feedback."
   ]
  },
  {
   "cell_type": "markdown",
   "metadata": {},
   "source": [
    "### Delete the endpoint\n",
    "\n",
    "Remember to always shut down your endpoint if you are no longer using it. You are charged for the length of time that the endpoint is running so if you forget and leave it on you could end up with an unexpectedly large bill."
   ]
  },
  {
   "cell_type": "code",
   "execution_count": 57,
   "metadata": {},
   "outputs": [],
   "source": [
    "predictor.delete_endpoint()"
   ]
  },
  {
   "cell_type": "code",
   "execution_count": null,
   "metadata": {},
   "outputs": [],
   "source": []
  },
  {
   "cell_type": "code",
   "execution_count": null,
   "metadata": {},
   "outputs": [],
   "source": []
  }
 ],
 "metadata": {
  "kernelspec": {
   "display_name": "Python 3",
   "language": "python",
   "name": "python3"
  },
  "language_info": {
   "codemirror_mode": {
    "name": "ipython",
    "version": 3
   },
   "file_extension": ".py",
   "mimetype": "text/x-python",
   "name": "python",
   "nbconvert_exporter": "python",
   "pygments_lexer": "ipython3",
   "version": "3.7.5"
  }
 },
 "nbformat": 4,
 "nbformat_minor": 2
}
